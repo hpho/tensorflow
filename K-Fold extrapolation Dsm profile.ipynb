{
 "cells": [
  {
   "cell_type": "code",
   "execution_count": 120,
   "metadata": {},
   "outputs": [
    {
     "data": {
      "text/html": [
       "<div>\n",
       "<style scoped>\n",
       "    .dataframe tbody tr th:only-of-type {\n",
       "        vertical-align: middle;\n",
       "    }\n",
       "\n",
       "    .dataframe tbody tr th {\n",
       "        vertical-align: top;\n",
       "    }\n",
       "\n",
       "    .dataframe thead th {\n",
       "        text-align: right;\n",
       "    }\n",
       "</style>\n",
       "<table border=\"1\" class=\"dataframe\">\n",
       "  <thead>\n",
       "    <tr style=\"text-align: right;\">\n",
       "      <th></th>\n",
       "      <th>model</th>\n",
       "      <th>y_data</th>\n",
       "      <th>index</th>\n",
       "    </tr>\n",
       "  </thead>\n",
       "  <tbody>\n",
       "    <tr>\n",
       "      <th>0</th>\n",
       "      <td>3.440645</td>\n",
       "      <td>3.440700</td>\n",
       "      <td>169</td>\n",
       "    </tr>\n",
       "    <tr>\n",
       "      <th>1</th>\n",
       "      <td>2.953215</td>\n",
       "      <td>2.950881</td>\n",
       "      <td>158</td>\n",
       "    </tr>\n",
       "    <tr>\n",
       "      <th>2</th>\n",
       "      <td>2.638179</td>\n",
       "      <td>2.638400</td>\n",
       "      <td>50</td>\n",
       "    </tr>\n",
       "    <tr>\n",
       "      <th>3</th>\n",
       "      <td>4.184433</td>\n",
       "      <td>4.184400</td>\n",
       "      <td>198</td>\n",
       "    </tr>\n",
       "    <tr>\n",
       "      <th>4</th>\n",
       "      <td>2.776083</td>\n",
       "      <td>2.776100</td>\n",
       "      <td>62</td>\n",
       "    </tr>\n",
       "  </tbody>\n",
       "</table>\n",
       "</div>"
      ],
      "text/plain": [
       "      model    y_data  index\n",
       "0  3.440645  3.440700    169\n",
       "1  2.953215  2.950881    158\n",
       "2  2.638179  2.638400     50\n",
       "3  4.184433  4.184400    198\n",
       "4  2.776083  2.776100     62"
      ]
     },
     "execution_count": 120,
     "metadata": {},
     "output_type": "execute_result"
    }
   ],
   "source": [
    "import pandas as pd\n",
    "import numpy as np\n",
    "import sys\n",
    "mod = sys.modules[__name__]\n",
    "import matplotlib.pyplot as plt\n",
    "%matplotlib inline\n",
    "\n",
    "num_Avg = 5\n",
    "num_Fold = 2\n",
    "\n",
    "for j in range(num_Avg):\n",
    "    for i in range(num_Fold):\n",
    "#         setattr(mod,'SGD_inter_Fold_{}_{}_{}'.format(i+1,num_Fold,j+1), pd.read_csv(r'D:\\Desktop\\SynologyDrive\\하강우\\bubble\\K_Fold\\{}_{}_inter_Fold_million_iter_Data_1{}.csv'.format(i+1,num_Fold,j+1)))\n",
    "#         setattr(mod,'SGD_extra_Fold_{}_{}_{}'.format(i+1,num_Fold,j+1), pd.read_csv(r'D:\\Desktop\\SynologyDrive\\하강우\\bubble\\K_Fold\\{}_{}_inter_Fold_million_iter_Data_1{}.csv'.format(i+1,num_Fold,j+1)))\n",
    "        setattr(mod,'RA_inter_Fold_{}_{}_{}'.format(i+1,num_Fold,j+1), pd.read_csv(r'D:\\Desktop\\SynologyDrive\\하강우\\bubble\\K_Fold\\regular_ANN_{}_{}_Fold_inter_{}.csv'.format(i+1,num_Fold,j+1)))\n",
    "#         setattr(mod,'RF_extra_Fold_{}_{}_{}'.format(i+1,num_Fold,j+1), pd.read_csv(r'D:\\Desktop\\SynologyDrive\\하강우\\bubble\\K_Fold_RF\\RF_inter_Fold_{}_{}_{}.csv'.format(i+1,num_Fold,j+1)))\n",
    "#         setattr(mod,'LR_inter_Fold_{}_{}_{}'.format(i+1,num_Fold,j+1), pd.read_csv(r'D:\\Desktop\\SynologyDrive\\하강우\\bubble\\K_Fold_Linear_reg\\Linear_reg_{}_{}_Fold_extra_{}.csv'.format(i+1,num_Fold,j+1)))\n",
    "#         setattr(mod,'PR_inter_Fold_{}_{}_{}'.format(i+1,num_Fold,j+1), pd.read_csv(r'D:\\Desktop\\SynologyDrive\\하강우\\bubble\\K_Fold_Polynomial_reg\\Polynomial_reg_{}_{}_Fold_extra_{}.csv'.format(i+1,num_Fold,j+1)))\n",
    "RA_inter_Fold_1_2_1.head()"
   ]
  },
  {
   "cell_type": "code",
   "execution_count": 121,
   "metadata": {},
   "outputs": [],
   "source": [
    "for j in range(num_Avg):\n",
    "    for i in range(num_Fold):\n",
    "#         setattr(mod,'SGD_inter_Fold_{}_{}_{}'.format(i+1,num_Fold,j+1), getattr(mod,'SGD_inter_Fold_{}_{}_{}'.format(i+1,num_Fold,j+1)).set_index(getattr(mod,'SGD_inter_Fold_{}_{}_{}'.format(i+1,num_Fold,j+1))['index']))\n",
    "#         setattr(mod,'SGD_inter_Fold_{}_{}_{}'.format(i+1,num_Fold,j+1), getattr(mod,'SGD_inter_Fold_{}_{}_{}'.format(i+1,num_Fold,j+1)).set_index(getattr(mod,'SGD_inter_Fold_{}_{}_{}'.format(i+1,num_Fold,j+1))['index']))\n",
    "        setattr(mod,'RA_inter_Fold_{}_{}_{}'.format(i+1,num_Fold,j+1), getattr(mod,'RA_inter_Fold_{}_{}_{}'.format(i+1,num_Fold,j+1)).set_index(getattr(mod,'RA_inter_Fold_{}_{}_{}'.format(i+1,num_Fold,j+1))['index']))\n",
    "#         setattr(mod,'RF_inter_Fold_{}_{}_{}'.format(i+1,num_Fold,j+1), getattr(mod,'RF_inter_Fold_{}_{}_{}'.format(i+1,num_Fold,j+1)).set_index(getattr(mod,'RF_inter_Fold_{}_{}_{}'.format(i+1,num_Fold,j+1))['Unnamed: 0']))\n",
    "#         setattr(mod,'LR_extra_Fold_{}_{}_{}'.format(i+1,num_Fold,j+1), getattr(mod,'LR_extra_Fold_{}_{}_{}'.format(i+1,num_Fold,j+1)).set_index(getattr(mod,'LR_extra_Fold_{}_{}_{}'.format(i+1,num_Fold,j+1))['index']))\n",
    "#         setattr(mod,'PR_extra_Fold_{}_{}_{}'.format(i+1,num_Fold,j+1), getattr(mod,'PR_extra_Fold_{}_{}_{}'.format(i+1,num_Fold,j+1)).set_index(getattr(mod,'PR_extra_Fold_{}_{}_{}'.format(i+1,num_Fold,j+1))['index']))\n",
    "        \n",
    "#         del getattr(mod,'SGD_inter_Fold_{}_{}_{}'.format(i+1,num_Fold,j+1))['index']\n",
    "#         del getattr(mod,'SGD_inter_Fold_{}_{}_{}'.format(i+1,num_Fold,j+1))['index']\n",
    "        del getattr(mod,'RA_inter_Fold_{}_{}_{}'.format(i+1,num_Fold,j+1))['index']\n",
    "#         del getattr(mod,'RF_inter_Fold_{}_{}_{}'.format(i+1,num_Fold,j+1))['Unnamed: 0']\n",
    "#         del getattr(mod,'LR_extra_Fold_{}_{}_{}'.format(i+1,num_Fold,j+1))['index']\n",
    "#         del getattr(mod,'PR_extra_Fold_{}_{}_{}'.format(i+1,num_Fold,j+1))['index']\n"
   ]
  },
  {
   "cell_type": "code",
   "execution_count": 122,
   "metadata": {},
   "outputs": [],
   "source": [
    "Data = pd.read_csv(r'D:\\Desktop\\SynologyDrive\\하강우\\bubble\\data\\bubble.csv')\n",
    "\n",
    "for j in range(num_Avg):\n",
    "#     setattr(mod,'SGD_inter_model_{}'.format(j+1),pd.DataFrame())\n",
    "#     getattr(mod,'SGD_inter_model_{}'.format(j+1))['model'] = [0 for i in range(len(Data))]\n",
    "    setattr(mod,'RA_inter_model_{}'.format(j+1),pd.DataFrame())\n",
    "    getattr(mod,'RA_inter_model_{}'.format(j+1))['model'] = [0 for i in range(len(Data))]\n",
    "#     setattr(mod,'RF_inter_model_{}'.format(j+1),pd.DataFrame())\n",
    "#     getattr(mod,'RF_inter_model_{}'.format(j+1))['model'] = [0 for i in range(len(Data))]\n",
    "#     setattr(mod,'LR_extra_model_{}'.format(j+1),pd.DataFrame())\n",
    "#     getattr(mod,'LR_extra_model_{}'.format(j+1))['model'] = [0 for i in range(len(Data))]\n",
    "#     setattr(mod,'PR_extra_model_{}'.format(j+1),pd.DataFrame())\n",
    "#     getattr(mod,'PR_extra_model_{}'.format(j+1))['model'] = [0 for i in range(len(Data))]\n",
    "    for i in range(num_Fold):\n",
    "#         getattr(mod,'SGD_inter_model_{}'.format(j+1))['model{}'.format(i+1)] = getattr(mod,'SGD_inter_Fold_{}_{}_{}'.format(i+1,num_Fold,j+1))['model']\n",
    "        getattr(mod,'RA_inter_model_{}'.format(j+1))['model{}'.format(i+1)] = getattr(mod,'RA_inter_Fold_{}_{}_{}'.format(i+1,num_Fold,j+1))['model']\n",
    "#         getattr(mod,'RF_inter_model_{}'.format(j+1))['model{}'.format(i+1)] = getattr(mod,'RF_inter_Fold_{}_{}_{}'.format(i+1,num_Fold,j+1))['model']\n",
    "#         getattr(mod,'LR_extra_model_{}'.format(j+1))['model{}'.format(i+1)] = getattr(mod,'LR_extra_Fold_{}_{}_{}'.format(i+1,num_Fold,j+1))['model']\n",
    "#         getattr(mod,'PR_extra_model_{}'.format(j+1))['model{}'.format(i+1)] = getattr(mod,'PR_extra_Fold_{}_{}_{}'.format(i+1,num_Fold,j+1))['model']\n",
    "#     setattr(mod,'SGD_inter_model_{}'.format(j+1), getattr(mod,'SGD_inter_model_{}'.format(j+1)).replace(np.nan, 0))\n",
    "#     setattr(mod,'SGD_inter_model_{}'.format(j+1), getattr(mod,'SGD_inter_model_{}'.format(j+1)).sum(axis=1))\n",
    "    setattr(mod,'RA_inter_model_{}'.format(j+1), getattr(mod,'RA_inter_model_{}'.format(j+1)).replace(np.nan, 0))\n",
    "    setattr(mod,'RA_inter_model_{}'.format(j+1), getattr(mod,'RA_inter_model_{}'.format(j+1)).sum(axis=1))\n",
    "#     setattr(mod,'RF_inter_model_{}'.format(j+1), getattr(mod,'RF_inter_model_{}'.format(j+1)).replace(np.nan, 0))\n",
    "#     setattr(mod,'RF_inter_model_{}'.format(j+1), getattr(mod,'RF_inter_model_{}'.format(j+1)).sum(axis=1))\n",
    "#     setattr(mod,'LR_extra_model_{}'.format(j+1), getattr(mod,'LR_extra_model_{}'.format(j+1)).replace(np.nan, 0))\n",
    "#     setattr(mod,'LR_extra_model_{}'.format(j+1), getattr(mod,'LR_extra_model_{}'.format(j+1)).sum(axis=1))\n",
    "#     setattr(mod,'PR_extra_model_{}'.format(j+1), getattr(mod,'PR_extra_model_{}'.format(j+1)).replace(np.nan, 0))\n",
    "#     setattr(mod,'PR_extra_model_{}'.format(j+1), getattr(mod,'PR_extra_model_{}'.format(j+1)).sum(axis=1))"
   ]
  },
  {
   "cell_type": "code",
   "execution_count": 123,
   "metadata": {
    "collapsed": true
   },
   "outputs": [
    {
     "data": {
      "text/plain": [
       "0      2.670149\n",
       "1      2.670149\n",
       "2      2.811445\n",
       "3      3.694702\n",
       "4      3.731502\n",
       "5      3.445639\n",
       "6      3.493760\n",
       "7      3.348564\n",
       "8      3.393991\n",
       "9      3.715544\n",
       "10     3.353154\n",
       "11     3.718839\n",
       "12     3.690358\n",
       "13     2.862759\n",
       "14     3.471906\n",
       "15     3.134939\n",
       "16     3.807551\n",
       "17     3.232140\n",
       "18     3.144155\n",
       "19     2.962341\n",
       "20     2.902097\n",
       "21     3.137548\n",
       "22     3.157639\n",
       "23     3.225017\n",
       "24     2.845157\n",
       "25     2.629038\n",
       "26     3.290240\n",
       "27     3.286279\n",
       "28     3.289159\n",
       "29     3.285215\n",
       "         ...   \n",
       "273    5.202227\n",
       "274    5.634340\n",
       "275    4.910085\n",
       "276    4.889781\n",
       "277    4.537756\n",
       "278    4.168073\n",
       "279    3.384523\n",
       "280    3.635449\n",
       "281    2.249993\n",
       "282    2.757115\n",
       "283    2.409975\n",
       "284    2.461103\n",
       "285    2.273502\n",
       "286    1.743797\n",
       "287    1.685081\n",
       "288    3.903157\n",
       "289    4.638865\n",
       "290    4.660639\n",
       "291    3.726116\n",
       "292    3.264433\n",
       "293    3.925816\n",
       "294    3.546871\n",
       "295    2.198284\n",
       "296    2.100555\n",
       "297    1.985517\n",
       "298    2.022969\n",
       "299    2.004091\n",
       "300    2.270984\n",
       "301    1.841910\n",
       "302    2.010318\n",
       "Length: 303, dtype: float64"
      ]
     },
     "execution_count": 123,
     "metadata": {},
     "output_type": "execute_result"
    }
   ],
   "source": [
    "# SGD_avg_inter_model = pd.DataFrame()\n",
    "# SGD_avg_inter_model['model'] = [0 for i in range(len(Data))]\n",
    "RA_avg_inter_model = pd.DataFrame()\n",
    "RA_avg_inter_model['model'] = [0 for i in range(len(Data))]\n",
    "# RF_avg_inter_model = pd.DataFrame()\n",
    "# RF_avg_inter_model['model'] = [0 for i in range(len(Data))]\n",
    "# LR_avg_extra_model = pd.DataFrame()\n",
    "# LR_avg_extra_model['model'] = [0 for i in range(len(Data))]\n",
    "# PR_avg_extra_model = pd.DataFrame()\n",
    "# PR_avg_extra_model['model'] = [0 for i in range(len(Data))]\n",
    "for j in range(num_Avg):\n",
    "#     SGD_avg_inter_model['model{}'.format(j+1)] = getattr(mod,'SGD_inter_model_{}'.format(j+1))\n",
    "    RA_avg_inter_model['model{}'.format(j+1)] = getattr(mod,'RA_inter_model_{}'.format(j+1))\n",
    "#     RF_avg_inter_model['model{}'.format(j+1)] = getattr(mod,'RF_inter_model_{}'.format(j+1))\n",
    "#     LR_avg_extra_model['model{}'.format(j+1)] = getattr(mod,'LR_extra_model_{}'.format(j+1))\n",
    "#     PR_avg_extra_model['model{}'.format(j+1)] = getattr(mod,'PR_extra_model_{}'.format(j+1))\n",
    "    \n",
    "# del SGD_avg_inter_model['model']\n",
    "del RA_avg_inter_model['model']\n",
    "# del RF_avg_inter_model['model']\n",
    "# del LR_avg_extra_model['model']\n",
    "# del PR_avg_extra_model['model']\n",
    "\n",
    "# SGD_std_inter = SGD_avg_inter_model.std(axis=1)\n",
    "# SGD_avg_inter = SGD_avg_inter_model.mean(axis=1)\n",
    "RA_std_inter = RA_avg_inter_model.std(axis=1)\n",
    "RA_avg_inter = RA_avg_inter_model.mean(axis=1)\n",
    "# RF_std_inter = RF_avg_inter_model.std(axis=1)\n",
    "# RF_avg_inter = RF_avg_inter_model.mean(axis=1)\n",
    "# LR_std_extra = LR_avg_extra_model.std(axis=1)\n",
    "# LR_avg_extra = LR_avg_extra_model.mean(axis=1)\n",
    "# PR_std_extra = PR_avg_extra_model.std(axis=1)\n",
    "# PR_avg_extra = PR_avg_extra_model.mean(axis=1)\n",
    "\n",
    "RA_avg_inter"
   ]
  },
  {
   "cell_type": "code",
   "execution_count": 121,
   "metadata": {},
   "outputs": [],
   "source": [
    "case_list = [[0,5],[5,20],[20,35],[35,50],[50,65],[65,80],[80,95],[95,110],[110,125],[125,140],\n",
    "             [140,155],[155,162],[162,169],[169,176],[176,183],[183,198],[198,213],[213,228],\n",
    "             [228,243],[243,258],[258,273],[273,288],[288,302]]\n",
    "R_csv = pd.read_csv(r'D:\\Desktop\\SynologyDrive\\하강우\\bubble\\data\\R.csv')\n",
    "r_R = [0, .1, .2, .3, .4, .5, .6, .7, .75, .8, .85, .875, .9, .925 ,.95]\n",
    "\n",
    "for i in 3, 4, 17, 20:\n",
    "    y_exp = (Data['Dsm/R']*R_csv['R']).iloc[case_list[i-1][0]:case_list[i-1][1]]\n",
    "\n",
    "    plt.plot(r_R, y_exp, 's--' ,color='b', ms=3, label='EXP (Hibiki et al)')\n",
    "    plt.errorbar(r_R, RA_avg_extra.iloc[case_list[i-1][0]:case_list[i-1][1]],yerr=1.96*RA_std_extra.iloc[case_list[i-1][0]:case_list[i-1][1]],fmt='cs',ms=3,linewidth=1,capsize=2,label='Regular ANN')\n",
    "    plt.errorbar(r_R, RF_avg_extra.iloc[case_list[i-1][0]:case_list[i-1][1]]*R_csv['R'].iloc[case_list[i-1][0]:case_list[i-1][1]],yerr=1.96*RF_std_extra.iloc[case_list[i-1][0]:case_list[i-1][1]],fmt='gs',ms=3,linewidth=1,capsize=2,label='Random Forest')\n",
    "    plt.errorbar(r_R, SGD_avg_extra.iloc[case_list[i-1][0]:case_list[i-1][1]],yerr=1.96*SGD_std_extra.iloc[case_list[i-1][0]:case_list[i-1][1]],fmt='rs',ms=3,linewidth=1,capsize=2,label='SGD ANN')\n",
    "    plt.plot(r_R, LR_avg_extra.iloc[case_list[i-1][0]:case_list[i-1][1]],'s--',ms=3,color='orange',linewidth=1,label='Linear Reg')\n",
    "    plt.plot(r_R, PR_avg_extra.iloc[case_list[i-1][0]:case_list[i-1][1]],'s--',ms=3,color='purple',linewidth=1,label='Polynomial Reg (quadratic)')\n",
    "    plt.axis([0,1, 0, 5])\n",
    "    plt.xticks([i*0.1 for i in range(11)])\n",
    "    plt.legend()\n",
    "    plt.grid(True)\n",
    "    plt.xlabel('r/R')\n",
    "    plt.ylabel('$D_{sm}$ (mm)')\n",
    "    plt.title('{} case extrapolation profile'.format(i))\n",
    "    plt.savefig(r'D:\\Desktop\\SynologyDrive\\하강우\\bubble\\K_Fold_RF\\case{}_extra_4_Fold_profile.png'.format(i),dpi=300)\n",
    "    plt.close()"
   ]
  },
  {
   "cell_type": "code",
   "execution_count": 122,
   "metadata": {},
   "outputs": [
    {
     "data": {
      "image/png": "[encoded data removed]",
      "text/plain": [
       "<Figure size 432x288 with 1 Axes>"
      ]
     },
     "metadata": {
      "needs_background": "light"
     },
     "output_type": "display_data"
    }
   ],
   "source": [
    "case_list = [[0,5],[5,20],[20,35],[35,50],[50,65],[65,80],[80,95],[95,110],[110,125],[125,140],\n",
    "             [140,155],[155,162],[162,169],[169,176],[176,183],[183,198],[198,213],[213,228],\n",
    "             [228,243],[243,258],[258,273],[273,288],[288,302]]\n",
    "\n",
    "plt.gca().set_aspect('equal')\n",
    "y_exp = (Data['Dsm/R']*R_csv['R']).iloc[case_list[i-1][0]:case_list[i-1][1]]"
   ]
  },
  {
   "cell_type": "code",
   "execution_count": 148,
   "metadata": {},
   "outputs": [
    {
     "data": {
      "image/png": "[encoded data removed]",
      "text/plain": [
       "<Figure size 432x288 with 1 Axes>"
      ]
     },
     "metadata": {
      "needs_background": "light"
     },
     "output_type": "display_data"
    }
   ],
   "source": [
    "case_list = [[0,5],[5,20],[20,35],[35,50],[50,65],[65,80],[80,95],[95,110],[110,125],[125,140],\n",
    "             [140,155],[155,162],[162,169],[169,176],[176,183],[183,198],[198,213],[213,228],\n",
    "             [228,243],[243,258],[258,273],[273,288],[288,302]]\n",
    "\n",
    "R_csv = pd.read_csv(r'D:\\Desktop\\SynologyDrive\\하강우\\bubble\\data\\R.csv')\n",
    "\n",
    "# RA_avg_extra.iloc[case_list[i-1][0]:case_list[i-1][1]]\n",
    "# y_exp = (Data['Dsm/R']*R_csv['R']).iloc[case_list[i-1][0]:case_list[i-1][1]]\n",
    "# x = np.linspace(0,12)\n",
    "# y1 = x*1.3\n",
    "# y2 = x*0.7\n",
    "#extra\n",
    "plt.gca().set_aspect('equal')\n",
    "for i in range(len(case_list)):\n",
    "    plt.scatter((Data['Dsm/R']*R_csv['R']).iloc[case_list[i][0]:case_list[i][1]]+0.02*np.random.randint(-10,10),(Data['Dsm/R']*R_csv['R']).iloc[case_list[i][0]:case_list[i][1]],s=10,color='b')\n",
    "plt.plot([0,12],[0,12],color='k')\n",
    "# plt.plot(x,y1,'--',color='k')\n",
    "# plt.plot(x,y2,'--',color='k')\n",
    "plt.axis([0,12,0,12])    \n",
    "plt.grid(True)\n",
    "plt.xlabel('$D_{sm}^{ANN}$ (mm)')\n",
    "plt.ylabel('$D_{sm}^{EXP}$ (mm)')\n",
    "plt.title('1/2 interpolation SGD ANN avg scatter')\n",
    "plt.savefig(r'D:\\Desktop\\SynologyDrive\\하강우\\bubble\\K_Fold_RF\\1_2_inter_SGD_scatter.png',dpi=300)"
   ]
  },
  {
   "cell_type": "code",
   "execution_count": 134,
   "metadata": {},
   "outputs": [
    {
     "data": {
      "image/png": "[encoded data removed]",
      "text/plain": [
       "<Figure size 432x288 with 1 Axes>"
      ]
     },
     "metadata": {
      "needs_background": "light"
     },
     "output_type": "display_data"
    }
   ],
   "source": [
    "x = np.linspace(0,12)\n",
    "y1 = x*1.3\n",
    "y2 = x*0.7\n",
    "#extra\n",
    "plt.gca().set_aspect('equal')\n",
    "for i in 4,5,7,8,9,10,11,12,13,14,15,18,19,20,21,22,23:\n",
    "    plt.scatter(RF_avg_extra.iloc[case_list[i-1][0]:case_list[i-1][1]],(Data['Dsm/R']*R_csv['R']).iloc[case_list[i-1][0]:case_list[i-1][1]],s=10,color='b')\n",
    "plt.plot([0,12],[0,12],color='k')\n",
    "plt.plot(x,y1,'--',color='k')\n",
    "plt.plot(x,y2,'--',color='k')\n",
    "plt.axis([0,12,0,12])    \n",
    "plt.grid(True)\n",
    "plt.xlabel('$D_{sm}^{RF}$ (mm)')\n",
    "plt.ylabel('$D_{sm}^{EXP}$ (mm)')\n",
    "plt.title('1/4 interpolation Random Forest avg scatter')\n",
    "plt.savefig(r'D:\\Desktop\\SynologyDrive\\하강우\\bubble\\K_Fold_RF\\1_4_inter_RF_scatter.png',dpi=300)"
   ]
  },
  {
   "cell_type": "code",
   "execution_count": 42,
   "metadata": {},
   "outputs": [
    {
     "name": "stdout",
     "output_type": "stream",
     "text": [
      "0.0780594731022432\n",
      "1.7294127341190149\n"
     ]
    }
   ],
   "source": [
    "def MSE(A,B):\n",
    "    return ((A-B)**2).mean()\n",
    "def ARE(A,T):\n",
    "    return ((abs((A-T)/T))*100).mean()\n",
    "\n",
    "aa = []\n",
    "bb = []\n",
    "\n",
    "for i in range(len(case_list)):\n",
    "    aa.append(MSE(SGD_avg_inter,(Data['Dsm/R']*R_csv['R']).iloc[case_list[i-1][0]:case_list[i-1][1]]))\n",
    "    bb.append(ARE(SGD_avg_inter,(Data['Dsm/R']*R_csv['R']).iloc[case_list[i-1][0]:case_list[i-1][1]]))\n",
    "print(np.sqrt(sum(aa)/len(aa)))\n",
    "print(sum(bb)/len(bb))"
   ]
  },
  {
   "cell_type": "code",
   "execution_count": 43,
   "metadata": {},
   "outputs": [
    {
     "ename": "NameError",
     "evalue": "name 'SGD_avg_extra' is not defined",
     "output_type": "error",
     "traceback": [
      "\u001b[1;31m---------------------------------------------------------------------------\u001b[0m",
      "\u001b[1;31mNameError\u001b[0m                                 Traceback (most recent call last)",
      "\u001b[1;32m<ipython-input-43-982f43e2adc3>\u001b[0m in \u001b[0;36m<module>\u001b[1;34m\u001b[0m\n\u001b[0;32m      3\u001b[0m \u001b[1;33m\u001b[0m\u001b[0m\n\u001b[0;32m      4\u001b[0m \u001b[1;32mfor\u001b[0m \u001b[0mi\u001b[0m \u001b[1;32min\u001b[0m \u001b[1;36m4\u001b[0m\u001b[1;33m,\u001b[0m\u001b[1;36m5\u001b[0m\u001b[1;33m,\u001b[0m\u001b[1;36m7\u001b[0m\u001b[1;33m,\u001b[0m\u001b[1;36m8\u001b[0m\u001b[1;33m,\u001b[0m\u001b[1;36m9\u001b[0m\u001b[1;33m,\u001b[0m\u001b[1;36m10\u001b[0m\u001b[1;33m,\u001b[0m\u001b[1;36m11\u001b[0m\u001b[1;33m,\u001b[0m\u001b[1;36m12\u001b[0m\u001b[1;33m,\u001b[0m\u001b[1;36m13\u001b[0m\u001b[1;33m,\u001b[0m\u001b[1;36m14\u001b[0m\u001b[1;33m,\u001b[0m\u001b[1;36m15\u001b[0m\u001b[1;33m,\u001b[0m\u001b[1;36m18\u001b[0m\u001b[1;33m,\u001b[0m\u001b[1;36m19\u001b[0m\u001b[1;33m,\u001b[0m\u001b[1;36m20\u001b[0m\u001b[1;33m,\u001b[0m\u001b[1;36m21\u001b[0m\u001b[1;33m,\u001b[0m\u001b[1;36m22\u001b[0m\u001b[1;33m,\u001b[0m\u001b[1;36m23\u001b[0m\u001b[1;33m:\u001b[0m\u001b[1;33m\u001b[0m\u001b[0m\n\u001b[1;32m----> 5\u001b[1;33m     \u001b[0maa\u001b[0m\u001b[1;33m.\u001b[0m\u001b[0mappend\u001b[0m\u001b[1;33m(\u001b[0m\u001b[0mMSE\u001b[0m\u001b[1;33m(\u001b[0m\u001b[0mSGD_avg_extra\u001b[0m\u001b[1;33m.\u001b[0m\u001b[0miloc\u001b[0m\u001b[1;33m[\u001b[0m\u001b[0mcase_list\u001b[0m\u001b[1;33m[\u001b[0m\u001b[0mi\u001b[0m\u001b[1;33m-\u001b[0m\u001b[1;36m1\u001b[0m\u001b[1;33m]\u001b[0m\u001b[1;33m[\u001b[0m\u001b[1;36m0\u001b[0m\u001b[1;33m]\u001b[0m\u001b[1;33m:\u001b[0m\u001b[0mcase_list\u001b[0m\u001b[1;33m[\u001b[0m\u001b[0mi\u001b[0m\u001b[1;33m-\u001b[0m\u001b[1;36m1\u001b[0m\u001b[1;33m]\u001b[0m\u001b[1;33m[\u001b[0m\u001b[1;36m1\u001b[0m\u001b[1;33m]\u001b[0m\u001b[1;33m]\u001b[0m\u001b[1;33m,\u001b[0m\u001b[1;33m(\u001b[0m\u001b[0mData\u001b[0m\u001b[1;33m[\u001b[0m\u001b[1;34m'Dsm/R'\u001b[0m\u001b[1;33m]\u001b[0m\u001b[1;33m*\u001b[0m\u001b[0mR_csv\u001b[0m\u001b[1;33m[\u001b[0m\u001b[1;34m'R'\u001b[0m\u001b[1;33m]\u001b[0m\u001b[1;33m)\u001b[0m\u001b[1;33m.\u001b[0m\u001b[0miloc\u001b[0m\u001b[1;33m[\u001b[0m\u001b[0mcase_list\u001b[0m\u001b[1;33m[\u001b[0m\u001b[0mi\u001b[0m\u001b[1;33m-\u001b[0m\u001b[1;36m1\u001b[0m\u001b[1;33m]\u001b[0m\u001b[1;33m[\u001b[0m\u001b[1;36m0\u001b[0m\u001b[1;33m]\u001b[0m\u001b[1;33m:\u001b[0m\u001b[0mcase_list\u001b[0m\u001b[1;33m[\u001b[0m\u001b[0mi\u001b[0m\u001b[1;33m-\u001b[0m\u001b[1;36m1\u001b[0m\u001b[1;33m]\u001b[0m\u001b[1;33m[\u001b[0m\u001b[1;36m1\u001b[0m\u001b[1;33m]\u001b[0m\u001b[1;33m]\u001b[0m\u001b[1;33m)\u001b[0m\u001b[1;33m)\u001b[0m\u001b[1;33m\u001b[0m\u001b[0m\n\u001b[0m\u001b[0;32m      6\u001b[0m     \u001b[0mbb\u001b[0m\u001b[1;33m.\u001b[0m\u001b[0mappend\u001b[0m\u001b[1;33m(\u001b[0m\u001b[0mARE\u001b[0m\u001b[1;33m(\u001b[0m\u001b[0mSGD_avg_extra\u001b[0m\u001b[1;33m.\u001b[0m\u001b[0miloc\u001b[0m\u001b[1;33m[\u001b[0m\u001b[0mcase_list\u001b[0m\u001b[1;33m[\u001b[0m\u001b[0mi\u001b[0m\u001b[1;33m-\u001b[0m\u001b[1;36m1\u001b[0m\u001b[1;33m]\u001b[0m\u001b[1;33m[\u001b[0m\u001b[1;36m0\u001b[0m\u001b[1;33m]\u001b[0m\u001b[1;33m:\u001b[0m\u001b[0mcase_list\u001b[0m\u001b[1;33m[\u001b[0m\u001b[0mi\u001b[0m\u001b[1;33m-\u001b[0m\u001b[1;36m1\u001b[0m\u001b[1;33m]\u001b[0m\u001b[1;33m[\u001b[0m\u001b[1;36m1\u001b[0m\u001b[1;33m]\u001b[0m\u001b[1;33m]\u001b[0m\u001b[1;33m,\u001b[0m\u001b[1;33m(\u001b[0m\u001b[0mData\u001b[0m\u001b[1;33m[\u001b[0m\u001b[1;34m'Dsm/R'\u001b[0m\u001b[1;33m]\u001b[0m\u001b[1;33m*\u001b[0m\u001b[0mR_csv\u001b[0m\u001b[1;33m[\u001b[0m\u001b[1;34m'R'\u001b[0m\u001b[1;33m]\u001b[0m\u001b[1;33m)\u001b[0m\u001b[1;33m.\u001b[0m\u001b[0miloc\u001b[0m\u001b[1;33m[\u001b[0m\u001b[0mcase_list\u001b[0m\u001b[1;33m[\u001b[0m\u001b[0mi\u001b[0m\u001b[1;33m-\u001b[0m\u001b[1;36m1\u001b[0m\u001b[1;33m]\u001b[0m\u001b[1;33m[\u001b[0m\u001b[1;36m0\u001b[0m\u001b[1;33m]\u001b[0m\u001b[1;33m:\u001b[0m\u001b[0mcase_list\u001b[0m\u001b[1;33m[\u001b[0m\u001b[0mi\u001b[0m\u001b[1;33m-\u001b[0m\u001b[1;36m1\u001b[0m\u001b[1;33m]\u001b[0m\u001b[1;33m[\u001b[0m\u001b[1;36m1\u001b[0m\u001b[1;33m]\u001b[0m\u001b[1;33m]\u001b[0m\u001b[1;33m)\u001b[0m\u001b[1;33m)\u001b[0m\u001b[1;33m\u001b[0m\u001b[0m\n\u001b[0;32m      7\u001b[0m \u001b[0mprint\u001b[0m\u001b[1;33m(\u001b[0m\u001b[0mnp\u001b[0m\u001b[1;33m.\u001b[0m\u001b[0msqrt\u001b[0m\u001b[1;33m(\u001b[0m\u001b[0msum\u001b[0m\u001b[1;33m(\u001b[0m\u001b[0maa\u001b[0m\u001b[1;33m)\u001b[0m\u001b[1;33m/\u001b[0m\u001b[0mlen\u001b[0m\u001b[1;33m(\u001b[0m\u001b[0maa\u001b[0m\u001b[1;33m)\u001b[0m\u001b[1;33m)\u001b[0m\u001b[1;33m)\u001b[0m\u001b[1;33m\u001b[0m\u001b[0m\n",
      "\u001b[1;31mNameError\u001b[0m: name 'SGD_avg_extra' is not defined"
     ]
    }
   ],
   "source": [
    "aa = []\n",
    "bb = []\n",
    "\n",
    "for i in 4,5,7,8,9,10,11,12,13,14,15,18,19,20,21,22,23:\n",
    "    aa.append(MSE(SGD_avg_extra.iloc[case_list[i-1][0]:case_list[i-1][1]],(Data['Dsm/R']*R_csv['R']).iloc[case_list[i-1][0]:case_list[i-1][1]]))\n",
    "    bb.append(ARE(SGD_avg_extra.iloc[case_list[i-1][0]:case_list[i-1][1]],(Data['Dsm/R']*R_csv['R']).iloc[case_list[i-1][0]:case_list[i-1][1]]))\n",
    "print(np.sqrt(sum(aa)/len(aa)))\n",
    "print(sum(bb)/len(bb))"
   ]
  },
  {
   "cell_type": "code",
   "execution_count": 145,
   "metadata": {},
   "outputs": [
    {
     "data": {
      "image/png": "[encoded data removed]",
      "text/plain": [
       "<Figure size 432x288 with 1 Axes>"
      ]
     },
     "metadata": {
      "needs_background": "light"
     },
     "output_type": "display_data"
    }
   ],
   "source": [
    "plt.gca().set_aspect(\"equal\")\n",
    "for i in range(5):\n",
    "    \n",
    "    if i>1:\n",
    "        plt.scatter(getattr(mod,'Data{}'.format(i+1))['model'], (Data['Dsm/R']*R_csv['R']).iloc[:-1], s=10,color='b')\n",
    "    else :\n",
    "        plt.scatter(getattr(mod,'Data{}'.format(i+1))['model'], Data['Dsm/R']*R_csv['R'], s=10,color='b')\n",
    "    \n",
    "plt.plot([0,12],[0,12],color='k')\n",
    "plt.axis([0,12,0,12])    \n",
    "plt.grid(True)\n",
    "plt.xlabel('$D_{sm}^{ANN}$ (mm)')\n",
    "plt.ylabel('$D_{sm}^{EXP}$ (mm)')\n",
    "plt.title('case fold extrapolation SGD ANN full scatter')\n",
    "plt.savefig(r'D:\\Desktop\\SynologyDrive\\하강우\\bubble\\K_Fold_RF\\case_Fold_extra_SGD_Full_scatter.png',dpi=300)\n"
   ]
  },
  {
   "cell_type": "code",
   "execution_count": 126,
   "metadata": {},
   "outputs": [
    {
     "name": "stdout",
     "output_type": "stream",
     "text": [
      "0.5686847081867148\n",
      "13.886955789355817\n"
     ]
    }
   ],
   "source": [
    "def MSE(A,B):\n",
    "    return ((A-B)**2).mean()\n",
    "def ARE(A,T):\n",
    "    return ((abs((A-T)/T))*100).mean()\n",
    "\n",
    "print(np.sqrt(MSE(RA_avg_inter,Data['Dsm/R']*R_csv['R'])))\n",
    "print(ARE(RA_avg_inter,Data['Dsm/R']*R_csv['R']))"
   ]
  },
  {
   "cell_type": "code",
   "execution_count": 127,
   "metadata": {},
   "outputs": [
    {
     "name": "stdout",
     "output_type": "stream",
     "text": [
      "2.0102577080484485\n",
      "34.625157422798424\n"
     ]
    }
   ],
   "source": [
    "aa = []\n",
    "bb = []\n",
    "for i in range(num_Fold):\n",
    "    aa.append(MSE(RA_avg_inter_model['model{}'.format(i+1)], Data['Dsm/R']*R_csv['R']))\n",
    "    bb.append(ARE(RA_avg_inter_model['model{}'.format(i+1)], Data['Dsm/R']*R_csv['R']))\n",
    "\n",
    "print(np.sqrt(sum(aa)/len(aa)))\n",
    "print(sum(bb)/len(bb))"
   ]
  },
  {
   "cell_type": "code",
   "execution_count": 134,
   "metadata": {},
   "outputs": [
    {
     "data": {
      "text/html": [
       "<div>\n",
       "<style scoped>\n",
       "    .dataframe tbody tr th:only-of-type {\n",
       "        vertical-align: middle;\n",
       "    }\n",
       "\n",
       "    .dataframe tbody tr th {\n",
       "        vertical-align: top;\n",
       "    }\n",
       "\n",
       "    .dataframe thead th {\n",
       "        text-align: right;\n",
       "    }\n",
       "</style>\n",
       "<table border=\"1\" class=\"dataframe\">\n",
       "  <thead>\n",
       "    <tr style=\"text-align: right;\">\n",
       "      <th></th>\n",
       "      <th>model</th>\n",
       "      <th>y_data</th>\n",
       "    </tr>\n",
       "  </thead>\n",
       "  <tbody>\n",
       "    <tr>\n",
       "      <th>0</th>\n",
       "      <td>3.166638</td>\n",
       "      <td>3.5498</td>\n",
       "    </tr>\n",
       "    <tr>\n",
       "      <th>1</th>\n",
       "      <td>3.166638</td>\n",
       "      <td>3.5498</td>\n",
       "    </tr>\n",
       "    <tr>\n",
       "      <th>2</th>\n",
       "      <td>3.189353</td>\n",
       "      <td>3.6405</td>\n",
       "    </tr>\n",
       "    <tr>\n",
       "      <th>3</th>\n",
       "      <td>3.203743</td>\n",
       "      <td>3.6949</td>\n",
       "    </tr>\n",
       "    <tr>\n",
       "      <th>4</th>\n",
       "      <td>3.277804</td>\n",
       "      <td>3.7311</td>\n",
       "    </tr>\n",
       "  </tbody>\n",
       "</table>\n",
       "</div>"
      ],
      "text/plain": [
       "      model  y_data\n",
       "0  3.166638  3.5498\n",
       "1  3.166638  3.5498\n",
       "2  3.189353  3.6405\n",
       "3  3.203743  3.6949\n",
       "4  3.277804  3.7311"
      ]
     },
     "execution_count": 134,
     "metadata": {},
     "output_type": "execute_result"
    }
   ],
   "source": [
    "for i in range(5):\n",
    "    setattr(mod,'Data{}'.format(i+1), pd.read_csv(r'D:\\Desktop\\SynologyDrive\\하강우\\bubble\\wallcoresnu\\ANN_extra_{}.csv'.format(i+1)))\n",
    "    \n",
    "Data1.head()"
   ]
  },
  {
   "cell_type": "code",
   "execution_count": 135,
   "metadata": {},
   "outputs": [
    {
     "name": "stdout",
     "output_type": "stream",
     "text": [
      "0.3764758210234952\n",
      "7.386712900474815\n"
     ]
    }
   ],
   "source": [
    "aa = []\n",
    "bb = []\n",
    "for i in range(5):\n",
    "    aa.append(MSE(getattr(mod,'Data{}'.format(i+1))['model'], Data['Dsm/R']*R_csv['R']))\n",
    "    bb.append(ARE(getattr(mod,'Data{}'.format(i+1))['model'], Data['Dsm/R']*R_csv['R']))\n",
    "\n",
    "print(np.sqrt(sum(aa)/len(aa)))\n",
    "print(sum(bb)/len(bb))"
   ]
  },
  {
   "cell_type": "code",
   "execution_count": 140,
   "metadata": {},
   "outputs": [
    {
     "name": "stdout",
     "output_type": "stream",
     "text": [
      "303\n",
      "303\n",
      "302\n",
      "302\n",
      "302\n"
     ]
    }
   ],
   "source": [
    "for i in range(5):\n",
    "    print(len(getattr(mod,'Data{}'.format(i+1))))"
   ]
  },
  {
   "cell_type": "code",
   "execution_count": null,
   "metadata": {},
   "outputs": [],
   "source": []
  }
 ],
 "metadata": {
  "kernelspec": {
   "display_name": "Python 3",
   "language": "python",
   "name": "python3"
  },
  "language_info": {
   "codemirror_mode": {
    "name": "ipython",
    "version": 3
   },
   "file_extension": ".py",
   "mimetype": "text/x-python",
   "name": "python",
   "nbconvert_exporter": "python",
   "pygments_lexer": "ipython3",
   "version": "3.5.2"
  }
 },
 "nbformat": 4,
 "nbformat_minor": 2
}
