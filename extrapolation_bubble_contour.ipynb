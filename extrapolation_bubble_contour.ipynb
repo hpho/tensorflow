{
 "cells": [
  {
   "cell_type": "code",
   "execution_count": null,
   "metadata": {},
   "outputs": [],
   "source": [
    "import tensorflow as tf\n",
    "import pandas as pd\n",
    "import numpy as np\n",
    "# dir = 'D:\\Desktop\\SynologyDrive\\하강우\\bubble\\nn_model\\1Fold'\n",
    "# Data = pd.read_csv(r'D:\\Desktop\\SynologyDrive\\하강우\\bubble\\data\\bubble.csv')\n",
    "# Data.head()\n",
    "# data = pd.read_csv(r'D:\\Desktop\\SynologyDrive\\하강우\\bubble\\data\\bubble.csv')"
   ]
  },
  {
   "cell_type": "code",
   "execution_count": null,
   "metadata": {},
   "outputs": [],
   "source": [
    "def stz(Data):\n",
    "    return (Data - Data.mean())/Data.std()\n",
    "\n",
    "def extra_stz(extra_Data,orig_Data):\n",
    "    return (extra_Data - orig_Data.mean())/orig_Data.std()\n",
    "\n",
    "def norm(Data, min_norm=-0.9, max_norm=0.9):\n",
    "    return (Data - Data.min())/(Data.max() - Data.min())*(max_norm - min_norm) + min_norm\n",
    "\n",
    "def extra_norm(extra_Data, orig_Data, min_norm=-0.9, max_norm=0.9):\n",
    "    return (extra_Data - orig_Data.min())/(orig_Data.max() - orig_Data.min())*(max_norm - min_norm) + min_norm\n",
    "\n",
    "# stz_Data = stz(Data)\n",
    "# norm_Data = norm(Data)\n",
    "# All_Data = pd.DataFrame()\n",
    "# All_Data[Data.columns[0:3]] = norm_Data[Data.columns[0:3]]\n",
    "# All_Data[Data.columns[3]] = stz_Data[Data.columns[3]]\n",
    "# All_Data[Data.columns[4]] = norm_Data[Data.columns[4]]\n",
    "# All_Data[Data.columns[5]] = stz_Data[Data.columns[5]]\n",
    "\n",
    "All_Data.head()"
   ]
  },
  {
   "cell_type": "code",
   "execution_count": null,
   "metadata": {},
   "outputs": [],
   "source": [
    "from tensorflow.keras import models, layers\n",
    "act_f = 'elu'\n",
    "init = 'random_uniform'\n",
    "for k in range(10):\n",
    "    model = models.Sequential()\n",
    "    model.add(layers.Dense(20, activation=act_f, input_shape=(2,), kernel_initializer=init))\n",
    "    model.add(layers.Dense(20, activation=act_f, kernel_initializer=init))\n",
    "    model.add(layers.Dense(20, activation=act_f, kernel_initializer=init))\n",
    "    model.add(layers.Dense(20, activation=act_f, kernel_initializer=init))\n",
    "    model.add(layers.Dense(20, activation=act_f, kernel_initializer=init))\n",
    "    model.add(layers.Dense(20, activation=act_f, kernel_initializer=init))\n",
    "    model.add(layers.Dense(1))\n",
    "    opt = tf.keras.optimizers.Adam(lr=0.001)\n",
    "    model.compile(optimizer=opt,loss='mse',metrics=[tf.keras.metrics.RootMeanSquaredError()])\n",
    "    for i in range(30000):\n",
    "        model.fit(stz_data[stz_data.columns[:-1]],stz_data[stz_data.columns[-1:]],epochs=1,batch_size=8)\n",
    "#     model.fit(stz_data[stz_data.columns[:-1]],stz_data[stz_data.columns[-1:]],epochs=30000)\n",
    "\n",
    "    model.save(r'D:\\Desktop\\SynologyDrive\\하강우\\bubble\\contour\\boil_sgd_elu_6_layer_ann{}.h5'.format(k+1))"
   ]
  },
  {
   "cell_type": "code",
   "execution_count": null,
   "metadata": {
    "scrolled": true
   },
   "outputs": [],
   "source": [
    "import sys\n",
    "mod = sys.modules[__name__]\n",
    "dff = pd.DataFrame()\n",
    "for i in range(10):\n",
    "    setattr(mod,'model{}'.format(i+1),tf.keras.models.load_model(r'D:\\Desktop\\SynologyDrive\\하강우\\bubble\\contour\\boil_regular_elu_6_layer_ann{}.h5'.format(i+1)))\n",
    "    dff['model{}'.format(i+1)] = getattr(mod,'model{}'.format(i+1)).predict(extra_All_Data).flatten()\n",
    "\n",
    "dff.mean(axis=1)"
   ]
  },
  {
   "cell_type": "code",
   "execution_count": null,
   "metadata": {},
   "outputs": [],
   "source": [
    "model = tf.keras.models.load_model(r'D:\\Desktop\\SynologyDrive\\하강우\\bubble\\contour\\boil_regular_elu_6_layer_ann1.h5')\n",
    "model.summary()"
   ]
  },
  {
   "cell_type": "code",
   "execution_count": null,
   "metadata": {},
   "outputs": [],
   "source": [
    "model2 = tf.keras.models.load_model(r'D:\\Desktop\\SynologyDrive\\하강우\\bubble\\contour\\sgd_elu_ann1.h5')\n",
    "model2.summary()"
   ]
  },
  {
   "cell_type": "code",
   "execution_count": null,
   "metadata": {},
   "outputs": [],
   "source": [
    "x = np.linspace(0,0.052315463,100)\n",
    "y = np.linspace(0,1.2,100)\n",
    "X,Y = np.meshgrid(x,y)\n",
    "# X\n",
    "extra_data = pd.DataFrame()\n",
    "# extra_data['alpha_G'] = X.flatten()\n",
    "# extra_data['uf/Jf'] = Y.flatten()\n",
    "# extra_data['Re'] = 218052\n",
    "# extra_data['Jg/Jf'] = 0.2454\n",
    "# extra_data['ug/Jf'] = 1.3455\n",
    "# extra_data = extra_data[['Re','Jg/Jf','alpha_G','uf/Jf','ug/Jf']]\n",
    "\n",
    "extra_data['Ja'] = X.flatten()\n",
    "extra_data['Re'] = Y.flatten()\n",
    "\n",
    "extra_data.head()"
   ]
  },
  {
   "cell_type": "code",
   "execution_count": null,
   "metadata": {},
   "outputs": [],
   "source": [
    "extra_stz_Data = extra_stz(extra_data,Data)\n",
    "extra_norm_Data = extra_norm(extra_data,Data)\n",
    "# extra_All_Data = pd.DataFrame()\n",
    "# extra_All_Data[extra_data.columns[0:3]] = extra_norm_Data[extra_data.columns[0:3]]\n",
    "# extra_All_Data[extra_data.columns[3]] = extra_stz_Data[extra_data.columns[3]]\n",
    "# extra_All_Data[extra_data.columns[4]] = extra_norm_Data[extra_data.columns[4]]\n",
    "\n",
    "extra_All_Data = extra_stz(extra_data,Data)\n",
    "del extra_All_Data['D_bd/Lo']\n",
    "extra_All_Data.head()"
   ]
  },
  {
   "cell_type": "code",
   "execution_count": null,
   "metadata": {},
   "outputs": [],
   "source": [
    "del \n",
    "extra_data['D_bd/Lo'] = dff.mean(axis=1)\n",
    "extra_data['D_bd/Lo'] = extra_data['D_bd/Lo']*Data['D_bd/Lo'].std() + Data['D_bd/Lo'].mean()\n",
    "extra_data['Dsm/R'] = extra_data['Dsm/R']*Data['Dsm/R'].std() + Data['Dsm/R'].mean()\n",
    "extra_data.head()"
   ]
  },
  {
   "cell_type": "code",
   "execution_count": null,
   "metadata": {},
   "outputs": [],
   "source": [
    "extra_data['D_bd/Lo'] = dff.mean(axis=1)\n",
    "extra_data['D_bd/Lo'] = extra_data['D_bd/Lo']*Data['D_bd/Lo'].std() + Data['D_bd/Lo'].mean()\n",
    "# del extra_data['Dsm/R']\n",
    "extra_data.head()"
   ]
  },
  {
   "cell_type": "code",
   "execution_count": null,
   "metadata": {},
   "outputs": [],
   "source": [
    "extra_data['D_bd/Lo'] = model3.predict(extra_All_Data).flatten()\n",
    "extra_data['D_bd/Lo'] = extra_data['D_bd/Lo']*Data['D_bd/Lo'].std() + Data['D_bd/Lo'].mean()\n",
    "extra_data.head()\n",
    "# extra_data.to_csv(r'D:\\Desktop\\SynologyDrive\\하강우\\bubble\\contour\\ann2_contour_201126.csv',header=True,index=False)"
   ]
  },
  {
   "cell_type": "code",
   "execution_count": null,
   "metadata": {},
   "outputs": [],
   "source": [
    "extra_data.to_csv(r'D:\\Desktop\\SynologyDrive\\하강우\\bubble\\contour\\ann_contour_201126.csv',header=True,index=False)"
   ]
  },
  {
   "cell_type": "code",
   "execution_count": null,
   "metadata": {},
   "outputs": [],
   "source": [
    "from sklearn.ensemble import RandomForestRegressor\n",
    "rf_model = RandomForestRegressor(n_estimators=3000,max_depth=9)\n",
    "rf_model.fit(All_Data[All_Data.columns[:-1]],All_Data[All_Data.columns[-1:]])"
   ]
  },
  {
   "cell_type": "code",
   "execution_count": null,
   "metadata": {},
   "outputs": [],
   "source": [
    "# aa = rf_model.predict(extra_All_Data).flatten()\n",
    "extra_data['Dsm/R'] = rf_model.predict(extra_All_Data).flatten()\n",
    "extra_data['Dsm/R'] = extra_data['Dsm/R']*Data['Dsm/R'].std() + Data['Dsm/R'].mean()\n",
    "# extra_data.to_csv(r'D:\\Desktop\\SynologyDrive\\하강우\\bubble\\contour\\rf_contour_201126.csv',header=True,index=False)\n"
   ]
  },
  {
   "cell_type": "code",
   "execution_count": null,
   "metadata": {},
   "outputs": [],
   "source": [
    "import matplotlib.pyplot as plt\n",
    "%matplotlib inline\n",
    "\n",
    "plt.scatter(All_Data[All_Data.columns[-1:]],model.predict(All_Data[All_Data.columns[:-1]]).flatten())"
   ]
  },
  {
   "cell_type": "code",
   "execution_count": null,
   "metadata": {},
   "outputs": [],
   "source": [
    "# df = data[(data['Re'] == 46357.66878) & (data['Jg/Jf'] == 0.5740)]   # ug/Jf 1.930504 , alpha_G : 0 ~ 1 , uf/Jf : 1 ~ 2.2\n",
    "data['Re'].unique()\n",
    "data[(data['Re'] == 218052.7383)]\n",
    "data[(data['Re'] == 218052.7383) & (data['Jg/Jf'] == 0.7800)] # Re 218052.7383 Jg/Jf : 0.78 alpha_G : 0~1 uf/Jf 1~3 ug/Jf : 2.2082773333333336 "
   ]
  },
  {
   "cell_type": "code",
   "execution_count": null,
   "metadata": {},
   "outputs": [],
   "source": [
    "plt.figure(figsize=(5,7))\n",
    "plt.gca().set_aspect('equal')\n",
    "plt.contourf(X,Y,np.array(extra_data['Dsm/R']).reshape(100,100),cmap='bwr')\n",
    "# plt.tricontourf(df['alpha_G'],df['uf/Jf'],df['Dsm/R'],cmap='bwr')\n",
    "plt.colorbar()\n",
    "plt.title('regular ann model')"
   ]
  },
  {
   "cell_type": "code",
   "execution_count": null,
   "metadata": {},
   "outputs": [],
   "source": [
    "plt.figure(figsize=(5,5))\n",
    "# plt.gca().set_aspect('equal')\n",
    "plt.contourf(X,Y,np.array(extra_data['D_bd/Lo']).reshape(100,100),cmap='jet')\n",
    "# plt.tricontourf(data['Ja'],data['Re'],data['D_bd/Lo'],cmap='jet')\n",
    "# plt.tricontourf(df['alpha_G'],df['uf/Jf'],df['Dsm/R'],cmap='bwr')\n",
    "plt.clim([0.15,1.05])\n",
    "# plt.colorbar()\n",
    "plt.title('full-batch 6layers elu ann model')"
   ]
  },
  {
   "cell_type": "code",
   "execution_count": null,
   "metadata": {},
   "outputs": [],
   "source": [
    "import matplotlib.pyplot as plt\n",
    "import numpy as np\n",
    "from mpl_toolkits.mplot3d import Axes3D\n",
    "# n = 100\n",
    "# xmin, xmax, ymin, ymax, zmin, zmax = 0, 20, 0, 20, 0, 50\n",
    "cmin, cmax = 0, 2\n",
    "\n",
    "# xs = np.array([(xmax - xmin) * np.random.random_sample() + xmin for i in range(n)])\n",
    "# ys = np.array([(ymax - ymin) * np.random.random_sample() + ymin for i in range(n)])\n",
    "# zs = np.array([(zmax - zmin) * np.random.random_sample() + zmin for i in range(n)])\n",
    "color = np.array([(cmax - cmin) * np.random.random_sample() + cmin for i in range(100)])\n",
    "\n",
    "df = df.sort_values(['alpha_G','uf/Jf','ug/Jf','Dsm/R'])\n",
    "fig = plt.figure(figsize=(6, 6))\n",
    "ax = fig.add_subplot(111, projection='3d')\n",
    "# df['ug/Jf']\n",
    "ax.tricontour(df['alpha_G'], df['uf/Jf'],df['Dsm/R'],cmap='bwr')\n",
    "# ax.axis([0,1,0,2])\n",
    "# ax.colorbar()"
   ]
  },
  {
   "cell_type": "code",
   "execution_count": null,
   "metadata": {},
   "outputs": [],
   "source": [
    "Data = pd.read_csv(r'D:\\Desktop\\SynologyDrive\\하강우\\AI\\bdd6_nd.csv')\n",
    "Data.head()\n"
   ]
  },
  {
   "cell_type": "code",
   "execution_count": null,
   "metadata": {},
   "outputs": [],
   "source": [
    "import matplotlib.pyplot as plt\n",
    "%matplotlib inline\n",
    "plt.figure(figsize=(6,5))\n",
    "# plt.gca().set_aspect('equal')\n",
    "plt.tricontourf(data['Ja'],data['Re'],data['D_bd/Lo'],cmap='jet')\n",
    "plt.colorbar()"
   ]
  },
  {
   "cell_type": "code",
   "execution_count": null,
   "metadata": {},
   "outputs": [],
   "source": [
    "data['Ja'].max()"
   ]
  },
  {
   "cell_type": "code",
   "execution_count": null,
   "metadata": {},
   "outputs": [],
   "source": [
    "plt.figure(figsize=(6,5))\n",
    "plt.scatter(data['Ja'],data['Re'], c=data['D_bd/Lo'], cmap='jet')\n",
    "plt.colorbar()"
   ]
  },
  {
   "cell_type": "code",
   "execution_count": null,
   "metadata": {},
   "outputs": [],
   "source": []
  }
 ],
 "metadata": {
  "kernelspec": {
   "display_name": "Python 3",
   "language": "python",
   "name": "python3"
  },
  "language_info": {
   "codemirror_mode": {
    "name": "ipython",
    "version": 3
   },
   "file_extension": ".py",
   "mimetype": "text/x-python",
   "name": "python",
   "nbconvert_exporter": "python",
   "pygments_lexer": "ipython3",
   "version": "3.5.2"
  }
 },
 "nbformat": 4,
 "nbformat_minor": 2
}
