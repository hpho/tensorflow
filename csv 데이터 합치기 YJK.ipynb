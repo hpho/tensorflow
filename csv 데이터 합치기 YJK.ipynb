{
 "cells": [
  {
   "cell_type": "code",
   "execution_count": 15,
   "metadata": {},
   "outputs": [],
   "source": [
    "import pandas as pd\n",
    "\n",
    "Data1 = pd.read_csv(r'D:\\Desktop\\190305\\csvfile\\new\\youngjae_csv\\Full_wedge_Re180_Pr0_2.csv')\n",
    "Data2 = pd.read_csv(r'D:\\Desktop\\190305\\csvfile\\new\\youngjae_csv\\Full_wedge_Re180_Pr0_7.csv')\n",
    "Data3 = pd.read_csv(r'D:\\Desktop\\190305\\csvfile\\new\\youngjae_csv\\Full_wedge_Re180_Pr2_0.csv')"
   ]
  },
  {
   "cell_type": "code",
   "execution_count": 16,
   "metadata": {},
   "outputs": [
    {
     "name": "stdout",
     "output_type": "stream",
     "text": [
      "(179927, 37)\n",
      "(179927, 37)\n",
      "(179927, 37)\n",
      "(539781, 37)\n"
     ]
    }
   ],
   "source": [
    "Data = pd.concat([Data1,Data2,Data3])\n",
    "\n",
    "print(Data1.shape)\n",
    "print(Data2.shape)\n",
    "print(Data3.shape)\n",
    "\n",
    "print(Data.shape)"
   ]
  },
  {
   "cell_type": "code",
   "execution_count": 17,
   "metadata": {},
   "outputs": [],
   "source": [
    "Data.to_csv(r'D:\\Desktop\\190305\\csvfile\\new\\youngjae_csv\\case3_Re180_Pr_t.csv', header=True, index=False)"
   ]
  },
  {
   "cell_type": "code",
   "execution_count": 18,
   "metadata": {},
   "outputs": [
    {
     "name": "stdout",
     "output_type": "stream",
     "text": [
      "(539781, 37)\n",
      "(545346, 37)\n",
      "(1085127, 37)\n"
     ]
    }
   ],
   "source": [
    "Data4 = pd.read_csv(r'D:\\Desktop\\190305\\csvfile\\new\\youngjae_csv\\case3_Re180_Pr_t.csv')\n",
    "Data5 = pd.read_csv(r'D:\\Desktop\\190305\\csvfile\\new\\youngjae_csv\\case3_Re400_Pr_t.csv')\n",
    "\n",
    "Data = pd.concat([Data4, Data5])\n",
    "print(Data4.shape)\n",
    "print(Data5.shape)\n",
    "print(Data.shape)"
   ]
  },
  {
   "cell_type": "code",
   "execution_count": 19,
   "metadata": {},
   "outputs": [],
   "source": [
    "Data.to_csv(r'D:\\Desktop\\190305\\csvfile\\new\\youngjae_csv\\case6_Re_180_400_Pr_t.csv', header=True, index=False)"
   ]
  },
  {
   "cell_type": "code",
   "execution_count": null,
   "metadata": {},
   "outputs": [],
   "source": []
  }
 ],
 "metadata": {
  "kernelspec": {
   "display_name": "Python 3",
   "language": "python",
   "name": "python3"
  },
  "language_info": {
   "codemirror_mode": {
    "name": "ipython",
    "version": 3
   },
   "file_extension": ".py",
   "mimetype": "text/x-python",
   "name": "python",
   "nbconvert_exporter": "python",
   "pygments_lexer": "ipython3",
   "version": "3.5.2"
  }
 },
 "nbformat": 4,
 "nbformat_minor": 2
}
