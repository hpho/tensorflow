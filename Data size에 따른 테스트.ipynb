{
 "cells": [
  {
   "cell_type": "code",
   "execution_count": 1,
   "metadata": {},
   "outputs": [],
   "source": [
    "import numpy as np\n",
    "import pandas as pd\n",
    "import tensorflow as tf"
   ]
  },
  {
   "cell_type": "code",
   "execution_count": 34,
   "metadata": {
    "collapsed": true
   },
   "outputs": [
    {
     "data": {
      "text/html": [
       "<div>\n",
       "<style scoped>\n",
       "    .dataframe tbody tr th:only-of-type {\n",
       "        vertical-align: middle;\n",
       "    }\n",
       "\n",
       "    .dataframe tbody tr th {\n",
       "        vertical-align: top;\n",
       "    }\n",
       "\n",
       "    .dataframe thead th {\n",
       "        text-align: right;\n",
       "    }\n",
       "</style>\n",
       "<table border=\"1\" class=\"dataframe\">\n",
       "  <thead>\n",
       "    <tr style=\"text-align: right;\">\n",
       "      <th></th>\n",
       "      <th>x</th>\n",
       "      <th>y</th>\n",
       "    </tr>\n",
       "  </thead>\n",
       "  <tbody>\n",
       "    <tr>\n",
       "      <th>0</th>\n",
       "      <td>0.035064</td>\n",
       "      <td>0.001229</td>\n",
       "    </tr>\n",
       "    <tr>\n",
       "      <th>1</th>\n",
       "      <td>0.398879</td>\n",
       "      <td>0.159104</td>\n",
       "    </tr>\n",
       "    <tr>\n",
       "      <th>2</th>\n",
       "      <td>0.417968</td>\n",
       "      <td>0.174697</td>\n",
       "    </tr>\n",
       "    <tr>\n",
       "      <th>3</th>\n",
       "      <td>0.049480</td>\n",
       "      <td>0.002448</td>\n",
       "    </tr>\n",
       "    <tr>\n",
       "      <th>4</th>\n",
       "      <td>0.224624</td>\n",
       "      <td>0.050456</td>\n",
       "    </tr>\n",
       "    <tr>\n",
       "      <th>5</th>\n",
       "      <td>0.108502</td>\n",
       "      <td>0.011773</td>\n",
       "    </tr>\n",
       "    <tr>\n",
       "      <th>6</th>\n",
       "      <td>0.160093</td>\n",
       "      <td>0.025630</td>\n",
       "    </tr>\n",
       "    <tr>\n",
       "      <th>7</th>\n",
       "      <td>0.259039</td>\n",
       "      <td>0.067101</td>\n",
       "    </tr>\n",
       "    <tr>\n",
       "      <th>8</th>\n",
       "      <td>0.075356</td>\n",
       "      <td>0.005679</td>\n",
       "    </tr>\n",
       "    <tr>\n",
       "      <th>9</th>\n",
       "      <td>0.951304</td>\n",
       "      <td>0.904979</td>\n",
       "    </tr>\n",
       "    <tr>\n",
       "      <th>10</th>\n",
       "      <td>0.296464</td>\n",
       "      <td>0.087891</td>\n",
       "    </tr>\n",
       "    <tr>\n",
       "      <th>11</th>\n",
       "      <td>0.786875</td>\n",
       "      <td>0.619173</td>\n",
       "    </tr>\n",
       "    <tr>\n",
       "      <th>12</th>\n",
       "      <td>0.793033</td>\n",
       "      <td>0.628901</td>\n",
       "    </tr>\n",
       "    <tr>\n",
       "      <th>13</th>\n",
       "      <td>0.522990</td>\n",
       "      <td>0.273518</td>\n",
       "    </tr>\n",
       "    <tr>\n",
       "      <th>14</th>\n",
       "      <td>0.914563</td>\n",
       "      <td>0.836425</td>\n",
       "    </tr>\n",
       "    <tr>\n",
       "      <th>15</th>\n",
       "      <td>0.791407</td>\n",
       "      <td>0.626324</td>\n",
       "    </tr>\n",
       "    <tr>\n",
       "      <th>16</th>\n",
       "      <td>0.972463</td>\n",
       "      <td>0.945683</td>\n",
       "    </tr>\n",
       "    <tr>\n",
       "      <th>17</th>\n",
       "      <td>0.983266</td>\n",
       "      <td>0.966812</td>\n",
       "    </tr>\n",
       "    <tr>\n",
       "      <th>18</th>\n",
       "      <td>0.539875</td>\n",
       "      <td>0.291465</td>\n",
       "    </tr>\n",
       "    <tr>\n",
       "      <th>19</th>\n",
       "      <td>0.566850</td>\n",
       "      <td>0.321318</td>\n",
       "    </tr>\n",
       "    <tr>\n",
       "      <th>20</th>\n",
       "      <td>0.634532</td>\n",
       "      <td>0.402631</td>\n",
       "    </tr>\n",
       "    <tr>\n",
       "      <th>21</th>\n",
       "      <td>0.742238</td>\n",
       "      <td>0.550918</td>\n",
       "    </tr>\n",
       "    <tr>\n",
       "      <th>22</th>\n",
       "      <td>0.515932</td>\n",
       "      <td>0.266186</td>\n",
       "    </tr>\n",
       "    <tr>\n",
       "      <th>23</th>\n",
       "      <td>0.932891</td>\n",
       "      <td>0.870286</td>\n",
       "    </tr>\n",
       "    <tr>\n",
       "      <th>24</th>\n",
       "      <td>0.949767</td>\n",
       "      <td>0.902057</td>\n",
       "    </tr>\n",
       "    <tr>\n",
       "      <th>25</th>\n",
       "      <td>0.205373</td>\n",
       "      <td>0.042178</td>\n",
       "    </tr>\n",
       "    <tr>\n",
       "      <th>26</th>\n",
       "      <td>0.137401</td>\n",
       "      <td>0.018879</td>\n",
       "    </tr>\n",
       "    <tr>\n",
       "      <th>27</th>\n",
       "      <td>0.575792</td>\n",
       "      <td>0.331537</td>\n",
       "    </tr>\n",
       "    <tr>\n",
       "      <th>28</th>\n",
       "      <td>0.036005</td>\n",
       "      <td>0.001296</td>\n",
       "    </tr>\n",
       "    <tr>\n",
       "      <th>29</th>\n",
       "      <td>0.646772</td>\n",
       "      <td>0.418314</td>\n",
       "    </tr>\n",
       "    <tr>\n",
       "      <th>...</th>\n",
       "      <td>...</td>\n",
       "      <td>...</td>\n",
       "    </tr>\n",
       "    <tr>\n",
       "      <th>970</th>\n",
       "      <td>0.105182</td>\n",
       "      <td>0.011063</td>\n",
       "    </tr>\n",
       "    <tr>\n",
       "      <th>971</th>\n",
       "      <td>0.447508</td>\n",
       "      <td>0.200263</td>\n",
       "    </tr>\n",
       "    <tr>\n",
       "      <th>972</th>\n",
       "      <td>0.479339</td>\n",
       "      <td>0.229766</td>\n",
       "    </tr>\n",
       "    <tr>\n",
       "      <th>973</th>\n",
       "      <td>0.972378</td>\n",
       "      <td>0.945519</td>\n",
       "    </tr>\n",
       "    <tr>\n",
       "      <th>974</th>\n",
       "      <td>0.230154</td>\n",
       "      <td>0.052971</td>\n",
       "    </tr>\n",
       "    <tr>\n",
       "      <th>975</th>\n",
       "      <td>0.687149</td>\n",
       "      <td>0.472173</td>\n",
       "    </tr>\n",
       "    <tr>\n",
       "      <th>976</th>\n",
       "      <td>0.180000</td>\n",
       "      <td>0.032400</td>\n",
       "    </tr>\n",
       "    <tr>\n",
       "      <th>977</th>\n",
       "      <td>0.511978</td>\n",
       "      <td>0.262122</td>\n",
       "    </tr>\n",
       "    <tr>\n",
       "      <th>978</th>\n",
       "      <td>0.614685</td>\n",
       "      <td>0.377838</td>\n",
       "    </tr>\n",
       "    <tr>\n",
       "      <th>979</th>\n",
       "      <td>0.822094</td>\n",
       "      <td>0.675839</td>\n",
       "    </tr>\n",
       "    <tr>\n",
       "      <th>980</th>\n",
       "      <td>0.631191</td>\n",
       "      <td>0.398402</td>\n",
       "    </tr>\n",
       "    <tr>\n",
       "      <th>981</th>\n",
       "      <td>0.134450</td>\n",
       "      <td>0.018077</td>\n",
       "    </tr>\n",
       "    <tr>\n",
       "      <th>982</th>\n",
       "      <td>0.401409</td>\n",
       "      <td>0.161130</td>\n",
       "    </tr>\n",
       "    <tr>\n",
       "      <th>983</th>\n",
       "      <td>0.130718</td>\n",
       "      <td>0.017087</td>\n",
       "    </tr>\n",
       "    <tr>\n",
       "      <th>984</th>\n",
       "      <td>0.903424</td>\n",
       "      <td>0.816175</td>\n",
       "    </tr>\n",
       "    <tr>\n",
       "      <th>985</th>\n",
       "      <td>0.788840</td>\n",
       "      <td>0.622268</td>\n",
       "    </tr>\n",
       "    <tr>\n",
       "      <th>986</th>\n",
       "      <td>0.658496</td>\n",
       "      <td>0.433617</td>\n",
       "    </tr>\n",
       "    <tr>\n",
       "      <th>987</th>\n",
       "      <td>0.821567</td>\n",
       "      <td>0.674973</td>\n",
       "    </tr>\n",
       "    <tr>\n",
       "      <th>988</th>\n",
       "      <td>0.911924</td>\n",
       "      <td>0.831606</td>\n",
       "    </tr>\n",
       "    <tr>\n",
       "      <th>989</th>\n",
       "      <td>0.630834</td>\n",
       "      <td>0.397952</td>\n",
       "    </tr>\n",
       "    <tr>\n",
       "      <th>990</th>\n",
       "      <td>0.101099</td>\n",
       "      <td>0.010221</td>\n",
       "    </tr>\n",
       "    <tr>\n",
       "      <th>991</th>\n",
       "      <td>0.624619</td>\n",
       "      <td>0.390149</td>\n",
       "    </tr>\n",
       "    <tr>\n",
       "      <th>992</th>\n",
       "      <td>0.101380</td>\n",
       "      <td>0.010278</td>\n",
       "    </tr>\n",
       "    <tr>\n",
       "      <th>993</th>\n",
       "      <td>0.989659</td>\n",
       "      <td>0.979424</td>\n",
       "    </tr>\n",
       "    <tr>\n",
       "      <th>994</th>\n",
       "      <td>0.743376</td>\n",
       "      <td>0.552608</td>\n",
       "    </tr>\n",
       "    <tr>\n",
       "      <th>995</th>\n",
       "      <td>0.386550</td>\n",
       "      <td>0.149421</td>\n",
       "    </tr>\n",
       "    <tr>\n",
       "      <th>996</th>\n",
       "      <td>0.743110</td>\n",
       "      <td>0.552213</td>\n",
       "    </tr>\n",
       "    <tr>\n",
       "      <th>997</th>\n",
       "      <td>0.870550</td>\n",
       "      <td>0.757857</td>\n",
       "    </tr>\n",
       "    <tr>\n",
       "      <th>998</th>\n",
       "      <td>0.451022</td>\n",
       "      <td>0.203421</td>\n",
       "    </tr>\n",
       "    <tr>\n",
       "      <th>999</th>\n",
       "      <td>0.334203</td>\n",
       "      <td>0.111692</td>\n",
       "    </tr>\n",
       "  </tbody>\n",
       "</table>\n",
       "<p>1000 rows × 2 columns</p>\n",
       "</div>"
      ],
      "text/plain": [
       "            x         y\n",
       "0    0.035064  0.001229\n",
       "1    0.398879  0.159104\n",
       "2    0.417968  0.174697\n",
       "3    0.049480  0.002448\n",
       "4    0.224624  0.050456\n",
       "5    0.108502  0.011773\n",
       "6    0.160093  0.025630\n",
       "7    0.259039  0.067101\n",
       "8    0.075356  0.005679\n",
       "9    0.951304  0.904979\n",
       "10   0.296464  0.087891\n",
       "11   0.786875  0.619173\n",
       "12   0.793033  0.628901\n",
       "13   0.522990  0.273518\n",
       "14   0.914563  0.836425\n",
       "15   0.791407  0.626324\n",
       "16   0.972463  0.945683\n",
       "17   0.983266  0.966812\n",
       "18   0.539875  0.291465\n",
       "19   0.566850  0.321318\n",
       "20   0.634532  0.402631\n",
       "21   0.742238  0.550918\n",
       "22   0.515932  0.266186\n",
       "23   0.932891  0.870286\n",
       "24   0.949767  0.902057\n",
       "25   0.205373  0.042178\n",
       "26   0.137401  0.018879\n",
       "27   0.575792  0.331537\n",
       "28   0.036005  0.001296\n",
       "29   0.646772  0.418314\n",
       "..        ...       ...\n",
       "970  0.105182  0.011063\n",
       "971  0.447508  0.200263\n",
       "972  0.479339  0.229766\n",
       "973  0.972378  0.945519\n",
       "974  0.230154  0.052971\n",
       "975  0.687149  0.472173\n",
       "976  0.180000  0.032400\n",
       "977  0.511978  0.262122\n",
       "978  0.614685  0.377838\n",
       "979  0.822094  0.675839\n",
       "980  0.631191  0.398402\n",
       "981  0.134450  0.018077\n",
       "982  0.401409  0.161130\n",
       "983  0.130718  0.017087\n",
       "984  0.903424  0.816175\n",
       "985  0.788840  0.622268\n",
       "986  0.658496  0.433617\n",
       "987  0.821567  0.674973\n",
       "988  0.911924  0.831606\n",
       "989  0.630834  0.397952\n",
       "990  0.101099  0.010221\n",
       "991  0.624619  0.390149\n",
       "992  0.101380  0.010278\n",
       "993  0.989659  0.979424\n",
       "994  0.743376  0.552608\n",
       "995  0.386550  0.149421\n",
       "996  0.743110  0.552213\n",
       "997  0.870550  0.757857\n",
       "998  0.451022  0.203421\n",
       "999  0.334203  0.111692\n",
       "\n",
       "[1000 rows x 2 columns]"
      ]
     },
     "execution_count": 34,
     "metadata": {},
     "output_type": "execute_result"
    }
   ],
   "source": [
    "a = np.random.rand(1000)\n",
    "b = a*a\n",
    "Data = pd.DataFrame(a,columns=['x'])\n",
    "Data['y'] = b\n",
    "Data"
   ]
  },
  {
   "cell_type": "code",
   "execution_count": 46,
   "metadata": {},
   "outputs": [],
   "source": [
    "def preprocess(Data,max_norm=1,min_norm=0):\n",
    "    #normalization\n",
    "    Data = (Data - Data.min())/(Data.max() - Data.min())*(max_norm - min_norm) + min_norm\n",
    "    # for i in range(len(Data.columns)):\n",
    "    #     Data[Data.columns[i]] = (Data[Data.columns[i]] - Data[Data.columns[i]].mean())/Data[Data.columns[i]].std()\n",
    "    #     print('standardized')\n",
    "    #standardization\n",
    "    #for i in range(len(Data.columns)):\n",
    "    #    if Data[Data.columns[i]].std()*3 > (Data[Data.columns[i]].max()-Data[Data.columns[i]].min()):\n",
    "    #        Data[Data.columns[i]] = (Data[Data.columns[i]] - Data[Data.columns[i]].mean())/Data[Data.columns[i]].std()\n",
    "    #        print('standardized %d'%i)\n",
    "    #    else:\n",
    "    #        Data = (Data - Data.min())/(Data.max() - Data.min())*(max_norm - min_norm) + min_norm\n",
    "    return Data"
   ]
  },
  {
   "cell_type": "code",
   "execution_count": 47,
   "metadata": {},
   "outputs": [],
   "source": [
    "Data = pd.read_csv(r'D:\\Desktop\\case1_Flame.csv')\n",
    "Data = preprocess(Data)"
   ]
  },
  {
   "cell_type": "code",
   "execution_count": 55,
   "metadata": {
    "scrolled": true
   },
   "outputs": [
    {
     "name": "stdout",
     "output_type": "stream",
     "text": [
      "1000 steps loss : 0.04897172\n",
      "2000 steps loss : 0.04633536\n",
      "3000 steps loss : 0.045680583\n",
      "4000 steps loss : 0.04551469\n",
      "5000 steps loss : 0.045563646\n",
      "6000 steps loss : 0.04547636\n",
      "7000 steps loss : 0.04554095\n",
      "8000 steps loss : 0.04610823\n",
      "9000 steps loss : 0.045472097\n",
      "10000 steps loss : 0.04547884\n",
      "11000 steps loss : 0.045562856\n",
      "12000 steps loss : 0.045508787\n",
      "13000 steps loss : 0.04564322\n",
      "14000 steps loss : 0.04544293\n",
      "15000 steps loss : 0.045447256\n",
      "16000 steps loss : 0.04585445\n",
      "17000 steps loss : 0.045448937\n",
      "18000 steps loss : 0.04555415\n",
      "19000 steps loss : 0.04569817\n",
      "20000 steps loss : 0.045637876\n",
      "21000 steps loss : 0.045422956\n",
      "22000 steps loss : 0.04541578\n",
      "23000 steps loss : 0.04645487\n",
      "24000 steps loss : 0.04528731\n",
      "25000 steps loss : 0.045254197\n",
      "26000 steps loss : 0.045172427\n",
      "27000 steps loss : 0.0450599\n",
      "28000 steps loss : 0.044841424\n",
      "29000 steps loss : 0.044468433\n",
      "30000 steps loss : 0.044377696\n",
      "31000 steps loss : 0.044388145\n",
      "32000 steps loss : 0.044340745\n",
      "33000 steps loss : 0.044335052\n",
      "34000 steps loss : 0.044330016\n",
      "35000 steps loss : 0.044383325\n",
      "36000 steps loss : 0.044329625\n",
      "37000 steps loss : 0.044326495\n",
      "38000 steps loss : 0.044432636\n",
      "39000 steps loss : 0.04435592\n",
      "40000 steps loss : 0.04432911\n",
      "41000 steps loss : 0.044334672\n",
      "42000 steps loss : 0.04433013\n",
      "43000 steps loss : 0.04432471\n",
      "44000 steps loss : 0.044323277\n",
      "45000 steps loss : 0.04433371\n",
      "46000 steps loss : 0.04432056\n",
      "47000 steps loss : 0.04432067\n",
      "48000 steps loss : 0.04453034\n",
      "49000 steps loss : 0.04432192\n",
      "50000 steps loss : 0.044318866\n",
      "training complete!\n",
      "loss test : 0.04451544\n"
     ]
    }
   ],
   "source": [
    "from sklearn.model_selection import train_test_split\n",
    "\n",
    "initializer = tf.keras.initializers.he_normal()\n",
    "\n",
    "X1 = Data[[Data.columns[0]]]\n",
    "# X2 = Data[Data.columns[-6:-1]]\n",
    "Y  = Data[[Data.columns[-1]]]\n",
    "\n",
    "x_data, x_test, y_data, y_test = train_test_split(X1,Y, test_size=0.33, random_state=None)\n",
    "\n",
    "x_data_index = list(x_data.index.get_values())\n",
    "x_test_index = list(x_test.index.get_values())\n",
    "\n",
    "x_data = x_data.values.tolist()\n",
    "x_test = x_test.values.tolist()\n",
    "y_data = y_data.values.tolist()\n",
    "y_test = y_test.values.tolist()\n",
    "\n",
    "# X1 = X1.values.tolist()\n",
    "# # X2 = X2.values.tolist()\n",
    "# Y  = Y.values.tolist()\n",
    "\n",
    "\n",
    "# P1 = tf.ones([1,5], dtype=tf.float32)\n",
    "# pre_layer = tf.matmul(X1,P1)\n",
    "\n",
    "# W1 = tf.Variable(initializer([5,5]))\n",
    "# layer1out = tf.nn.tanh(tf.matmul(pre_layer, W1))\n",
    "\n",
    "W2 = tf.Variable(initializer([1,10]))\n",
    "# b2 = tf.Variable(initializer(([5])))\n",
    "layer2out = tf.nn.elu(tf.matmul(x_data, W2) )\n",
    "test_layer2out = tf.nn.elu(tf.matmul(x_test, W2) )\n",
    "\n",
    "W3 = tf.Variable(initializer([10,10]))\n",
    "# b3 = tf.Variable(initializer(([5])))\n",
    "layer3out = tf.nn.elu(tf.matmul(layer2out, W3))\n",
    "test_layer3out = tf.nn.elu(tf.matmul(test_layer2out, W3))\n",
    "\n",
    "W4 = tf.Variable(initializer([10,10]))\n",
    "# b4 = tf.Variable(initializer(([5])))\n",
    "layer4out = tf.nn.elu(tf.matmul(layer3out, W4))\n",
    "test_layer4out = tf.nn.elu(tf.matmul(test_layer3out, W4))\n",
    "\n",
    "W5 = tf.Variable(initializer([10,10]))\n",
    "# b5 = tf.Variable(initializer(([5])))\n",
    "layer5out = tf.nn.elu(tf.matmul(layer4out, W5))\n",
    "test_layer5out = tf.nn.elu(tf.matmul(test_layer4out, W5))\n",
    "\n",
    "W6 = tf.Variable(initializer([10,10]))\n",
    "layer6out = tf.nn.elu(tf.matmul(layer5out, W6))\n",
    "test_layer6out = tf.nn.elu(tf.matmul(test_layer5out, W6))\n",
    "\n",
    "W7 = tf.Variable(initializer([10,10]))\n",
    "layer7out = tf.nn.elu(tf.matmul(layer6out, W7))\n",
    "test_layer7out = tf.nn.elu(tf.matmul(test_layer6out, W7))\n",
    "\n",
    "W8 = tf.Variable(initializer([10,10]))\n",
    "layer8out = tf.nn.elu(tf.matmul(layer7out, W8))\n",
    "test_layer8out = tf.nn.elu(tf.matmul(test_layer7out, W8))\n",
    "\n",
    "W9 = tf.Variable(initializer([10,10]))\n",
    "layer9out = tf.nn.elu(tf.matmul(layer8out, W9))\n",
    "test_layer9out = tf.nn.elu(tf.matmul(test_layer8out, W9))\n",
    "\n",
    "W10 = tf.Variable(initializer([10,1]))\n",
    "layer10out = (tf.matmul(layer9out, W10))\n",
    "test_layer10out = (tf.matmul(test_layer9out, W10))\n",
    "\n",
    "\n",
    "# W6 = tf.Variable(initializer([8,1]))\n",
    "# layer6out = tf.matmul(layer5out, W6)\n",
    "# test_layer6out = tf.matmul(test_layer5out, W6)\n",
    "\n",
    "loss = tf.sqrt(tf.reduce_mean((tf.square(y_data - layer10out))))\n",
    "loss_test = tf.sqrt(tf.reduce_mean((tf.square(y_test - test_layer10out))))\n",
    "train = tf.train.AdamOptimizer(0.001).minimize(loss)\n",
    "\n",
    "sess = tf.Session()\n",
    "sess.run(tf.global_variables_initializer())\n",
    "num_over = 0\n",
    "for step in range(50000):\n",
    "    sess.run(train)\n",
    "    \n",
    "    if step == 0:\n",
    "        test_eval = sess.run(loss_test)\n",
    "        \n",
    "    if test_eval <= sess.run(loss_test):\n",
    "        num_over += 1\n",
    "    else:\n",
    "        num_over = 0\n",
    "    \n",
    "    if (step+1) % 1000 == 0:\n",
    "        print(step+1,'steps loss :',sess.run(loss))\n",
    "        \n",
    "print('training complete!')\n",
    "print('loss test :',sess.run(loss_test))"
   ]
  },
  {
   "cell_type": "code",
   "execution_count": 54,
   "metadata": {},
   "outputs": [
    {
     "data": {
      "text/plain": [
       "<matplotlib.collections.PathCollection at 0x218cca56c18>"
      ]
     },
     "execution_count": 54,
     "metadata": {},
     "output_type": "execute_result"
    },
    {
     "data": {
      "image/png": "[encoded data removed]",
      "text/plain": [
       "<Figure size 432x288 with 1 Axes>"
      ]
     },
     "metadata": {
      "needs_background": "light"
     },
     "output_type": "display_data"
    }
   ],
   "source": [
    "import matplotlib.pyplot as plt\n",
    "plt.scatter(y_test, sess.run(test_layer10out),s=1)"
   ]
  },
  {
   "cell_type": "code",
   "execution_count": 8,
   "metadata": {},
   "outputs": [],
   "source": [
    "%matplotlib inline"
   ]
  },
  {
   "cell_type": "code",
   "execution_count": 41,
   "metadata": {},
   "outputs": [
    {
     "data": {
      "text/plain": [
       "<matplotlib.collections.PathCollection at 0x218d1c4bf98>"
      ]
     },
     "execution_count": 41,
     "metadata": {},
     "output_type": "execute_result"
    },
    {
     "data": {
      "image/png": "[encoded data removed]",
      "text/plain": [
       "<Figure size 432x288 with 1 Axes>"
      ]
     },
     "metadata": {
      "needs_background": "light"
     },
     "output_type": "display_data"
    }
   ],
   "source": [
    "plt.scatter(y_data, sess.run(layer10out), s=1)"
   ]
  },
  {
   "cell_type": "code",
   "execution_count": 56,
   "metadata": {},
   "outputs": [],
   "source": [
    "import seaborn as sns\n",
    "Data = pd.read_csv(r'D:\\Desktop\\190925\\new_case1_Flame.csv')"
   ]
  },
  {
   "cell_type": "code",
   "execution_count": 58,
   "metadata": {},
   "outputs": [],
   "source": [
    "a = Data.corr()"
   ]
  },
  {
   "cell_type": "code",
   "execution_count": 63,
   "metadata": {},
   "outputs": [
    {
     "data": {
      "text/plain": [
       "<matplotlib.axes._subplots.AxesSubplot at 0x218cd6b3438>"
      ]
     },
     "execution_count": 63,
     "metadata": {},
     "output_type": "execute_result"
    },
    {
     "data": {
      "image/png": "[encoded data removed]",
      "text/plain": [
       "<Figure size 432x288 with 2 Axes>"
      ]
     },
     "metadata": {
      "needs_background": "light"
     },
     "output_type": "display_data"
    }
   ],
   "source": [
    "sns.heatmap(a,cmap='RdYlGn_r')"
   ]
  },
  {
   "cell_type": "code",
   "execution_count": 90,
   "metadata": {},
   "outputs": [],
   "source": [
    "b = [[0,0.0006,0.7,0.63,0.81],\n",
    "     [0.0006,0,0.71,0.84,0.67],\n",
    "     [0.7,0.71,0,0.0002,0.71],\n",
    "     [0.63,0.84,0.0002,0,0.63],\n",
    "     [0.81,0.67,0.71,0.63,0]]\n"
   ]
  },
  {
   "cell_type": "code",
   "execution_count": 92,
   "metadata": {},
   "outputs": [
    {
     "data": {
      "text/plain": [
       "<matplotlib.axes._subplots.AxesSubplot at 0x218ce42d0f0>"
      ]
     },
     "execution_count": 92,
     "metadata": {},
     "output_type": "execute_result"
    },
    {
     "data": {
      "image/png": "[encoded data removed]",
      "text/plain": [
       "<Figure size 432x288 with 2 Axes>"
      ]
     },
     "metadata": {
      "needs_background": "light"
     },
     "output_type": "display_data"
    }
   ],
   "source": [
    "sns.heatmap(b,cmap='RdYlGn_r')"
   ]
  },
  {
   "cell_type": "code",
   "execution_count": 94,
   "metadata": {},
   "outputs": [],
   "source": [
    "Data = pd.read_csv(r'D:\\Desktop\\190925\\new_case2_Flame.csv')"
   ]
  },
  {
   "cell_type": "code",
   "execution_count": 95,
   "metadata": {},
   "outputs": [
    {
     "name": "stdout",
     "output_type": "stream",
     "text": [
      "Index(['Temperature (K)', 'Scalar dissipation rate', 'Mass Fraction of CO2',\n",
      "       'Mass Fraction of H2O', 'Mass Fraction of O2', 'Mass Fraction of H2',\n",
      "       'Mass Fraction of OH', 'Mass Fraction of CO'],\n",
      "      dtype='object')\n"
     ]
    }
   ],
   "source": [
    "print(Data.columns)\n",
    "# plt.scatter(Data[Data.columns[0]],Data[Data.columns[1]])"
   ]
  },
  {
   "cell_type": "code",
   "execution_count": 84,
   "metadata": {
    "collapsed": true
   },
   "outputs": [
    {
     "data": {
      "text/plain": [
       "<matplotlib.collections.PathCollection at 0x218cde3d2e8>"
      ]
     },
     "execution_count": 84,
     "metadata": {},
     "output_type": "execute_result"
    },
    {
     "data": {
      "image/png": "[encoded data removed]",
      "text/plain": [
       "<Figure size 432x288 with 1 Axes>"
      ]
     },
     "metadata": {
      "needs_background": "light"
     },
     "output_type": "display_data"
    }
   ],
   "source": [
    "plt.scatter(Data[Data.columns[0]],Data[Data.columns[-1]])"
   ]
  },
  {
   "cell_type": "code",
   "execution_count": 85,
   "metadata": {
    "collapsed": true
   },
   "outputs": [
    {
     "data": {
      "text/plain": [
       "<matplotlib.collections.PathCollection at 0x218cde72748>"
      ]
     },
     "execution_count": 85,
     "metadata": {},
     "output_type": "execute_result"
    },
    {
     "data": {
      "image/png": "[encoded data removed]",
      "text/plain": [
       "<Figure size 432x288 with 1 Axes>"
      ]
     },
     "metadata": {
      "needs_background": "light"
     },
     "output_type": "display_data"
    }
   ],
   "source": [
    "plt.scatter(Data[Data.columns[1]],Data[Data.columns[-1]])"
   ]
  },
  {
   "cell_type": "code",
   "execution_count": 86,
   "metadata": {
    "collapsed": true
   },
   "outputs": [
    {
     "data": {
      "text/plain": [
       "<matplotlib.collections.PathCollection at 0x218cdeae400>"
      ]
     },
     "execution_count": 86,
     "metadata": {},
     "output_type": "execute_result"
    },
    {
     "data": {
      "image/png": "[encoded data removed]",
      "text/plain": [
       "<Figure size 432x288 with 1 Axes>"
      ]
     },
     "metadata": {
      "needs_background": "light"
     },
     "output_type": "display_data"
    }
   ],
   "source": [
    "plt.scatter(Data[Data.columns[2]],Data[Data.columns[-1]])"
   ]
  },
  {
   "cell_type": "code",
   "execution_count": 87,
   "metadata": {
    "collapsed": true
   },
   "outputs": [
    {
     "data": {
      "text/plain": [
       "<matplotlib.collections.PathCollection at 0x218cdeb9eb8>"
      ]
     },
     "execution_count": 87,
     "metadata": {},
     "output_type": "execute_result"
    },
    {
     "data": {
      "image/png": "[encoded data removed]",
      "text/plain": [
       "<Figure size 432x288 with 1 Axes>"
      ]
     },
     "metadata": {
      "needs_background": "light"
     },
     "output_type": "display_data"
    }
   ],
   "source": [
    "plt.scatter(Data[Data.columns[3]],Data[Data.columns[-1]])"
   ]
  },
  {
   "cell_type": "code",
   "execution_count": 88,
   "metadata": {
    "collapsed": true
   },
   "outputs": [
    {
     "data": {
      "text/plain": [
       "<matplotlib.collections.PathCollection at 0x218cdf26b38>"
      ]
     },
     "execution_count": 88,
     "metadata": {},
     "output_type": "execute_result"
    },
    {
     "data": {
      "image/png": "[encoded data removed]",
      "text/plain": [
       "<Figure size 432x288 with 1 Axes>"
      ]
     },
     "metadata": {
      "needs_background": "light"
     },
     "output_type": "display_data"
    }
   ],
   "source": [
    "plt.scatter(Data[Data.columns[4]],Data[Data.columns[-1]])"
   ]
  },
  {
   "cell_type": "code",
   "execution_count": 89,
   "metadata": {
    "collapsed": true
   },
   "outputs": [
    {
     "data": {
      "text/plain": [
       "<matplotlib.collections.PathCollection at 0x218cde88390>"
      ]
     },
     "execution_count": 89,
     "metadata": {},
     "output_type": "execute_result"
    },
    {
     "data": {
      "image/png": "[encoded data removed]",
      "text/plain": [
       "<Figure size 432x288 with 1 Axes>"
      ]
     },
     "metadata": {
      "needs_background": "light"
     },
     "output_type": "display_data"
    }
   ],
   "source": [
    "plt.scatter(Data[Data.columns[5]],Data[Data.columns[-1]])"
   ]
  },
  {
   "cell_type": "code",
   "execution_count": 97,
   "metadata": {},
   "outputs": [
    {
     "data": {
      "text/plain": [
       "<matplotlib.axes._subplots.AxesSubplot at 0x218ce47b550>"
      ]
     },
     "execution_count": 97,
     "metadata": {},
     "output_type": "execute_result"
    },
    {
     "data": {
      "image/png": "[encoded data removed]",
      "text/plain": [
       "<Figure size 432x288 with 2 Axes>"
      ]
     },
     "metadata": {
      "needs_background": "light"
     },
     "output_type": "display_data"
    }
   ],
   "source": [
    "data = pd.read_csv(r'D:\\Desktop\\depend_toy.csv')\n",
    "data1 = data.corr()\n",
    "sns.heatmap(data1,cmap='RdYlGn_r')"
   ]
  },
  {
   "cell_type": "code",
   "execution_count": 98,
   "metadata": {
    "collapsed": true
   },
   "outputs": [
    {
     "data": {
      "text/html": [
       "<div>\n",
       "<style scoped>\n",
       "    .dataframe tbody tr th:only-of-type {\n",
       "        vertical-align: middle;\n",
       "    }\n",
       "\n",
       "    .dataframe tbody tr th {\n",
       "        vertical-align: top;\n",
       "    }\n",
       "\n",
       "    .dataframe thead th {\n",
       "        text-align: right;\n",
       "    }\n",
       "</style>\n",
       "<table border=\"1\" class=\"dataframe\">\n",
       "  <thead>\n",
       "    <tr style=\"text-align: right;\">\n",
       "      <th></th>\n",
       "      <th>X (m)</th>\n",
       "      <th>Y (m)</th>\n",
       "      <th>Z (m)</th>\n",
       "      <th>Mass Fraction of CO</th>\n",
       "    </tr>\n",
       "  </thead>\n",
       "  <tbody>\n",
       "    <tr>\n",
       "      <th>0</th>\n",
       "      <td>-0.0175</td>\n",
       "      <td>-0.0015</td>\n",
       "      <td>-0.039987</td>\n",
       "      <td>0.036546</td>\n",
       "    </tr>\n",
       "    <tr>\n",
       "      <th>1</th>\n",
       "      <td>-0.0165</td>\n",
       "      <td>-0.0025</td>\n",
       "      <td>-0.039987</td>\n",
       "      <td>0.036540</td>\n",
       "    </tr>\n",
       "    <tr>\n",
       "      <th>2</th>\n",
       "      <td>-0.0145</td>\n",
       "      <td>-0.0035</td>\n",
       "      <td>-0.039987</td>\n",
       "      <td>0.036542</td>\n",
       "    </tr>\n",
       "    <tr>\n",
       "      <th>3</th>\n",
       "      <td>-0.0175</td>\n",
       "      <td>-0.0005</td>\n",
       "      <td>-0.039987</td>\n",
       "      <td>0.036606</td>\n",
       "    </tr>\n",
       "    <tr>\n",
       "      <th>4</th>\n",
       "      <td>-0.0165</td>\n",
       "      <td>-0.0015</td>\n",
       "      <td>-0.039987</td>\n",
       "      <td>0.036552</td>\n",
       "    </tr>\n",
       "  </tbody>\n",
       "</table>\n",
       "</div>"
      ],
      "text/plain": [
       "    X (m)   Y (m)     Z (m)  Mass Fraction of CO\n",
       "0 -0.0175 -0.0015 -0.039987             0.036546\n",
       "1 -0.0165 -0.0025 -0.039987             0.036540\n",
       "2 -0.0145 -0.0035 -0.039987             0.036542\n",
       "3 -0.0175 -0.0005 -0.039987             0.036606\n",
       "4 -0.0165 -0.0015 -0.039987             0.036552"
      ]
     },
     "execution_count": 98,
     "metadata": {},
     "output_type": "execute_result"
    }
   ],
   "source": [
    "Data = pd.read_csv(r'D:\\Desktop\\new_Flame.csv')\n",
    "a = pd.DataFrame(Data, columns=['X (m)', 'Y (m)', 'Z (m)','Mass Fraction of CO'])\n",
    "a.head()"
   ]
  },
  {
   "cell_type": "code",
   "execution_count": 99,
   "metadata": {},
   "outputs": [],
   "source": [
    "a.to_csv(r'D:\\Desktop\\190925\\full_flame_contour.csv',header=True, index=False)"
   ]
  },
  {
   "cell_type": "code",
   "execution_count": 100,
   "metadata": {
    "collapsed": true
   },
   "outputs": [
    {
     "data": {
      "text/html": [
       "<div>\n",
       "<style scoped>\n",
       "    .dataframe tbody tr th:only-of-type {\n",
       "        vertical-align: middle;\n",
       "    }\n",
       "\n",
       "    .dataframe tbody tr th {\n",
       "        vertical-align: top;\n",
       "    }\n",
       "\n",
       "    .dataframe thead th {\n",
       "        text-align: right;\n",
       "    }\n",
       "</style>\n",
       "<table border=\"1\" class=\"dataframe\">\n",
       "  <thead>\n",
       "    <tr style=\"text-align: right;\">\n",
       "      <th></th>\n",
       "      <th>X (m)</th>\n",
       "      <th>Y (m)</th>\n",
       "      <th>Z (m)</th>\n",
       "      <th>Mass Fraction of CO</th>\n",
       "    </tr>\n",
       "  </thead>\n",
       "  <tbody>\n",
       "    <tr>\n",
       "      <th>0</th>\n",
       "      <td>-0.0175</td>\n",
       "      <td>-0.001500</td>\n",
       "      <td>-0.039987</td>\n",
       "      <td>0.036546</td>\n",
       "    </tr>\n",
       "    <tr>\n",
       "      <th>1</th>\n",
       "      <td>-0.0165</td>\n",
       "      <td>-0.002500</td>\n",
       "      <td>-0.039987</td>\n",
       "      <td>0.036540</td>\n",
       "    </tr>\n",
       "    <tr>\n",
       "      <th>2</th>\n",
       "      <td>-0.0145</td>\n",
       "      <td>-0.003500</td>\n",
       "      <td>-0.039987</td>\n",
       "      <td>0.036542</td>\n",
       "    </tr>\n",
       "    <tr>\n",
       "      <th>3</th>\n",
       "      <td>-0.0175</td>\n",
       "      <td>-0.000500</td>\n",
       "      <td>-0.039987</td>\n",
       "      <td>0.036606</td>\n",
       "    </tr>\n",
       "    <tr>\n",
       "      <th>4</th>\n",
       "      <td>-0.0165</td>\n",
       "      <td>-0.001500</td>\n",
       "      <td>-0.039987</td>\n",
       "      <td>0.036552</td>\n",
       "    </tr>\n",
       "    <tr>\n",
       "      <th>5</th>\n",
       "      <td>-0.0175</td>\n",
       "      <td>-0.001500</td>\n",
       "      <td>-0.039956</td>\n",
       "      <td>0.036545</td>\n",
       "    </tr>\n",
       "    <tr>\n",
       "      <th>6</th>\n",
       "      <td>-0.0155</td>\n",
       "      <td>-0.002500</td>\n",
       "      <td>-0.039987</td>\n",
       "      <td>0.036501</td>\n",
       "    </tr>\n",
       "    <tr>\n",
       "      <th>7</th>\n",
       "      <td>-0.0165</td>\n",
       "      <td>-0.002500</td>\n",
       "      <td>-0.039956</td>\n",
       "      <td>0.036539</td>\n",
       "    </tr>\n",
       "    <tr>\n",
       "      <th>8</th>\n",
       "      <td>-0.0135</td>\n",
       "      <td>-0.003500</td>\n",
       "      <td>-0.039987</td>\n",
       "      <td>0.036555</td>\n",
       "    </tr>\n",
       "    <tr>\n",
       "      <th>9</th>\n",
       "      <td>-0.0145</td>\n",
       "      <td>-0.002500</td>\n",
       "      <td>-0.039987</td>\n",
       "      <td>0.036548</td>\n",
       "    </tr>\n",
       "    <tr>\n",
       "      <th>10</th>\n",
       "      <td>-0.0145</td>\n",
       "      <td>-0.003500</td>\n",
       "      <td>-0.039956</td>\n",
       "      <td>0.036541</td>\n",
       "    </tr>\n",
       "    <tr>\n",
       "      <th>11</th>\n",
       "      <td>-0.0165</td>\n",
       "      <td>-0.000500</td>\n",
       "      <td>-0.039987</td>\n",
       "      <td>0.036604</td>\n",
       "    </tr>\n",
       "    <tr>\n",
       "      <th>12</th>\n",
       "      <td>-0.0175</td>\n",
       "      <td>-0.000500</td>\n",
       "      <td>-0.039956</td>\n",
       "      <td>0.036604</td>\n",
       "    </tr>\n",
       "    <tr>\n",
       "      <th>13</th>\n",
       "      <td>-0.0155</td>\n",
       "      <td>-0.001500</td>\n",
       "      <td>-0.039987</td>\n",
       "      <td>0.036557</td>\n",
       "    </tr>\n",
       "    <tr>\n",
       "      <th>14</th>\n",
       "      <td>-0.0165</td>\n",
       "      <td>-0.001500</td>\n",
       "      <td>-0.039956</td>\n",
       "      <td>0.036551</td>\n",
       "    </tr>\n",
       "    <tr>\n",
       "      <th>15</th>\n",
       "      <td>-0.0175</td>\n",
       "      <td>-0.001500</td>\n",
       "      <td>-0.039908</td>\n",
       "      <td>0.036542</td>\n",
       "    </tr>\n",
       "    <tr>\n",
       "      <th>16</th>\n",
       "      <td>-0.0165</td>\n",
       "      <td>-0.002500</td>\n",
       "      <td>-0.039908</td>\n",
       "      <td>0.036538</td>\n",
       "    </tr>\n",
       "    <tr>\n",
       "      <th>17</th>\n",
       "      <td>-0.0155</td>\n",
       "      <td>-0.002500</td>\n",
       "      <td>-0.039956</td>\n",
       "      <td>0.036500</td>\n",
       "    </tr>\n",
       "    <tr>\n",
       "      <th>18</th>\n",
       "      <td>-0.0165</td>\n",
       "      <td>0.000500</td>\n",
       "      <td>-0.039987</td>\n",
       "      <td>0.036658</td>\n",
       "    </tr>\n",
       "    <tr>\n",
       "      <th>19</th>\n",
       "      <td>-0.0125</td>\n",
       "      <td>-0.003500</td>\n",
       "      <td>-0.039987</td>\n",
       "      <td>0.036534</td>\n",
       "    </tr>\n",
       "    <tr>\n",
       "      <th>20</th>\n",
       "      <td>-0.0135</td>\n",
       "      <td>-0.002500</td>\n",
       "      <td>-0.039987</td>\n",
       "      <td>0.036539</td>\n",
       "    </tr>\n",
       "    <tr>\n",
       "      <th>21</th>\n",
       "      <td>-0.0135</td>\n",
       "      <td>-0.003500</td>\n",
       "      <td>-0.039956</td>\n",
       "      <td>0.036553</td>\n",
       "    </tr>\n",
       "    <tr>\n",
       "      <th>22</th>\n",
       "      <td>-0.0145</td>\n",
       "      <td>-0.001500</td>\n",
       "      <td>-0.039987</td>\n",
       "      <td>0.036550</td>\n",
       "    </tr>\n",
       "    <tr>\n",
       "      <th>23</th>\n",
       "      <td>-0.0145</td>\n",
       "      <td>-0.002500</td>\n",
       "      <td>-0.039956</td>\n",
       "      <td>0.036547</td>\n",
       "    </tr>\n",
       "    <tr>\n",
       "      <th>24</th>\n",
       "      <td>-0.0145</td>\n",
       "      <td>-0.003500</td>\n",
       "      <td>-0.039908</td>\n",
       "      <td>0.036537</td>\n",
       "    </tr>\n",
       "    <tr>\n",
       "      <th>25</th>\n",
       "      <td>-0.0155</td>\n",
       "      <td>-0.000500</td>\n",
       "      <td>-0.039987</td>\n",
       "      <td>0.036598</td>\n",
       "    </tr>\n",
       "    <tr>\n",
       "      <th>26</th>\n",
       "      <td>-0.0165</td>\n",
       "      <td>-0.000500</td>\n",
       "      <td>-0.039956</td>\n",
       "      <td>0.036603</td>\n",
       "    </tr>\n",
       "    <tr>\n",
       "      <th>27</th>\n",
       "      <td>-0.0175</td>\n",
       "      <td>-0.000500</td>\n",
       "      <td>-0.039908</td>\n",
       "      <td>0.036597</td>\n",
       "    </tr>\n",
       "    <tr>\n",
       "      <th>28</th>\n",
       "      <td>-0.0155</td>\n",
       "      <td>-0.001500</td>\n",
       "      <td>-0.039956</td>\n",
       "      <td>0.036555</td>\n",
       "    </tr>\n",
       "    <tr>\n",
       "      <th>29</th>\n",
       "      <td>-0.0165</td>\n",
       "      <td>-0.001500</td>\n",
       "      <td>-0.039908</td>\n",
       "      <td>0.036549</td>\n",
       "    </tr>\n",
       "    <tr>\n",
       "      <th>...</th>\n",
       "      <td>...</td>\n",
       "      <td>...</td>\n",
       "      <td>...</td>\n",
       "      <td>...</td>\n",
       "    </tr>\n",
       "    <tr>\n",
       "      <th>670389</th>\n",
       "      <td>-0.0005</td>\n",
       "      <td>0.033500</td>\n",
       "      <td>-0.032500</td>\n",
       "      <td>0.037183</td>\n",
       "    </tr>\n",
       "    <tr>\n",
       "      <th>670540</th>\n",
       "      <td>-0.0005</td>\n",
       "      <td>0.039731</td>\n",
       "      <td>-0.038510</td>\n",
       "      <td>0.040172</td>\n",
       "    </tr>\n",
       "    <tr>\n",
       "      <th>670560</th>\n",
       "      <td>-0.0005</td>\n",
       "      <td>0.039837</td>\n",
       "      <td>-0.038527</td>\n",
       "      <td>0.040183</td>\n",
       "    </tr>\n",
       "    <tr>\n",
       "      <th>670583</th>\n",
       "      <td>-0.0005</td>\n",
       "      <td>0.039908</td>\n",
       "      <td>-0.038538</td>\n",
       "      <td>0.040188</td>\n",
       "    </tr>\n",
       "    <tr>\n",
       "      <th>670608</th>\n",
       "      <td>-0.0005</td>\n",
       "      <td>0.039956</td>\n",
       "      <td>-0.038545</td>\n",
       "      <td>0.040191</td>\n",
       "    </tr>\n",
       "    <tr>\n",
       "      <th>670633</th>\n",
       "      <td>-0.0005</td>\n",
       "      <td>0.039987</td>\n",
       "      <td>-0.038550</td>\n",
       "      <td>0.040192</td>\n",
       "    </tr>\n",
       "    <tr>\n",
       "      <th>670660</th>\n",
       "      <td>-0.0005</td>\n",
       "      <td>0.039333</td>\n",
       "      <td>-0.037500</td>\n",
       "      <td>0.039914</td>\n",
       "    </tr>\n",
       "    <tr>\n",
       "      <th>670663</th>\n",
       "      <td>-0.0005</td>\n",
       "      <td>0.038500</td>\n",
       "      <td>-0.036500</td>\n",
       "      <td>0.039745</td>\n",
       "    </tr>\n",
       "    <tr>\n",
       "      <th>670667</th>\n",
       "      <td>-0.0005</td>\n",
       "      <td>0.037500</td>\n",
       "      <td>-0.035500</td>\n",
       "      <td>0.039072</td>\n",
       "    </tr>\n",
       "    <tr>\n",
       "      <th>670672</th>\n",
       "      <td>-0.0005</td>\n",
       "      <td>0.036500</td>\n",
       "      <td>-0.034500</td>\n",
       "      <td>0.038685</td>\n",
       "    </tr>\n",
       "    <tr>\n",
       "      <th>670678</th>\n",
       "      <td>-0.0005</td>\n",
       "      <td>0.035500</td>\n",
       "      <td>-0.033500</td>\n",
       "      <td>0.038141</td>\n",
       "    </tr>\n",
       "    <tr>\n",
       "      <th>670685</th>\n",
       "      <td>-0.0005</td>\n",
       "      <td>0.034500</td>\n",
       "      <td>-0.032500</td>\n",
       "      <td>0.037733</td>\n",
       "    </tr>\n",
       "    <tr>\n",
       "      <th>670859</th>\n",
       "      <td>-0.0005</td>\n",
       "      <td>0.039731</td>\n",
       "      <td>-0.037502</td>\n",
       "      <td>0.039996</td>\n",
       "    </tr>\n",
       "    <tr>\n",
       "      <th>670879</th>\n",
       "      <td>-0.0005</td>\n",
       "      <td>0.039837</td>\n",
       "      <td>-0.037504</td>\n",
       "      <td>0.040007</td>\n",
       "    </tr>\n",
       "    <tr>\n",
       "      <th>670903</th>\n",
       "      <td>-0.0005</td>\n",
       "      <td>0.039908</td>\n",
       "      <td>-0.037506</td>\n",
       "      <td>0.040013</td>\n",
       "    </tr>\n",
       "    <tr>\n",
       "      <th>670928</th>\n",
       "      <td>-0.0005</td>\n",
       "      <td>0.039956</td>\n",
       "      <td>-0.037507</td>\n",
       "      <td>0.040015</td>\n",
       "    </tr>\n",
       "    <tr>\n",
       "      <th>670953</th>\n",
       "      <td>-0.0005</td>\n",
       "      <td>0.039987</td>\n",
       "      <td>-0.037508</td>\n",
       "      <td>0.040016</td>\n",
       "    </tr>\n",
       "    <tr>\n",
       "      <th>670980</th>\n",
       "      <td>-0.0005</td>\n",
       "      <td>0.039333</td>\n",
       "      <td>-0.036500</td>\n",
       "      <td>0.039811</td>\n",
       "    </tr>\n",
       "    <tr>\n",
       "      <th>670984</th>\n",
       "      <td>-0.0005</td>\n",
       "      <td>0.038500</td>\n",
       "      <td>-0.035500</td>\n",
       "      <td>0.039235</td>\n",
       "    </tr>\n",
       "    <tr>\n",
       "      <th>670989</th>\n",
       "      <td>-0.0005</td>\n",
       "      <td>0.037500</td>\n",
       "      <td>-0.034500</td>\n",
       "      <td>0.038814</td>\n",
       "    </tr>\n",
       "    <tr>\n",
       "      <th>670995</th>\n",
       "      <td>-0.0005</td>\n",
       "      <td>0.036500</td>\n",
       "      <td>-0.033500</td>\n",
       "      <td>0.038371</td>\n",
       "    </tr>\n",
       "    <tr>\n",
       "      <th>671197</th>\n",
       "      <td>-0.0005</td>\n",
       "      <td>0.039731</td>\n",
       "      <td>-0.036500</td>\n",
       "      <td>0.039794</td>\n",
       "    </tr>\n",
       "    <tr>\n",
       "      <th>671217</th>\n",
       "      <td>-0.0005</td>\n",
       "      <td>0.039837</td>\n",
       "      <td>-0.036500</td>\n",
       "      <td>0.039795</td>\n",
       "    </tr>\n",
       "    <tr>\n",
       "      <th>671315</th>\n",
       "      <td>-0.0005</td>\n",
       "      <td>0.039333</td>\n",
       "      <td>-0.035500</td>\n",
       "      <td>0.039303</td>\n",
       "    </tr>\n",
       "    <tr>\n",
       "      <th>671320</th>\n",
       "      <td>-0.0005</td>\n",
       "      <td>0.038500</td>\n",
       "      <td>-0.034500</td>\n",
       "      <td>0.039106</td>\n",
       "    </tr>\n",
       "    <tr>\n",
       "      <th>671326</th>\n",
       "      <td>-0.0005</td>\n",
       "      <td>0.037500</td>\n",
       "      <td>-0.033500</td>\n",
       "      <td>0.038551</td>\n",
       "    </tr>\n",
       "    <tr>\n",
       "      <th>671556</th>\n",
       "      <td>-0.0005</td>\n",
       "      <td>0.039731</td>\n",
       "      <td>-0.035500</td>\n",
       "      <td>0.039386</td>\n",
       "    </tr>\n",
       "    <tr>\n",
       "      <th>671674</th>\n",
       "      <td>-0.0005</td>\n",
       "      <td>0.039333</td>\n",
       "      <td>-0.034500</td>\n",
       "      <td>0.038980</td>\n",
       "    </tr>\n",
       "    <tr>\n",
       "      <th>671680</th>\n",
       "      <td>-0.0005</td>\n",
       "      <td>0.038500</td>\n",
       "      <td>-0.033500</td>\n",
       "      <td>0.038733</td>\n",
       "    </tr>\n",
       "    <tr>\n",
       "      <th>671939</th>\n",
       "      <td>-0.0005</td>\n",
       "      <td>0.039731</td>\n",
       "      <td>-0.034500</td>\n",
       "      <td>0.039013</td>\n",
       "    </tr>\n",
       "  </tbody>\n",
       "</table>\n",
       "<p>317072 rows × 4 columns</p>\n",
       "</div>"
      ],
      "text/plain": [
       "         X (m)     Y (m)     Z (m)  Mass Fraction of CO\n",
       "0      -0.0175 -0.001500 -0.039987             0.036546\n",
       "1      -0.0165 -0.002500 -0.039987             0.036540\n",
       "2      -0.0145 -0.003500 -0.039987             0.036542\n",
       "3      -0.0175 -0.000500 -0.039987             0.036606\n",
       "4      -0.0165 -0.001500 -0.039987             0.036552\n",
       "5      -0.0175 -0.001500 -0.039956             0.036545\n",
       "6      -0.0155 -0.002500 -0.039987             0.036501\n",
       "7      -0.0165 -0.002500 -0.039956             0.036539\n",
       "8      -0.0135 -0.003500 -0.039987             0.036555\n",
       "9      -0.0145 -0.002500 -0.039987             0.036548\n",
       "10     -0.0145 -0.003500 -0.039956             0.036541\n",
       "11     -0.0165 -0.000500 -0.039987             0.036604\n",
       "12     -0.0175 -0.000500 -0.039956             0.036604\n",
       "13     -0.0155 -0.001500 -0.039987             0.036557\n",
       "14     -0.0165 -0.001500 -0.039956             0.036551\n",
       "15     -0.0175 -0.001500 -0.039908             0.036542\n",
       "16     -0.0165 -0.002500 -0.039908             0.036538\n",
       "17     -0.0155 -0.002500 -0.039956             0.036500\n",
       "18     -0.0165  0.000500 -0.039987             0.036658\n",
       "19     -0.0125 -0.003500 -0.039987             0.036534\n",
       "20     -0.0135 -0.002500 -0.039987             0.036539\n",
       "21     -0.0135 -0.003500 -0.039956             0.036553\n",
       "22     -0.0145 -0.001500 -0.039987             0.036550\n",
       "23     -0.0145 -0.002500 -0.039956             0.036547\n",
       "24     -0.0145 -0.003500 -0.039908             0.036537\n",
       "25     -0.0155 -0.000500 -0.039987             0.036598\n",
       "26     -0.0165 -0.000500 -0.039956             0.036603\n",
       "27     -0.0175 -0.000500 -0.039908             0.036597\n",
       "28     -0.0155 -0.001500 -0.039956             0.036555\n",
       "29     -0.0165 -0.001500 -0.039908             0.036549\n",
       "...        ...       ...       ...                  ...\n",
       "670389 -0.0005  0.033500 -0.032500             0.037183\n",
       "670540 -0.0005  0.039731 -0.038510             0.040172\n",
       "670560 -0.0005  0.039837 -0.038527             0.040183\n",
       "670583 -0.0005  0.039908 -0.038538             0.040188\n",
       "670608 -0.0005  0.039956 -0.038545             0.040191\n",
       "670633 -0.0005  0.039987 -0.038550             0.040192\n",
       "670660 -0.0005  0.039333 -0.037500             0.039914\n",
       "670663 -0.0005  0.038500 -0.036500             0.039745\n",
       "670667 -0.0005  0.037500 -0.035500             0.039072\n",
       "670672 -0.0005  0.036500 -0.034500             0.038685\n",
       "670678 -0.0005  0.035500 -0.033500             0.038141\n",
       "670685 -0.0005  0.034500 -0.032500             0.037733\n",
       "670859 -0.0005  0.039731 -0.037502             0.039996\n",
       "670879 -0.0005  0.039837 -0.037504             0.040007\n",
       "670903 -0.0005  0.039908 -0.037506             0.040013\n",
       "670928 -0.0005  0.039956 -0.037507             0.040015\n",
       "670953 -0.0005  0.039987 -0.037508             0.040016\n",
       "670980 -0.0005  0.039333 -0.036500             0.039811\n",
       "670984 -0.0005  0.038500 -0.035500             0.039235\n",
       "670989 -0.0005  0.037500 -0.034500             0.038814\n",
       "670995 -0.0005  0.036500 -0.033500             0.038371\n",
       "671197 -0.0005  0.039731 -0.036500             0.039794\n",
       "671217 -0.0005  0.039837 -0.036500             0.039795\n",
       "671315 -0.0005  0.039333 -0.035500             0.039303\n",
       "671320 -0.0005  0.038500 -0.034500             0.039106\n",
       "671326 -0.0005  0.037500 -0.033500             0.038551\n",
       "671556 -0.0005  0.039731 -0.035500             0.039386\n",
       "671674 -0.0005  0.039333 -0.034500             0.038980\n",
       "671680 -0.0005  0.038500 -0.033500             0.038733\n",
       "671939 -0.0005  0.039731 -0.034500             0.039013\n",
       "\n",
       "[317072 rows x 4 columns]"
      ]
     },
     "execution_count": 100,
     "metadata": {},
     "output_type": "execute_result"
    }
   ],
   "source": [
    "b = a[a['X (m)'] < 0]\n",
    "b"
   ]
  },
  {
   "cell_type": "code",
   "execution_count": 101,
   "metadata": {},
   "outputs": [],
   "source": [
    "b.to_csv(r'D:\\Desktop\\190925\\full_flame_contour1.csv',header=True, index=False)"
   ]
  },
  {
   "cell_type": "code",
   "execution_count": 102,
   "metadata": {},
   "outputs": [],
   "source": [
    "import scipy.interpolate as spi"
   ]
  },
  {
   "cell_type": "code",
   "execution_count": 103,
   "metadata": {},
   "outputs": [],
   "source": [
    "data = pd.read_csv(r'D:\\Desktop\\190305\\csvfile\\new\\새 폴더 (3)\\0D_mean_orig_channel.csv')"
   ]
  },
  {
   "cell_type": "code",
   "execution_count": 114,
   "metadata": {},
   "outputs": [
    {
     "name": "stdout",
     "output_type": "stream",
     "text": [
      "0.796423\n",
      "0.00611369\n",
      "1638\n"
     ]
    }
   ],
   "source": [
    "print(max(data['Y']))\n",
    "print(min(data['Y']))\n",
    "print(len(data))"
   ]
  },
  {
   "cell_type": "code",
   "execution_count": 113,
   "metadata": {},
   "outputs": [
    {
     "name": "stdout",
     "output_type": "stream",
     "text": [
      "2000000\n"
     ]
    },
    {
     "ename": "ValueError",
     "evalue": "too many values to unpack (expected 3)",
     "output_type": "error",
     "traceback": [
      "\u001b[1;31m---------------------------------------------------------------------------\u001b[0m",
      "\u001b[1;31mValueError\u001b[0m                                Traceback (most recent call last)",
      "\u001b[1;32m<ipython-input-113-cf9c9ae32565>\u001b[0m in \u001b[0;36m<module>\u001b[1;34m\u001b[0m\n\u001b[0;32m      1\u001b[0m \u001b[0mx\u001b[0m \u001b[1;33m=\u001b[0m \u001b[0mnp\u001b[0m\u001b[1;33m.\u001b[0m\u001b[0mlinspace\u001b[0m\u001b[1;33m(\u001b[0m\u001b[1;36m0.00611369\u001b[0m\u001b[1;33m,\u001b[0m\u001b[1;36m0.796423\u001b[0m\u001b[1;33m,\u001b[0m\u001b[1;36m2000000\u001b[0m\u001b[1;33m)\u001b[0m\u001b[1;33m\u001b[0m\u001b[0m\n\u001b[0;32m      2\u001b[0m \u001b[0mprint\u001b[0m\u001b[1;33m(\u001b[0m\u001b[0mlen\u001b[0m\u001b[1;33m(\u001b[0m\u001b[0mx\u001b[0m\u001b[1;33m)\u001b[0m\u001b[1;33m)\u001b[0m\u001b[1;33m\u001b[0m\u001b[0m\n\u001b[1;32m----> 3\u001b[1;33m \u001b[0mipo\u001b[0m \u001b[1;33m=\u001b[0m \u001b[0mspi\u001b[0m\u001b[1;33m.\u001b[0m\u001b[0msplev\u001b[0m\u001b[1;33m(\u001b[0m\u001b[0mdata\u001b[0m\u001b[1;33m[\u001b[0m\u001b[1;34m'Y'\u001b[0m\u001b[1;33m]\u001b[0m\u001b[1;33m,\u001b[0m\u001b[0mdata\u001b[0m\u001b[1;33m[\u001b[0m\u001b[1;34m'Nu_t_lsq_n'\u001b[0m\u001b[1;33m]\u001b[0m\u001b[1;33m)\u001b[0m\u001b[1;33m\u001b[0m\u001b[0m\n\u001b[0m",
      "\u001b[1;32mc:\\users\\user\\anaconda\\envs\\tensorflow\\lib\\site-packages\\scipy\\interpolate\\fitpack.py\u001b[0m in \u001b[0;36msplev\u001b[1;34m(x, tck, der, ext)\u001b[0m\n\u001b[0;32m    366\u001b[0m         \u001b[1;32mreturn\u001b[0m \u001b[0mtck\u001b[0m\u001b[1;33m(\u001b[0m\u001b[0mx\u001b[0m\u001b[1;33m,\u001b[0m \u001b[0mder\u001b[0m\u001b[1;33m,\u001b[0m \u001b[0mextrapolate\u001b[0m\u001b[1;33m=\u001b[0m\u001b[0mextrapolate\u001b[0m\u001b[1;33m)\u001b[0m\u001b[1;33m\u001b[0m\u001b[0m\n\u001b[0;32m    367\u001b[0m     \u001b[1;32melse\u001b[0m\u001b[1;33m:\u001b[0m\u001b[1;33m\u001b[0m\u001b[0m\n\u001b[1;32m--> 368\u001b[1;33m         \u001b[1;32mreturn\u001b[0m \u001b[0m_impl\u001b[0m\u001b[1;33m.\u001b[0m\u001b[0msplev\u001b[0m\u001b[1;33m(\u001b[0m\u001b[0mx\u001b[0m\u001b[1;33m,\u001b[0m \u001b[0mtck\u001b[0m\u001b[1;33m,\u001b[0m \u001b[0mder\u001b[0m\u001b[1;33m,\u001b[0m \u001b[0mext\u001b[0m\u001b[1;33m)\u001b[0m\u001b[1;33m\u001b[0m\u001b[0m\n\u001b[0m\u001b[0;32m    369\u001b[0m \u001b[1;33m\u001b[0m\u001b[0m\n\u001b[0;32m    370\u001b[0m \u001b[1;33m\u001b[0m\u001b[0m\n",
      "\u001b[1;32mc:\\users\\user\\anaconda\\envs\\tensorflow\\lib\\site-packages\\scipy\\interpolate\\_fitpack_impl.py\u001b[0m in \u001b[0;36msplev\u001b[1;34m(x, tck, der, ext)\u001b[0m\n\u001b[0;32m    578\u001b[0m \u001b[1;33m\u001b[0m\u001b[0m\n\u001b[0;32m    579\u001b[0m     \"\"\"\n\u001b[1;32m--> 580\u001b[1;33m     \u001b[0mt\u001b[0m\u001b[1;33m,\u001b[0m \u001b[0mc\u001b[0m\u001b[1;33m,\u001b[0m \u001b[0mk\u001b[0m \u001b[1;33m=\u001b[0m \u001b[0mtck\u001b[0m\u001b[1;33m\u001b[0m\u001b[0m\n\u001b[0m\u001b[0;32m    581\u001b[0m     \u001b[1;32mtry\u001b[0m\u001b[1;33m:\u001b[0m\u001b[1;33m\u001b[0m\u001b[0m\n\u001b[0;32m    582\u001b[0m         \u001b[0mc\u001b[0m\u001b[1;33m[\u001b[0m\u001b[1;36m0\u001b[0m\u001b[1;33m]\u001b[0m\u001b[1;33m[\u001b[0m\u001b[1;36m0\u001b[0m\u001b[1;33m]\u001b[0m\u001b[1;33m\u001b[0m\u001b[0m\n",
      "\u001b[1;31mValueError\u001b[0m: too many values to unpack (expected 3)"
     ]
    }
   ],
   "source": [
    "x = np.linspace(0.00611369,0.796423,2000000)\n",
    "print(len(x))\n",
    "ipo = spi.splev(data['Y'],data['Nu_t_lsq_n'])"
   ]
  },
  {
   "cell_type": "code",
   "execution_count": null,
   "metadata": {},
   "outputs": [],
   "source": []
  }
 ],
 "metadata": {
  "kernelspec": {
   "display_name": "Python 3",
   "language": "python",
   "name": "python3"
  },
  "language_info": {
   "codemirror_mode": {
    "name": "ipython",
    "version": 3
   },
   "file_extension": ".py",
   "mimetype": "text/x-python",
   "name": "python",
   "nbconvert_exporter": "python",
   "pygments_lexer": "ipython3",
   "version": "3.5.2"
  }
 },
 "nbformat": 4,
 "nbformat_minor": 2
}
