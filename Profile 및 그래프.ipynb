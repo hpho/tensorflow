{
 "cells": [
  {
   "cell_type": "code",
   "execution_count": 1,
   "metadata": {},
   "outputs": [],
   "source": [
    "import pandas as pd\n",
    "import matplotlib.pyplot as plt\n",
    "%matplotlib inline"
   ]
  },
  {
   "cell_type": "code",
   "execution_count": 40,
   "metadata": {},
   "outputs": [],
   "source": [
    "a = ['elu','tanh','softplus']\n",
    "for i in a:\n",
    "    \n",
    "\n",
    "    data1 = pd.read_csv(r'D:\\Desktop\\190925\\wedge_pr_t\\results\\only_standarz_%s.csv'%i) \n",
    "\n",
    "    case1 = data1[(data1['Pr'] == 2.0) & (data1['X'] == 10.0239)]\n",
    "    \n",
    "    plt.scatter(case1.Y,case1.DNS_Pr_t,s=1)\n",
    "    plt.scatter(case1.Y,case1.ANN_Pr_t,s=1)\n",
    "    plt.legend(['DNS','ANN'])\n",
    "    plt.xlabel('Y')\n",
    "    plt.ylabel('$Pr_t$')\n",
    "    plt.savefig(r'D:\\Desktop\\190925\\wedge_pr_t\\results\\x34_Pr_20_only_standarz_%s.png'%i)\n",
    "    plt.close()\n",
    "# case1"
   ]
  },
  {
   "cell_type": "code",
   "execution_count": 18,
   "metadata": {},
   "outputs": [
    {
     "data": {
      "text/plain": [
       "Text(0, 0.5, '$Pr_t$')"
      ]
     },
     "execution_count": 18,
     "metadata": {},
     "output_type": "execute_result"
    },
    {
     "data": {
      "image/png": "[encoded data removed]",
      "text/plain": [
       "<Figure size 432x288 with 1 Axes>"
      ]
     },
     "metadata": {
      "needs_background": "light"
     },
     "output_type": "display_data"
    }
   ],
   "source": [
    "plt.scatter(case1.Y,case1.DNS_Pr_t,s=1)\n",
    "plt.scatter(case1.Y,case1.ANN_Pr_t,s=1)\n",
    "plt.legend(['DNS','ANN'])\n",
    "plt.xlabel('Y')\n",
    "plt.ylabel('$Pr_t$')"
   ]
  },
  {
   "cell_type": "code",
   "execution_count": 48,
   "metadata": {},
   "outputs": [],
   "source": [
    "import matplotlib.pyplot as plt\n",
    "%matplotlib inline\n",
    "aa = [(i+1) for i in range(30)]\n",
    "#tanh\n",
    "aaa = [176.9364,124.1686,99.0580,81.9765,69.4037,60.1969,52.7637,46.4436,40.9100,35.9847,31.5632,27.5806,23.9946,20.7768,17.9063,15.3676,13.1473,11.2335,9.6141,8.2762,7.2050,6.3826,5.7868,5.3892,5.1541,5.0379,4.9937,4.9751,4.9576,4.9481]"
   ]
  },
  {
   "cell_type": "code",
   "execution_count": 49,
   "metadata": {},
   "outputs": [],
   "source": [
    "#softplus\n",
    "aab = [69.0153,13.8042,6.8809,4.5159,3.1273,2.4408,1.9558,1.5834,1.3134,1.0962,0.9366,0.8003,0.6977,0.6178,0.5528,0.4906,0.4435,0.4072,0.3748,0.3452,0.3198,0.2977,0.2789,0.2629,0.2498,0.2384,0.2275,0.2175,0.2086,0.2007]"
   ]
  },
  {
   "cell_type": "code",
   "execution_count": 50,
   "metadata": {},
   "outputs": [],
   "source": [
    "#elu\n",
    "aac = [13.6064,6.5392,3.7200,2.1814,1.6060,1.3232,1.1406,1.0012,0.8794,0.7654,0.6661,0.5913,0.5275,0.4736,0.4295,0.3925,0.3635,0.3395,0.3182,0.2989,0.2819,0.2667,0.2524,0.2398,0.2287,0.2188,0.2093,0.2011,0.1934,0.1860]"
   ]
  },
  {
   "cell_type": "code",
   "execution_count": 51,
   "metadata": {},
   "outputs": [],
   "source": [
    "plt.plot(aa,aaa)\n",
    "plt.plot(aa,aab)\n",
    "plt.plot(aa,aac)\n",
    "plt.legend(['tanh','softplus','elu'])\n",
    "plt.xlabel('epoch')\n",
    "plt.ylabel('rmse')\n",
    "plt.savefig(r'D:\\Desktop\\190925\\wedge_pr_t\\results\\rmse_per_epoch.png')\n",
    "plt.close()"
   ]
  },
  {
   "cell_type": "code",
   "execution_count": 53,
   "metadata": {},
   "outputs": [
    {
     "data": {
      "text/plain": [
       "Text(0, 0.5, 'rmse')"
      ]
     },
     "execution_count": 53,
     "metadata": {},
     "output_type": "execute_result"
    },
    {
     "data": {
      "image/png": "[encoded data removed]",
      "text/plain": [
       "<Figure size 432x288 with 1 Axes>"
      ]
     },
     "metadata": {
      "needs_background": "light"
     },
     "output_type": "display_data"
    }
   ],
   "source": [
    "aa = [(i+1) for i in range(30)]\n",
    "#tanh\n",
    "aac = [13.6064,6.5392,3.7200,2.1814,1.6060,1.3232,1.1406,1.0012,0.8794,0.7654,0.6661,0.5913,0.5275,0.4736,0.4295,0.3925,0.3635,0.3395,0.3182,0.2989,0.2819,0.2667,0.2524,0.2398,0.2287,0.2188,0.2093,0.2011,0.1934,0.1860]\n",
    "plt.plot(aa,aac)\n",
    "plt.xlabel('epoch')\n",
    "plt.ylabel('rmse')"
   ]
  },
  {
   "cell_type": "code",
   "execution_count": 43,
   "metadata": {},
   "outputs": [
    {
     "data": {
      "text/html": [
       "<div>\n",
       "<style scoped>\n",
       "    .dataframe tbody tr th:only-of-type {\n",
       "        vertical-align: middle;\n",
       "    }\n",
       "\n",
       "    .dataframe tbody tr th {\n",
       "        vertical-align: top;\n",
       "    }\n",
       "\n",
       "    .dataframe thead th {\n",
       "        text-align: right;\n",
       "    }\n",
       "</style>\n",
       "<table border=\"1\" class=\"dataframe\">\n",
       "  <thead>\n",
       "    <tr style=\"text-align: right;\">\n",
       "      <th></th>\n",
       "      <th>X</th>\n",
       "      <th>Y</th>\n",
       "      <th>Re_tau</th>\n",
       "      <th>Pr</th>\n",
       "      <th>Alpha_t_lsq</th>\n",
       "      <th>Nu_t_lsq</th>\n",
       "      <th>DNS_Pr_t</th>\n",
       "      <th>ANN_Pr_t</th>\n",
       "    </tr>\n",
       "  </thead>\n",
       "  <tbody>\n",
       "    <tr>\n",
       "      <th>0</th>\n",
       "      <td>-5.000000e-09</td>\n",
       "      <td>-0.076720</td>\n",
       "      <td>180</td>\n",
       "      <td>0.2</td>\n",
       "      <td>0.000022</td>\n",
       "      <td>0.000022</td>\n",
       "      <td>0.993037</td>\n",
       "      <td>0.999964</td>\n",
       "    </tr>\n",
       "    <tr>\n",
       "      <th>1</th>\n",
       "      <td>-5.000000e-09</td>\n",
       "      <td>-0.074086</td>\n",
       "      <td>180</td>\n",
       "      <td>0.2</td>\n",
       "      <td>0.000029</td>\n",
       "      <td>0.000030</td>\n",
       "      <td>1.025760</td>\n",
       "      <td>0.969323</td>\n",
       "    </tr>\n",
       "    <tr>\n",
       "      <th>2</th>\n",
       "      <td>-5.000000e-09</td>\n",
       "      <td>-0.071392</td>\n",
       "      <td>180</td>\n",
       "      <td>0.2</td>\n",
       "      <td>0.000037</td>\n",
       "      <td>0.000040</td>\n",
       "      <td>1.052520</td>\n",
       "      <td>0.960739</td>\n",
       "    </tr>\n",
       "    <tr>\n",
       "      <th>3</th>\n",
       "      <td>-5.000000e-09</td>\n",
       "      <td>-0.068635</td>\n",
       "      <td>180</td>\n",
       "      <td>0.2</td>\n",
       "      <td>0.000047</td>\n",
       "      <td>0.000051</td>\n",
       "      <td>1.074180</td>\n",
       "      <td>0.962467</td>\n",
       "    </tr>\n",
       "    <tr>\n",
       "      <th>4</th>\n",
       "      <td>-5.000000e-09</td>\n",
       "      <td>-0.065814</td>\n",
       "      <td>180</td>\n",
       "      <td>0.2</td>\n",
       "      <td>0.000058</td>\n",
       "      <td>0.000064</td>\n",
       "      <td>1.091570</td>\n",
       "      <td>0.970123</td>\n",
       "    </tr>\n",
       "  </tbody>\n",
       "</table>\n",
       "</div>"
      ],
      "text/plain": [
       "              X         Y  Re_tau   Pr  Alpha_t_lsq  Nu_t_lsq  DNS_Pr_t  \\\n",
       "0 -5.000000e-09 -0.076720     180  0.2     0.000022  0.000022  0.993037   \n",
       "1 -5.000000e-09 -0.074086     180  0.2     0.000029  0.000030  1.025760   \n",
       "2 -5.000000e-09 -0.071392     180  0.2     0.000037  0.000040  1.052520   \n",
       "3 -5.000000e-09 -0.068635     180  0.2     0.000047  0.000051  1.074180   \n",
       "4 -5.000000e-09 -0.065814     180  0.2     0.000058  0.000064  1.091570   \n",
       "\n",
       "   ANN_Pr_t  \n",
       "0  0.999964  \n",
       "1  0.969323  \n",
       "2  0.960739  \n",
       "3  0.962467  \n",
       "4  0.970123  "
      ]
     },
     "execution_count": 43,
     "metadata": {},
     "output_type": "execute_result"
    }
   ],
   "source": [
    "import pandas as pd\n",
    "data = pd.read_csv(r'D:\\Desktop\\190925\\wedge_pr_t\\results\\elu.csv')\n",
    "data.head()"
   ]
  },
  {
   "cell_type": "code",
   "execution_count": 47,
   "metadata": {},
   "outputs": [
    {
     "data": {
      "text/html": [
       "<div>\n",
       "<style scoped>\n",
       "    .dataframe tbody tr th:only-of-type {\n",
       "        vertical-align: middle;\n",
       "    }\n",
       "\n",
       "    .dataframe tbody tr th {\n",
       "        vertical-align: top;\n",
       "    }\n",
       "\n",
       "    .dataframe thead th {\n",
       "        text-align: right;\n",
       "    }\n",
       "</style>\n",
       "<table border=\"1\" class=\"dataframe\">\n",
       "  <thead>\n",
       "    <tr style=\"text-align: right;\">\n",
       "      <th></th>\n",
       "      <th>X</th>\n",
       "      <th>Y</th>\n",
       "      <th>Re_tau</th>\n",
       "      <th>Pr</th>\n",
       "      <th>Alpha_t_lsq</th>\n",
       "      <th>Nu_t_lsq</th>\n",
       "      <th>DNS_Pr_t</th>\n",
       "      <th>ANN_Pr_t</th>\n",
       "    </tr>\n",
       "  </thead>\n",
       "  <tbody>\n",
       "    <tr>\n",
       "      <th>230586</th>\n",
       "      <td>6.809220</td>\n",
       "      <td>0.311653</td>\n",
       "      <td>180</td>\n",
       "      <td>2.0</td>\n",
       "      <td>0.003177</td>\n",
       "      <td>0.003776</td>\n",
       "      <td>1.188521</td>\n",
       "      <td>1.159245</td>\n",
       "    </tr>\n",
       "    <tr>\n",
       "      <th>40382</th>\n",
       "      <td>5.552580</td>\n",
       "      <td>1.852670</td>\n",
       "      <td>180</td>\n",
       "      <td>0.2</td>\n",
       "      <td>0.001477</td>\n",
       "      <td>0.001601</td>\n",
       "      <td>1.083450</td>\n",
       "      <td>1.064510</td>\n",
       "    </tr>\n",
       "    <tr>\n",
       "      <th>93407</th>\n",
       "      <td>0.379914</td>\n",
       "      <td>-0.045111</td>\n",
       "      <td>180</td>\n",
       "      <td>0.7</td>\n",
       "      <td>0.000178</td>\n",
       "      <td>0.000134</td>\n",
       "      <td>0.754122</td>\n",
       "      <td>0.718581</td>\n",
       "    </tr>\n",
       "    <tr>\n",
       "      <th>240997</th>\n",
       "      <td>8.270430</td>\n",
       "      <td>0.187140</td>\n",
       "      <td>180</td>\n",
       "      <td>2.0</td>\n",
       "      <td>0.001068</td>\n",
       "      <td>0.001099</td>\n",
       "      <td>1.029330</td>\n",
       "      <td>0.989253</td>\n",
       "    </tr>\n",
       "    <tr>\n",
       "      <th>155418</th>\n",
       "      <td>8.971800</td>\n",
       "      <td>0.791979</td>\n",
       "      <td>180</td>\n",
       "      <td>0.7</td>\n",
       "      <td>0.004425</td>\n",
       "      <td>0.004188</td>\n",
       "      <td>0.946543</td>\n",
       "      <td>0.894689</td>\n",
       "    </tr>\n",
       "  </tbody>\n",
       "</table>\n",
       "</div>"
      ],
      "text/plain": [
       "               X         Y  Re_tau   Pr  Alpha_t_lsq  Nu_t_lsq  DNS_Pr_t  \\\n",
       "230586  6.809220  0.311653     180  2.0     0.003177  0.003776  1.188521   \n",
       "40382   5.552580  1.852670     180  0.2     0.001477  0.001601  1.083450   \n",
       "93407   0.379914 -0.045111     180  0.7     0.000178  0.000134  0.754122   \n",
       "240997  8.270430  0.187140     180  2.0     0.001068  0.001099  1.029330   \n",
       "155418  8.971800  0.791979     180  0.7     0.004425  0.004188  0.946543   \n",
       "\n",
       "        ANN_Pr_t  \n",
       "230586  1.159245  \n",
       "40382   1.064510  \n",
       "93407   0.718581  \n",
       "240997  0.989253  \n",
       "155418  0.894689  "
      ]
     },
     "execution_count": 47,
     "metadata": {},
     "output_type": "execute_result"
    }
   ],
   "source": [
    "from sklearn import utils\n",
    "data1 = utils.shuffle(data)\n",
    "data1.head()"
   ]
  },
  {
   "cell_type": "code",
   "execution_count": 57,
   "metadata": {},
   "outputs": [
    {
     "data": {
      "text/plain": [
       "[<matplotlib.lines.Line2D at 0x1f3f1831470>]"
      ]
     },
     "execution_count": 57,
     "metadata": {},
     "output_type": "execute_result"
    },
    {
     "data": {
      "image/png": "[encoded data removed]",
      "text/plain": [
       "<Figure size 432x288 with 1 Axes>"
      ]
     },
     "metadata": {
      "needs_background": "light"
     },
     "output_type": "display_data"
    }
   ],
   "source": [
    "a = [i for i in range(10)]\n",
    "b = [1 for i in range(10)]\n",
    "\n",
    "plt.scatter(a,b,s=10,color='k')\n",
    "plt.plot(a,b)"
   ]
  },
  {
   "cell_type": "code",
   "execution_count": 62,
   "metadata": {},
   "outputs": [],
   "source": [
    "import random\n",
    "c = [random.randint(0,10) for i in range(10)]"
   ]
  },
  {
   "cell_type": "code",
   "execution_count": 65,
   "metadata": {},
   "outputs": [
    {
     "data": {
      "text/plain": [
       "<matplotlib.collections.PathCollection at 0x1f3f192fb00>"
      ]
     },
     "execution_count": 65,
     "metadata": {},
     "output_type": "execute_result"
    },
    {
     "data": {
      "image/png": "[encoded data removed]",
      "text/plain": [
       "<Figure size 432x288 with 1 Axes>"
      ]
     },
     "metadata": {
      "needs_background": "light"
     },
     "output_type": "display_data"
    }
   ],
   "source": [
    "plt.scatter(a,c,s=10,color='k')\n",
    "# plt.plot(a,b)"
   ]
  },
  {
   "cell_type": "code",
   "execution_count": 67,
   "metadata": {},
   "outputs": [
    {
     "data": {
      "text/plain": [
       "<mpl_toolkits.mplot3d.art3d.Path3DCollection at 0x1f3f19e8be0>"
      ]
     },
     "execution_count": 67,
     "metadata": {},
     "output_type": "execute_result"
    },
    {
     "data": {
      "image/png": "[encoded data removed]",
      "text/plain": [
       "<Figure size 432x288 with 1 Axes>"
      ]
     },
     "metadata": {
      "needs_background": "light"
     },
     "output_type": "display_data"
    }
   ],
   "source": [
    "from mpl_toolkits.mplot3d import Axes3D\n",
    "d = [random.randint(0,10) for i in range(10)]\n",
    "fig = plt.figure()\n",
    "ax = fig.gca(projection='3d')\n",
    "ax.scatter(a,c,d,s=10,color='k')"
   ]
  },
  {
   "cell_type": "code",
   "execution_count": 70,
   "metadata": {},
   "outputs": [],
   "source": [
    "aa = [0.0886,0.0898,0.0887,0.0905,0.0891,0.0932,0.0993,0.0857,0.0831,0.0843,0.0852,0.0843,0.0898,0.0887,0.0905,0.0902,0.0891,0.0932,0.0993,0.0857,0.0831,0.0843,0.0852,0.0843,0.0812,0.0839,0.0823,0.1085,0.0834,0.0834,0.0841]\n",
    "bb = [i+60 for i in range(len(aa))]\n",
    "plt.plot(bb,aa)\n",
    "plt.xlabel('epochs')\n",
    "plt.ylabel('rmse')\n",
    "plt.title('train data rmse')\n",
    "plt.savefig(r'D:\\Desktop\\미팅자료\\fold_train_rmse.png')\n",
    "plt.close()"
   ]
  },
  {
   "cell_type": "code",
   "execution_count": 75,
   "metadata": {},
   "outputs": [
    {
     "data": {
      "image/png": "[encoded data removed]",
      "text/plain": [
       "<Figure size 432x288 with 1 Axes>"
      ]
     },
     "metadata": {
      "needs_background": "light"
     },
     "output_type": "display_data"
    }
   ],
   "source": [
    "aa = [81.4859,19.8732,8.9175,5.1332,2.7454,1.7992,1.2596,0.9539,0.7940,0.6841,0.5961,0.5208,0.4626,0.4173,0.3792,0.3471,0.3195,0.2962,0.2766,0.2596,0.2440,0.2299,0.2176,0.2070,0.1971,0.1883,0.1797,0.1715,0.1640,0.1574,0.1459,0.1407,0.1360,0.1319,0.1281,0.1244,0.1207,0.1173,0.1139,0.1105,0.1076,0.1048,0.1019,0.0992,0.0967,0.0942,0.0918,0.0895,0.0872,0.0850,0.0830,0.0810,0.0792,0.0775,0.0758,0.0743,0.0728,0.0713,0.0699,0.0684,0.0670,0.0655,0.0642,0.0629,0.0618,0.0607,0.0596,0.0587,0.0577,0.0569,0.0560,0.0552,0.0544,0.0537,0.0529,0.0522,0.0515,0.0509,0.0502,0.0496,0.0490,0.0484,0.0479,0.0473,0.0468,0.0463,0.0458,0.0453,0.0449,0.0445,0.0440,0.0436,0.0433,0.0429,0.0425,0.0422,0.0418,0.0415,0.0412,0.0409,0.0406,0.0403,0.0400,0.0397,0.0395,0.0392,0.0390,0.0387,0.0385,0.0383,0.0380,0.0378,0.0376,0.0373,0.0371,0.0369,0.0366,0.0364,0.0361,0.0359,0.0356,0.0354,0.0352,0.0350,0.0349,0.0347,0.0346,0.0345,0.0344,0.0342,0.0341,0.0340,0.0339,0.0338,0.0336,0.0335,0.0334,0.0333,0.0331,0.0330,0.0329,0.0328,0.0327,0.0325,0.0324,0.0323,0.0322,0.0321,0.0320,0.0318,0.0317,0.0316,0.0315,0.0314,0.0313,0.0311,0.0310,0.0309,0.0308,0.0307,0.0306,0.0305,0.0304,0.0303,0.0302,0.0301,0.0300,0.0299,0.0298,0.0297,0.0296,0.0295,0.0294,0.0293,0.0292,0.0292,0.0291,0.0290,0.0289,0.0288,0.0288,0.0287,0.0286,0.0285,0.0285,0.0284,0.0283,0.0283,0.0282,0.0281,0.0281,0.0280,0.0280,0.0279,0.0278,0.0278,0.0277,0.0277,0.0276,0.0276,0.0275,0.0275,0.0274,0.0274,0.0273,0.0273,0.0272,0.0272,0.0271,0.0271,0.0270,0.0270,0.0269,0.0269]\n",
    "bb = [i+1 for i in range(len(aa))]\n",
    "plt.plot(bb,aa)\n",
    "plt.axis([0,220,0,0.11])\n",
    "plt.xlabel('epochs')\n",
    "plt.ylabel('rmse')\n",
    "plt.title('train data rmse')\n",
    "plt.savefig(r'D:\\Desktop\\미팅자료\\revised_fold_train_rmse.png')\n"
   ]
  },
  {
   "cell_type": "code",
   "execution_count": null,
   "metadata": {},
   "outputs": [],
   "source": [
    "aa = ''"
   ]
  }
 ],
 "metadata": {
  "kernelspec": {
   "display_name": "Python 3",
   "language": "python",
   "name": "python3"
  },
  "language_info": {
   "codemirror_mode": {
    "name": "ipython",
    "version": 3
   },
   "file_extension": ".py",
   "mimetype": "text/x-python",
   "name": "python",
   "nbconvert_exporter": "python",
   "pygments_lexer": "ipython3",
   "version": "3.5.2"
  }
 },
 "nbformat": 4,
 "nbformat_minor": 2
}
