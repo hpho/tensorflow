{
 "cells": [
  {
   "cell_type": "code",
   "execution_count": 2,
   "metadata": {},
   "outputs": [],
   "source": [
    "import pandas as pd\n",
    "import numpy as np\n",
    "# from tensorflow.keras.models import Sequential\n",
    "# from tensorflow.keras.callbacks import ModelCheckpoint, EarlyStopping\n",
    "# from tensorflow.keras.layers import Dense, Conv2D, MaxPooling2D, Flatten, LSTM, Dropout\n",
    "# import tensorflow as tf"
   ]
  },
  {
   "cell_type": "code",
   "execution_count": 141,
   "metadata": {},
   "outputs": [
    {
     "data": {
      "text/html": [
       "<div>\n",
       "<style scoped>\n",
       "    .dataframe tbody tr th:only-of-type {\n",
       "        vertical-align: middle;\n",
       "    }\n",
       "\n",
       "    .dataframe tbody tr th {\n",
       "        vertical-align: top;\n",
       "    }\n",
       "\n",
       "    .dataframe thead th {\n",
       "        text-align: right;\n",
       "    }\n",
       "</style>\n",
       "<table border=\"1\" class=\"dataframe\">\n",
       "  <thead>\n",
       "    <tr style=\"text-align: right;\">\n",
       "      <th></th>\n",
       "      <th>AmbientConditions.AmbientHumidity.U.Actual</th>\n",
       "      <th>AmbientConditions.AmbientTemperature.U.Actual</th>\n",
       "      <th>Machine1.RawMaterial.Property1</th>\n",
       "      <th>Machine1.RawMaterial.Property2</th>\n",
       "      <th>Machine1.RawMaterial.Property3</th>\n",
       "      <th>Machine1.RawMaterial.Property4</th>\n",
       "      <th>Machine1.RawMaterialFeederParameter.U.Actual</th>\n",
       "      <th>Machine1.Zone1Temperature.C.Actual</th>\n",
       "      <th>Machine1.Zone2Temperature.C.Actual</th>\n",
       "      <th>Machine1.MotorAmperage.U.Actual</th>\n",
       "      <th>...</th>\n",
       "      <th>Stage2.Output.Measurement10.U.Actual</th>\n",
       "      <th>Stage2.Output.Measurement10.U.Setpoint</th>\n",
       "      <th>Stage2.Output.Measurement11.U.Actual</th>\n",
       "      <th>Stage2.Output.Measurement11.U.Setpoint</th>\n",
       "      <th>Stage2.Output.Measurement12.U.Actual</th>\n",
       "      <th>Stage2.Output.Measurement12.U.Setpoint</th>\n",
       "      <th>Stage2.Output.Measurement13.U.Actual</th>\n",
       "      <th>Stage2.Output.Measurement13.U.Setpoint</th>\n",
       "      <th>Stage2.Output.Measurement14.U.Actual</th>\n",
       "      <th>Stage2.Output.Measurement14.U.Setpoint</th>\n",
       "    </tr>\n",
       "  </thead>\n",
       "  <tbody>\n",
       "    <tr>\n",
       "      <th>0</th>\n",
       "      <td>1.605763</td>\n",
       "      <td>-0.83964</td>\n",
       "      <td>-0.609936</td>\n",
       "      <td>-0.489071</td>\n",
       "      <td>0.089373</td>\n",
       "      <td>-0.566706</td>\n",
       "      <td>-0.015695</td>\n",
       "      <td>-0.210982</td>\n",
       "      <td>0.706092</td>\n",
       "      <td>-4.036603</td>\n",
       "      <td>...</td>\n",
       "      <td>-4.578944</td>\n",
       "      <td>0.999965</td>\n",
       "      <td>-4.58121</td>\n",
       "      <td>0.999965</td>\n",
       "      <td>-4.758437</td>\n",
       "      <td>0.999965</td>\n",
       "      <td>-7.414157</td>\n",
       "      <td>0.999965</td>\n",
       "      <td>-3.608144</td>\n",
       "      <td>-0.999965</td>\n",
       "    </tr>\n",
       "    <tr>\n",
       "      <th>1</th>\n",
       "      <td>1.605763</td>\n",
       "      <td>-0.83964</td>\n",
       "      <td>-0.609936</td>\n",
       "      <td>-0.489071</td>\n",
       "      <td>0.089373</td>\n",
       "      <td>-0.566706</td>\n",
       "      <td>0.034699</td>\n",
       "      <td>-0.210982</td>\n",
       "      <td>0.706092</td>\n",
       "      <td>-4.036603</td>\n",
       "      <td>...</td>\n",
       "      <td>-4.578944</td>\n",
       "      <td>0.999965</td>\n",
       "      <td>-4.58121</td>\n",
       "      <td>0.999965</td>\n",
       "      <td>-4.758437</td>\n",
       "      <td>0.999965</td>\n",
       "      <td>-7.414157</td>\n",
       "      <td>0.999965</td>\n",
       "      <td>-3.608144</td>\n",
       "      <td>-0.999965</td>\n",
       "    </tr>\n",
       "    <tr>\n",
       "      <th>2</th>\n",
       "      <td>1.605763</td>\n",
       "      <td>-0.83964</td>\n",
       "      <td>-0.609936</td>\n",
       "      <td>-0.489071</td>\n",
       "      <td>0.089373</td>\n",
       "      <td>-0.566706</td>\n",
       "      <td>0.036785</td>\n",
       "      <td>-0.210982</td>\n",
       "      <td>0.706092</td>\n",
       "      <td>-4.013075</td>\n",
       "      <td>...</td>\n",
       "      <td>-4.578944</td>\n",
       "      <td>0.999965</td>\n",
       "      <td>-4.58121</td>\n",
       "      <td>0.999965</td>\n",
       "      <td>-4.758437</td>\n",
       "      <td>0.999965</td>\n",
       "      <td>-7.414157</td>\n",
       "      <td>0.999965</td>\n",
       "      <td>-3.608144</td>\n",
       "      <td>-0.999965</td>\n",
       "    </tr>\n",
       "    <tr>\n",
       "      <th>3</th>\n",
       "      <td>1.605763</td>\n",
       "      <td>-0.83964</td>\n",
       "      <td>-0.609936</td>\n",
       "      <td>-0.489071</td>\n",
       "      <td>0.089373</td>\n",
       "      <td>-0.566706</td>\n",
       "      <td>0.050349</td>\n",
       "      <td>-0.210982</td>\n",
       "      <td>0.706092</td>\n",
       "      <td>-3.938870</td>\n",
       "      <td>...</td>\n",
       "      <td>-4.578944</td>\n",
       "      <td>0.999965</td>\n",
       "      <td>-4.58121</td>\n",
       "      <td>0.999965</td>\n",
       "      <td>-4.758437</td>\n",
       "      <td>0.999965</td>\n",
       "      <td>-7.414157</td>\n",
       "      <td>0.999965</td>\n",
       "      <td>-3.608144</td>\n",
       "      <td>-0.999965</td>\n",
       "    </tr>\n",
       "    <tr>\n",
       "      <th>4</th>\n",
       "      <td>1.605763</td>\n",
       "      <td>-0.83964</td>\n",
       "      <td>-0.609936</td>\n",
       "      <td>-0.489071</td>\n",
       "      <td>0.089373</td>\n",
       "      <td>-0.566706</td>\n",
       "      <td>0.105020</td>\n",
       "      <td>1.371723</td>\n",
       "      <td>0.952208</td>\n",
       "      <td>-3.938870</td>\n",
       "      <td>...</td>\n",
       "      <td>-4.578944</td>\n",
       "      <td>0.999965</td>\n",
       "      <td>-4.58121</td>\n",
       "      <td>0.999965</td>\n",
       "      <td>-4.758437</td>\n",
       "      <td>0.999965</td>\n",
       "      <td>-7.414157</td>\n",
       "      <td>0.999965</td>\n",
       "      <td>-3.608144</td>\n",
       "      <td>-0.999965</td>\n",
       "    </tr>\n",
       "  </tbody>\n",
       "</table>\n",
       "<p>5 rows × 115 columns</p>\n",
       "</div>"
      ],
      "text/plain": [
       "   AmbientConditions.AmbientHumidity.U.Actual  \\\n",
       "0                                    1.605763   \n",
       "1                                    1.605763   \n",
       "2                                    1.605763   \n",
       "3                                    1.605763   \n",
       "4                                    1.605763   \n",
       "\n",
       "   AmbientConditions.AmbientTemperature.U.Actual  \\\n",
       "0                                       -0.83964   \n",
       "1                                       -0.83964   \n",
       "2                                       -0.83964   \n",
       "3                                       -0.83964   \n",
       "4                                       -0.83964   \n",
       "\n",
       "   Machine1.RawMaterial.Property1  Machine1.RawMaterial.Property2  \\\n",
       "0                       -0.609936                       -0.489071   \n",
       "1                       -0.609936                       -0.489071   \n",
       "2                       -0.609936                       -0.489071   \n",
       "3                       -0.609936                       -0.489071   \n",
       "4                       -0.609936                       -0.489071   \n",
       "\n",
       "   Machine1.RawMaterial.Property3  Machine1.RawMaterial.Property4  \\\n",
       "0                        0.089373                       -0.566706   \n",
       "1                        0.089373                       -0.566706   \n",
       "2                        0.089373                       -0.566706   \n",
       "3                        0.089373                       -0.566706   \n",
       "4                        0.089373                       -0.566706   \n",
       "\n",
       "   Machine1.RawMaterialFeederParameter.U.Actual  \\\n",
       "0                                     -0.015695   \n",
       "1                                      0.034699   \n",
       "2                                      0.036785   \n",
       "3                                      0.050349   \n",
       "4                                      0.105020   \n",
       "\n",
       "   Machine1.Zone1Temperature.C.Actual  Machine1.Zone2Temperature.C.Actual  \\\n",
       "0                           -0.210982                            0.706092   \n",
       "1                           -0.210982                            0.706092   \n",
       "2                           -0.210982                            0.706092   \n",
       "3                           -0.210982                            0.706092   \n",
       "4                            1.371723                            0.952208   \n",
       "\n",
       "   Machine1.MotorAmperage.U.Actual  ...  Stage2.Output.Measurement10.U.Actual  \\\n",
       "0                        -4.036603  ...                             -4.578944   \n",
       "1                        -4.036603  ...                             -4.578944   \n",
       "2                        -4.013075  ...                             -4.578944   \n",
       "3                        -3.938870  ...                             -4.578944   \n",
       "4                        -3.938870  ...                             -4.578944   \n",
       "\n",
       "   Stage2.Output.Measurement10.U.Setpoint  \\\n",
       "0                                0.999965   \n",
       "1                                0.999965   \n",
       "2                                0.999965   \n",
       "3                                0.999965   \n",
       "4                                0.999965   \n",
       "\n",
       "   Stage2.Output.Measurement11.U.Actual  \\\n",
       "0                              -4.58121   \n",
       "1                              -4.58121   \n",
       "2                              -4.58121   \n",
       "3                              -4.58121   \n",
       "4                              -4.58121   \n",
       "\n",
       "   Stage2.Output.Measurement11.U.Setpoint  \\\n",
       "0                                0.999965   \n",
       "1                                0.999965   \n",
       "2                                0.999965   \n",
       "3                                0.999965   \n",
       "4                                0.999965   \n",
       "\n",
       "   Stage2.Output.Measurement12.U.Actual  \\\n",
       "0                             -4.758437   \n",
       "1                             -4.758437   \n",
       "2                             -4.758437   \n",
       "3                             -4.758437   \n",
       "4                             -4.758437   \n",
       "\n",
       "   Stage2.Output.Measurement12.U.Setpoint  \\\n",
       "0                                0.999965   \n",
       "1                                0.999965   \n",
       "2                                0.999965   \n",
       "3                                0.999965   \n",
       "4                                0.999965   \n",
       "\n",
       "   Stage2.Output.Measurement13.U.Actual  \\\n",
       "0                             -7.414157   \n",
       "1                             -7.414157   \n",
       "2                             -7.414157   \n",
       "3                             -7.414157   \n",
       "4                             -7.414157   \n",
       "\n",
       "   Stage2.Output.Measurement13.U.Setpoint  \\\n",
       "0                                0.999965   \n",
       "1                                0.999965   \n",
       "2                                0.999965   \n",
       "3                                0.999965   \n",
       "4                                0.999965   \n",
       "\n",
       "   Stage2.Output.Measurement14.U.Actual  \\\n",
       "0                             -3.608144   \n",
       "1                             -3.608144   \n",
       "2                             -3.608144   \n",
       "3                             -3.608144   \n",
       "4                             -3.608144   \n",
       "\n",
       "   Stage2.Output.Measurement14.U.Setpoint  \n",
       "0                               -0.999965  \n",
       "1                               -0.999965  \n",
       "2                               -0.999965  \n",
       "3                               -0.999965  \n",
       "4                               -0.999965  \n",
       "\n",
       "[5 rows x 115 columns]"
      ]
     },
     "execution_count": 141,
     "metadata": {},
     "output_type": "execute_result"
    }
   ],
   "source": [
    "Data2 = pd.read_csv(r'D:\\Desktop\\현대제철\\continuous_factory_process.csv')\n",
    "del Data2['time_stamp']\n",
    "def stz(Data):\n",
    "    return (Data - Data.mean())/Data.std()\n",
    "stz_Data2 = stz(Data2)\n",
    "stz_Data2.head()"
   ]
  },
  {
   "cell_type": "code",
   "execution_count": 159,
   "metadata": {},
   "outputs": [
    {
     "data": {
      "text/plain": [
       "(14088, 115)"
      ]
     },
     "execution_count": 159,
     "metadata": {},
     "output_type": "execute_result"
    }
   ],
   "source": [
    "stz_Data2.shape"
   ]
  },
  {
   "cell_type": "code",
   "execution_count": 4,
   "metadata": {},
   "outputs": [
    {
     "data": {
      "text/html": [
       "<div>\n",
       "<style scoped>\n",
       "    .dataframe tbody tr th:only-of-type {\n",
       "        vertical-align: middle;\n",
       "    }\n",
       "\n",
       "    .dataframe tbody tr th {\n",
       "        vertical-align: top;\n",
       "    }\n",
       "\n",
       "    .dataframe thead th {\n",
       "        text-align: right;\n",
       "    }\n",
       "</style>\n",
       "<table border=\"1\" class=\"dataframe\">\n",
       "  <thead>\n",
       "    <tr style=\"text-align: right;\">\n",
       "      <th></th>\n",
       "      <th>% Iron Feed</th>\n",
       "      <th>% Silica Feed</th>\n",
       "      <th>Starch Flow</th>\n",
       "      <th>Amina Flow</th>\n",
       "      <th>Ore Pulp Flow</th>\n",
       "      <th>Ore Pulp pH</th>\n",
       "      <th>Ore Pulp Density</th>\n",
       "      <th>Flotation Column 01 Air Flow</th>\n",
       "      <th>Flotation Column 02 Air Flow</th>\n",
       "      <th>Flotation Column 03 Air Flow</th>\n",
       "      <th>...</th>\n",
       "      <th>Flotation Column 07 Air Flow</th>\n",
       "      <th>Flotation Column 01 Level</th>\n",
       "      <th>Flotation Column 02 Level</th>\n",
       "      <th>Flotation Column 03 Level</th>\n",
       "      <th>Flotation Column 04 Level</th>\n",
       "      <th>Flotation Column 05 Level</th>\n",
       "      <th>Flotation Column 06 Level</th>\n",
       "      <th>Flotation Column 07 Level</th>\n",
       "      <th>% Iron Concentrate</th>\n",
       "      <th>% Silica Concentrate</th>\n",
       "    </tr>\n",
       "  </thead>\n",
       "  <tbody>\n",
       "    <tr>\n",
       "      <th>0</th>\n",
       "      <td>55.1875</td>\n",
       "      <td>16.984375</td>\n",
       "      <td>3020.0</td>\n",
       "      <td>557.5</td>\n",
       "      <td>395.75</td>\n",
       "      <td>10.062500</td>\n",
       "      <td>1.740234</td>\n",
       "      <td>249.250</td>\n",
       "      <td>253.250</td>\n",
       "      <td>250.625</td>\n",
       "      <td>...</td>\n",
       "      <td>250.875</td>\n",
       "      <td>457.50</td>\n",
       "      <td>433.00</td>\n",
       "      <td>425.00</td>\n",
       "      <td>443.50</td>\n",
       "      <td>502.25</td>\n",
       "      <td>446.25</td>\n",
       "      <td>523.50</td>\n",
       "      <td>66.9375</td>\n",
       "      <td>1.30957</td>\n",
       "    </tr>\n",
       "    <tr>\n",
       "      <th>1</th>\n",
       "      <td>55.1875</td>\n",
       "      <td>16.984375</td>\n",
       "      <td>3024.0</td>\n",
       "      <td>564.0</td>\n",
       "      <td>397.50</td>\n",
       "      <td>10.070312</td>\n",
       "      <td>1.740234</td>\n",
       "      <td>249.750</td>\n",
       "      <td>250.500</td>\n",
       "      <td>250.875</td>\n",
       "      <td>...</td>\n",
       "      <td>249.000</td>\n",
       "      <td>452.00</td>\n",
       "      <td>429.50</td>\n",
       "      <td>433.00</td>\n",
       "      <td>448.00</td>\n",
       "      <td>496.25</td>\n",
       "      <td>446.00</td>\n",
       "      <td>498.00</td>\n",
       "      <td>66.9375</td>\n",
       "      <td>1.30957</td>\n",
       "    </tr>\n",
       "    <tr>\n",
       "      <th>2</th>\n",
       "      <td>55.1875</td>\n",
       "      <td>16.984375</td>\n",
       "      <td>3044.0</td>\n",
       "      <td>568.0</td>\n",
       "      <td>399.75</td>\n",
       "      <td>10.070312</td>\n",
       "      <td>1.740234</td>\n",
       "      <td>249.750</td>\n",
       "      <td>247.875</td>\n",
       "      <td>250.375</td>\n",
       "      <td>...</td>\n",
       "      <td>248.125</td>\n",
       "      <td>451.25</td>\n",
       "      <td>469.00</td>\n",
       "      <td>434.50</td>\n",
       "      <td>449.75</td>\n",
       "      <td>484.50</td>\n",
       "      <td>447.75</td>\n",
       "      <td>458.50</td>\n",
       "      <td>66.9375</td>\n",
       "      <td>1.30957</td>\n",
       "    </tr>\n",
       "    <tr>\n",
       "      <th>3</th>\n",
       "      <td>55.1875</td>\n",
       "      <td>16.984375</td>\n",
       "      <td>3048.0</td>\n",
       "      <td>568.5</td>\n",
       "      <td>398.00</td>\n",
       "      <td>10.070312</td>\n",
       "      <td>1.740234</td>\n",
       "      <td>249.875</td>\n",
       "      <td>254.500</td>\n",
       "      <td>250.000</td>\n",
       "      <td>...</td>\n",
       "      <td>251.125</td>\n",
       "      <td>452.50</td>\n",
       "      <td>458.25</td>\n",
       "      <td>442.75</td>\n",
       "      <td>446.25</td>\n",
       "      <td>471.50</td>\n",
       "      <td>437.75</td>\n",
       "      <td>427.75</td>\n",
       "      <td>66.9375</td>\n",
       "      <td>1.30957</td>\n",
       "    </tr>\n",
       "    <tr>\n",
       "      <th>4</th>\n",
       "      <td>55.1875</td>\n",
       "      <td>16.984375</td>\n",
       "      <td>3034.0</td>\n",
       "      <td>558.0</td>\n",
       "      <td>400.25</td>\n",
       "      <td>10.070312</td>\n",
       "      <td>1.740234</td>\n",
       "      <td>250.250</td>\n",
       "      <td>252.125</td>\n",
       "      <td>249.875</td>\n",
       "      <td>...</td>\n",
       "      <td>248.875</td>\n",
       "      <td>452.50</td>\n",
       "      <td>453.00</td>\n",
       "      <td>450.50</td>\n",
       "      <td>453.75</td>\n",
       "      <td>462.50</td>\n",
       "      <td>443.75</td>\n",
       "      <td>425.75</td>\n",
       "      <td>66.9375</td>\n",
       "      <td>1.30957</td>\n",
       "    </tr>\n",
       "  </tbody>\n",
       "</table>\n",
       "<p>5 rows × 23 columns</p>\n",
       "</div>"
      ],
      "text/plain": [
       "   % Iron Feed  % Silica Feed  Starch Flow  Amina Flow  Ore Pulp Flow  \\\n",
       "0      55.1875      16.984375       3020.0       557.5         395.75   \n",
       "1      55.1875      16.984375       3024.0       564.0         397.50   \n",
       "2      55.1875      16.984375       3044.0       568.0         399.75   \n",
       "3      55.1875      16.984375       3048.0       568.5         398.00   \n",
       "4      55.1875      16.984375       3034.0       558.0         400.25   \n",
       "\n",
       "   Ore Pulp pH  Ore Pulp Density  Flotation Column 01 Air Flow  \\\n",
       "0    10.062500          1.740234                       249.250   \n",
       "1    10.070312          1.740234                       249.750   \n",
       "2    10.070312          1.740234                       249.750   \n",
       "3    10.070312          1.740234                       249.875   \n",
       "4    10.070312          1.740234                       250.250   \n",
       "\n",
       "   Flotation Column 02 Air Flow  Flotation Column 03 Air Flow  ...  \\\n",
       "0                       253.250                       250.625  ...   \n",
       "1                       250.500                       250.875  ...   \n",
       "2                       247.875                       250.375  ...   \n",
       "3                       254.500                       250.000  ...   \n",
       "4                       252.125                       249.875  ...   \n",
       "\n",
       "   Flotation Column 07 Air Flow  Flotation Column 01 Level  \\\n",
       "0                       250.875                     457.50   \n",
       "1                       249.000                     452.00   \n",
       "2                       248.125                     451.25   \n",
       "3                       251.125                     452.50   \n",
       "4                       248.875                     452.50   \n",
       "\n",
       "   Flotation Column 02 Level  Flotation Column 03 Level  \\\n",
       "0                     433.00                     425.00   \n",
       "1                     429.50                     433.00   \n",
       "2                     469.00                     434.50   \n",
       "3                     458.25                     442.75   \n",
       "4                     453.00                     450.50   \n",
       "\n",
       "   Flotation Column 04 Level  Flotation Column 05 Level  \\\n",
       "0                     443.50                     502.25   \n",
       "1                     448.00                     496.25   \n",
       "2                     449.75                     484.50   \n",
       "3                     446.25                     471.50   \n",
       "4                     453.75                     462.50   \n",
       "\n",
       "   Flotation Column 06 Level  Flotation Column 07 Level  % Iron Concentrate  \\\n",
       "0                     446.25                     523.50             66.9375   \n",
       "1                     446.00                     498.00             66.9375   \n",
       "2                     447.75                     458.50             66.9375   \n",
       "3                     437.75                     427.75             66.9375   \n",
       "4                     443.75                     425.75             66.9375   \n",
       "\n",
       "   % Silica Concentrate  \n",
       "0               1.30957  \n",
       "1               1.30957  \n",
       "2               1.30957  \n",
       "3               1.30957  \n",
       "4               1.30957  \n",
       "\n",
       "[5 rows x 23 columns]"
      ]
     },
     "execution_count": 4,
     "metadata": {},
     "output_type": "execute_result"
    }
   ],
   "source": [
    "del Data['date']\n",
    "for i in range(len(Data.columns)):\n",
    "    Data[Data.columns[i]] = Data[Data.columns[i]].str.replace(',', '.').astype('float16')\n",
    "Data.head()\n",
    "# Data = Data.apply(pd.to_numeric)\n",
    "# Data.dtypes"
   ]
  },
  {
   "cell_type": "code",
   "execution_count": 99,
   "metadata": {},
   "outputs": [
    {
     "data": {
      "text/plain": [
       "% Iron Feed                        5.157744\n",
       "% Silica Feed                      6.807439\n",
       "Starch Flow                     1215.203734\n",
       "Amina Flow                        91.230534\n",
       "Ore Pulp Flow                      9.699785\n",
       "Ore Pulp pH                        0.387007\n",
       "Ore Pulp Density                   0.069249\n",
       "Flotation Column 01 Air Flow      29.621288\n",
       "Flotation Column 02 Air Flow      30.149357\n",
       "Flotation Column 03 Air Flow      28.558268\n",
       "Flotation Column 04 Air Flow       2.572538\n",
       "Flotation Column 05 Air Flow       3.636579\n",
       "Flotation Column 06 Air Flow      30.217804\n",
       "Flotation Column 07 Air Flow      28.670105\n",
       "Flotation Column 01 Level        131.014924\n",
       "Flotation Column 02 Level        128.165050\n",
       "Flotation Column 03 Level        150.842164\n",
       "Flotation Column 04 Level         91.794432\n",
       "Flotation Column 05 Level         84.535822\n",
       "Flotation Column 06 Level         89.862225\n",
       "Flotation Column 07 Level         84.891491\n",
       "% Iron Concentrate                 1.118645\n",
       "% Silica Concentrate               1.125554\n",
       "dtype: float64"
      ]
     },
     "execution_count": 99,
     "metadata": {},
     "output_type": "execute_result"
    }
   ],
   "source": [
    "Data1.std()"
   ]
  },
  {
   "cell_type": "code",
   "execution_count": 75,
   "metadata": {},
   "outputs": [
    {
     "data": {
      "text/html": [
       "<div>\n",
       "<style scoped>\n",
       "    .dataframe tbody tr th:only-of-type {\n",
       "        vertical-align: middle;\n",
       "    }\n",
       "\n",
       "    .dataframe tbody tr th {\n",
       "        vertical-align: top;\n",
       "    }\n",
       "\n",
       "    .dataframe thead th {\n",
       "        text-align: right;\n",
       "    }\n",
       "</style>\n",
       "<table border=\"1\" class=\"dataframe\">\n",
       "  <thead>\n",
       "    <tr style=\"text-align: right;\">\n",
       "      <th></th>\n",
       "      <th>% Iron Feed</th>\n",
       "      <th>% Silica Feed</th>\n",
       "      <th>Starch Flow</th>\n",
       "      <th>Amina Flow</th>\n",
       "      <th>Ore Pulp Flow</th>\n",
       "      <th>Ore Pulp pH</th>\n",
       "      <th>Ore Pulp Density</th>\n",
       "      <th>Flotation Column 01 Air Flow</th>\n",
       "      <th>Flotation Column 02 Air Flow</th>\n",
       "      <th>Flotation Column 03 Air Flow</th>\n",
       "      <th>...</th>\n",
       "      <th>Flotation Column 07 Air Flow</th>\n",
       "      <th>Flotation Column 01 Level</th>\n",
       "      <th>Flotation Column 02 Level</th>\n",
       "      <th>Flotation Column 03 Level</th>\n",
       "      <th>Flotation Column 04 Level</th>\n",
       "      <th>Flotation Column 05 Level</th>\n",
       "      <th>Flotation Column 06 Level</th>\n",
       "      <th>Flotation Column 07 Level</th>\n",
       "      <th>% Iron Concentrate</th>\n",
       "      <th>% Silica Concentrate</th>\n",
       "    </tr>\n",
       "  </thead>\n",
       "  <tbody>\n",
       "    <tr>\n",
       "      <th>0</th>\n",
       "      <td>NaN</td>\n",
       "      <td>NaN</td>\n",
       "      <td>-1.129883</td>\n",
       "      <td>-1.062500</td>\n",
       "      <td>-0.294678</td>\n",
       "      <td>0.000000</td>\n",
       "      <td>NaN</td>\n",
       "      <td>-1.763672</td>\n",
       "      <td>0.779785</td>\n",
       "      <td>1.187500</td>\n",
       "      <td>...</td>\n",
       "      <td>0.125122</td>\n",
       "      <td>1.952148</td>\n",
       "      <td>-1.272461</td>\n",
       "      <td>-1.715820</td>\n",
       "      <td>-0.381348</td>\n",
       "      <td>1.642578</td>\n",
       "      <td>-0.119629</td>\n",
       "      <td>2.087891</td>\n",
       "      <td>NaN</td>\n",
       "      <td>-inf</td>\n",
       "    </tr>\n",
       "    <tr>\n",
       "      <th>1</th>\n",
       "      <td>NaN</td>\n",
       "      <td>NaN</td>\n",
       "      <td>-1.056641</td>\n",
       "      <td>0.318604</td>\n",
       "      <td>0.392822</td>\n",
       "      <td>3.167969</td>\n",
       "      <td>NaN</td>\n",
       "      <td>-0.587891</td>\n",
       "      <td>-0.540039</td>\n",
       "      <td>1.485352</td>\n",
       "      <td>...</td>\n",
       "      <td>-0.813477</td>\n",
       "      <td>0.650879</td>\n",
       "      <td>-1.472656</td>\n",
       "      <td>-1.119141</td>\n",
       "      <td>0.190674</td>\n",
       "      <td>1.381836</td>\n",
       "      <td>-0.149536</td>\n",
       "      <td>1.307617</td>\n",
       "      <td>NaN</td>\n",
       "      <td>-inf</td>\n",
       "    </tr>\n",
       "    <tr>\n",
       "      <th>2</th>\n",
       "      <td>NaN</td>\n",
       "      <td>NaN</td>\n",
       "      <td>-0.692383</td>\n",
       "      <td>1.168945</td>\n",
       "      <td>1.277344</td>\n",
       "      <td>3.167969</td>\n",
       "      <td>NaN</td>\n",
       "      <td>-0.587891</td>\n",
       "      <td>-1.799805</td>\n",
       "      <td>0.891113</td>\n",
       "      <td>...</td>\n",
       "      <td>-1.250977</td>\n",
       "      <td>0.473145</td>\n",
       "      <td>0.786621</td>\n",
       "      <td>-1.006836</td>\n",
       "      <td>0.413086</td>\n",
       "      <td>0.870117</td>\n",
       "      <td>0.059814</td>\n",
       "      <td>0.099426</td>\n",
       "      <td>NaN</td>\n",
       "      <td>-inf</td>\n",
       "    </tr>\n",
       "    <tr>\n",
       "      <th>3</th>\n",
       "      <td>NaN</td>\n",
       "      <td>NaN</td>\n",
       "      <td>-0.619629</td>\n",
       "      <td>1.274414</td>\n",
       "      <td>0.589355</td>\n",
       "      <td>3.167969</td>\n",
       "      <td>NaN</td>\n",
       "      <td>-0.293945</td>\n",
       "      <td>1.379883</td>\n",
       "      <td>0.445557</td>\n",
       "      <td>...</td>\n",
       "      <td>0.250244</td>\n",
       "      <td>0.769043</td>\n",
       "      <td>0.171631</td>\n",
       "      <td>-0.391602</td>\n",
       "      <td>-0.031769</td>\n",
       "      <td>0.304443</td>\n",
       "      <td>-1.136719</td>\n",
       "      <td>-0.841309</td>\n",
       "      <td>NaN</td>\n",
       "      <td>-inf</td>\n",
       "    </tr>\n",
       "    <tr>\n",
       "      <th>4</th>\n",
       "      <td>NaN</td>\n",
       "      <td>NaN</td>\n",
       "      <td>-0.874512</td>\n",
       "      <td>-0.956055</td>\n",
       "      <td>1.473633</td>\n",
       "      <td>3.167969</td>\n",
       "      <td>NaN</td>\n",
       "      <td>0.587891</td>\n",
       "      <td>0.239868</td>\n",
       "      <td>0.296875</td>\n",
       "      <td>...</td>\n",
       "      <td>-0.875977</td>\n",
       "      <td>0.769043</td>\n",
       "      <td>-0.128662</td>\n",
       "      <td>0.186523</td>\n",
       "      <td>0.921387</td>\n",
       "      <td>-0.087036</td>\n",
       "      <td>-0.418701</td>\n",
       "      <td>-0.902344</td>\n",
       "      <td>NaN</td>\n",
       "      <td>-inf</td>\n",
       "    </tr>\n",
       "  </tbody>\n",
       "</table>\n",
       "<p>5 rows × 23 columns</p>\n",
       "</div>"
      ],
      "text/plain": [
       "   % Iron Feed  % Silica Feed  Starch Flow  Amina Flow  Ore Pulp Flow  \\\n",
       "0          NaN            NaN    -1.129883   -1.062500      -0.294678   \n",
       "1          NaN            NaN    -1.056641    0.318604       0.392822   \n",
       "2          NaN            NaN    -0.692383    1.168945       1.277344   \n",
       "3          NaN            NaN    -0.619629    1.274414       0.589355   \n",
       "4          NaN            NaN    -0.874512   -0.956055       1.473633   \n",
       "\n",
       "   Ore Pulp pH  Ore Pulp Density  Flotation Column 01 Air Flow  \\\n",
       "0     0.000000               NaN                     -1.763672   \n",
       "1     3.167969               NaN                     -0.587891   \n",
       "2     3.167969               NaN                     -0.587891   \n",
       "3     3.167969               NaN                     -0.293945   \n",
       "4     3.167969               NaN                      0.587891   \n",
       "\n",
       "   Flotation Column 02 Air Flow  Flotation Column 03 Air Flow  ...  \\\n",
       "0                      0.779785                      1.187500  ...   \n",
       "1                     -0.540039                      1.485352  ...   \n",
       "2                     -1.799805                      0.891113  ...   \n",
       "3                      1.379883                      0.445557  ...   \n",
       "4                      0.239868                      0.296875  ...   \n",
       "\n",
       "   Flotation Column 07 Air Flow  Flotation Column 01 Level  \\\n",
       "0                      0.125122                   1.952148   \n",
       "1                     -0.813477                   0.650879   \n",
       "2                     -1.250977                   0.473145   \n",
       "3                      0.250244                   0.769043   \n",
       "4                     -0.875977                   0.769043   \n",
       "\n",
       "   Flotation Column 02 Level  Flotation Column 03 Level  \\\n",
       "0                  -1.272461                  -1.715820   \n",
       "1                  -1.472656                  -1.119141   \n",
       "2                   0.786621                  -1.006836   \n",
       "3                   0.171631                  -0.391602   \n",
       "4                  -0.128662                   0.186523   \n",
       "\n",
       "   Flotation Column 04 Level  Flotation Column 05 Level  \\\n",
       "0                  -0.381348                   1.642578   \n",
       "1                   0.190674                   1.381836   \n",
       "2                   0.413086                   0.870117   \n",
       "3                  -0.031769                   0.304443   \n",
       "4                   0.921387                  -0.087036   \n",
       "\n",
       "   Flotation Column 06 Level  Flotation Column 07 Level  % Iron Concentrate  \\\n",
       "0                  -0.119629                   2.087891                 NaN   \n",
       "1                  -0.149536                   1.307617                 NaN   \n",
       "2                   0.059814                   0.099426                 NaN   \n",
       "3                  -1.136719                  -0.841309                 NaN   \n",
       "4                  -0.418701                  -0.902344                 NaN   \n",
       "\n",
       "   % Silica Concentrate  \n",
       "0                  -inf  \n",
       "1                  -inf  \n",
       "2                  -inf  \n",
       "3                  -inf  \n",
       "4                  -inf  \n",
       "\n",
       "[5 rows x 23 columns]"
      ]
     },
     "execution_count": 75,
     "metadata": {},
     "output_type": "execute_result"
    }
   ],
   "source": [
    "# Data.to_csv(r'D:\\Desktop\\현대제철\\Mining.csv',header=True, index=False)\n",
    "\n",
    "def stz(Data):\n",
    "    return (Data - Data.iloc[:10].mean())/Data.iloc[:10].std()\n",
    "\n",
    "stz_Data = stz(Data)\n",
    "stz_Data.head()"
   ]
  },
  {
   "cell_type": "code",
   "execution_count": null,
   "metadata": {},
   "outputs": [],
   "source": [
    "type(Data)"
   ]
  },
  {
   "cell_type": "code",
   "execution_count": 265,
   "metadata": {},
   "outputs": [
    {
     "name": "stdout",
     "output_type": "stream",
     "text": [
      "(13988, 41)\n",
      "(13988, 3)\n"
     ]
    }
   ],
   "source": [
    "window_size = 100\n",
    "\n",
    "# X_Data = pd.Panel({'index{}'.format(i+1) :stz_Data2[stz_Data2.columns[:41]].iloc[i:i+window_size].reset_index(drop=True) for i in range(14088 - window_size)})\n",
    "X_data = stz_Data2[stz_Data2.columns[:41]].iloc[window_size:14088].reset_index(drop=True)\n",
    "Y_Data = stz_Data2[stz_Data2.columns[43:46]].iloc[window_size:14088].reset_index(drop=True)\n",
    "print(X_data.shape)\n",
    "print(Y_Data.shape)\n",
    "del Y_Data['Stage1.Output.Measurement1.U.Setpoint']\n",
    "# del Y_Data['Stage1.Output.Measurement2.U.Setpoint']\n",
    "# del Y_Data['Stage1.Output.Measurement3.U.Setpoint']\n",
    "# del Y_Data['Stage1.Output.Measurement4.U.Setpoint']\n",
    "# del Y_Data['Stage1.Output.Measurement5.U.Setpoint']"
   ]
  },
  {
   "cell_type": "code",
   "execution_count": 22,
   "metadata": {},
   "outputs": [
    {
     "data": {
      "text/plain": [
       "array([[<matplotlib.axes._subplots.AxesSubplot object at 0x00000188E88E3AC8>,\n",
       "        <matplotlib.axes._subplots.AxesSubplot object at 0x0000018883DB33C8>]],\n",
       "      dtype=object)"
      ]
     },
     "execution_count": 22,
     "metadata": {},
     "output_type": "execute_result"
    },
    {
     "data": {
      "image/png": "[encoded data removed]",
      "text/plain": [
       "<Figure size 432x288 with 2 Axes>"
      ]
     },
     "metadata": {
      "needs_background": "light"
     },
     "output_type": "display_data"
    }
   ],
   "source": [
    "Y_Data = Data[Data.columns[-2:]].iloc[window_size:14088].reset_index(drop=True)\n",
    "Y_Data.hist()"
   ]
  },
  {
   "cell_type": "code",
   "execution_count": 266,
   "metadata": {},
   "outputs": [
    {
     "name": "stdout",
     "output_type": "stream",
     "text": [
      "(13988, 41)\n",
      "(13988, 2)\n"
     ]
    }
   ],
   "source": [
    "import numpy as np\n",
    "\n",
    "# X_Data = np.array(X_Data).reshape(13988,100,41,1)\n",
    "# Y_Data = np.array(Y_Data)\n",
    "\n",
    "print(X_data.shape)\n",
    "print(Y_Data.shape)\n",
    "\n",
    "X_train = X_data.iloc[:10000]\n",
    "Y_train = Y_Data.iloc[:10000]"
   ]
  },
  {
   "cell_type": "code",
   "execution_count": null,
   "metadata": {},
   "outputs": [],
   "source": [
    "def stz(Data):\n",
    "    return (Data - Data.mean())/Data.std()\n",
    "\n",
    "def norm(Data, norm_min=1, norm_max=2):\n",
    "    return (Data - Data.min())/(Data.max() - Data.min())*(norm_max - norm_min) + norm_min\n",
    "\n",
    "Y_Data = Data.pop(Data.columns[-1])\n",
    "Y_Data = Y_Data.replace(1,0)\n",
    "Y_Data = Y_Data.replace(2,1)\n",
    "B_X_Data = Data.iloc[:,[11,12,27,28,29,30,31,32]]\n",
    "F_X_Data = Data.drop(Data.columns[[11,12,27,28,29,30,31,32]],axis=1)\n",
    "\n",
    "stz_F_X_Data = stz(F_X_Data)\n",
    "norm_F_X_Data = norm(stz_F_X_Data)\n",
    "\n",
    "norm_Data = pd.merge(norm_F_X_Data, B_X_Data, left_on=norm_F_X_Data.columns[-1], right_index=True)\n",
    "train_Data = norm_Data.sample(frac=0.7)\n",
    "test_Data = norm_Data.drop(train_Data.index)\n",
    "\n",
    "train_target = Y_Data.iloc[train_Data.index]\n",
    "test_target = Y_Data.iloc[test_Data.index]"
   ]
  },
  {
   "cell_type": "code",
   "execution_count": null,
   "metadata": {},
   "outputs": [],
   "source": [
    "model = tf.keras.Sequential([\n",
    "    tf.keras.layers.Dense(20, activation='relu', input_shape=(len(Data.columns), )),\n",
    "    tf.keras.layers.Dense(20, activation='relu'),\n",
    "    tf.keras.layers.Dense(2, activation='softmax')\n",
    "])\n",
    "\n",
    "model.compile(optimizer='adam', loss='sparse_categorical_crossentropy', metrics=['accuracy'])\n",
    "model.summary()"
   ]
  },
  {
   "cell_type": "code",
   "execution_count": null,
   "metadata": {},
   "outputs": [],
   "source": [
    "model.fit(train_Data, train_target, batch_size = 100, validation_split = 0.3, epochs=500, verbose=1)"
   ]
  },
  {
   "cell_type": "code",
   "execution_count": null,
   "metadata": {},
   "outputs": [],
   "source": [
    "window_size = 20\n",
    "X_Data = pd.Panel({'index{}'.format(i+1) : Data[Data.columns[1:42]].iloc[i:i+window_size].reset_index(drop=True) for i in range(len(Data)-window_size)})\n",
    "X_Data.shape"
   ]
  },
  {
   "cell_type": "code",
   "execution_count": null,
   "metadata": {},
   "outputs": [],
   "source": [
    "aa = list(Data['Stage1.Output.Measurement0.U.Setpoint'][Data['Stage1.Output.Measurement2.U.Actual']<=5].index)\n",
    "bb = list(Data['Stage1.Output.Measurement0.U.Setpoint'][Data['Stage1.Output.Measurement2.U.Actual']>=15].index)\n",
    "cc = aa+bb\n",
    "\n",
    "yy = [[1,0] for i in range(len(X_Data))]\n",
    "for i in range(len(cc)):\n",
    "    yy[cc[i]] = [0,1]\n",
    "    \n",
    "yy = np.array(yy)\n",
    "print(yy.shape)\n",
    "\n",
    "yy = yy[window_size:]"
   ]
  },
  {
   "cell_type": "code",
   "execution_count": null,
   "metadata": {},
   "outputs": [],
   "source": [
    "Y_train = yy[:10000]"
   ]
  },
  {
   "cell_type": "code",
   "execution_count": null,
   "metadata": {},
   "outputs": [],
   "source": [
    "Y_Data = Data[Data.columns[42:44]].iloc[window_size*2:].reset_index(drop=True)\n",
    "Y_Data.shape"
   ]
  },
  {
   "cell_type": "code",
   "execution_count": null,
   "metadata": {},
   "outputs": [],
   "source": [
    "import numpy as np\n",
    "X_Data = np.array(X_Data).reshape(14068,20,41,1)\n",
    "X_Data.shape"
   ]
  },
  {
   "cell_type": "code",
   "execution_count": null,
   "metadata": {},
   "outputs": [],
   "source": [
    "X_train = X_Data[:10000]\n",
    "Y_Data = np.array(Y_Data)\n",
    "Y_train = Y_Data[:10000]\n",
    "print(X_train.shape)\n",
    "print(Y_train.shape)"
   ]
  },
  {
   "cell_type": "code",
   "execution_count": null,
   "metadata": {},
   "outputs": [],
   "source": [
    "window_size = 40\n",
    "\n",
    "def makedataset(Data):\n",
    "    \n",
    "    x_data = pd.Panel({'index{}'.format(i+1) : Data[Data.columns[1:42]].iloc[i:i+window_size].reset_index(drop=True) for i in range(len(Data)-window_size)})\n",
    "    y_data = Data[Data.columns[42:46]].iloc[window_size:].reset_index(drop=True)\n",
    "    \n",
    "    return x_data, y_data\n",
    "\n",
    "Data_X, Data_Y = makedataset(Data)"
   ]
  },
  {
   "cell_type": "code",
   "execution_count": null,
   "metadata": {},
   "outputs": [],
   "source": [
    "def basic_cnn():\n",
    "    model = Sequential()\n",
    "    # dense layer with 50 neurons\n",
    "    model.add(Dense(20,input_dim=5, activation = 'tanh'))\n",
    "    model.add(Dense(20, activation = 'tanh'))\n",
    "    # final layer with 10 neurons to classify the instances\n",
    "    model.add(Dense(1))\n",
    "\n",
    "    adam = optimizers.Adam(lr = 0.001)\n",
    "    model.compile(loss = 'mean_squared_error', optimizer = adam)\n",
    "\n",
    "    return model\n",
    "\n",
    "model = basic_cnn()\n",
    "model.summary()"
   ]
  },
  {
   "cell_type": "code",
   "execution_count": null,
   "metadata": {},
   "outputs": [],
   "source": [
    "history = model.fit(All_Data[All_Data.columns[:-1]].iloc[:250], All_Data[All_Data.columns[-1:]].iloc[:250], batch_size = 50, validation_split = 0, epochs = 500, verbose = 1)"
   ]
  },
  {
   "cell_type": "code",
   "execution_count": 256,
   "metadata": {},
   "outputs": [
    {
     "name": "stdout",
     "output_type": "stream",
     "text": [
      "Model: \"sequential_18\"\n",
      "_________________________________________________________________\n",
      "Layer (type)                 Output Shape              Param #   \n",
      "=================================================================\n",
      "conv2d_68 (Conv2D)           (None, 100, 41, 50)       500       \n",
      "_________________________________________________________________\n",
      "activation_68 (Activation)   (None, 100, 41, 50)       0         \n",
      "_________________________________________________________________\n",
      "conv2d_69 (Conv2D)           (None, 100, 41, 50)       22550     \n",
      "_________________________________________________________________\n",
      "activation_69 (Activation)   (None, 100, 41, 50)       0         \n",
      "_________________________________________________________________\n",
      "max_pooling2d_34 (MaxPooling (None, 50, 20, 50)        0         \n",
      "_________________________________________________________________\n",
      "conv2d_70 (Conv2D)           (None, 50, 20, 50)        22550     \n",
      "_________________________________________________________________\n",
      "activation_70 (Activation)   (None, 50, 20, 50)        0         \n",
      "_________________________________________________________________\n",
      "conv2d_71 (Conv2D)           (None, 50, 20, 50)        22550     \n",
      "_________________________________________________________________\n",
      "activation_71 (Activation)   (None, 50, 20, 50)        0         \n",
      "_________________________________________________________________\n",
      "max_pooling2d_35 (MaxPooling (None, 25, 10, 50)        0         \n",
      "_________________________________________________________________\n",
      "conv2d_72 (Conv2D)           (None, 25, 10, 50)        22550     \n",
      "_________________________________________________________________\n",
      "activation_72 (Activation)   (None, 25, 10, 50)        0         \n",
      "_________________________________________________________________\n",
      "conv2d_73 (Conv2D)           (None, 25, 10, 50)        22550     \n",
      "_________________________________________________________________\n",
      "activation_73 (Activation)   (None, 25, 10, 50)        0         \n",
      "_________________________________________________________________\n",
      "max_pooling2d_36 (MaxPooling (None, 12, 5, 50)         0         \n",
      "_________________________________________________________________\n",
      "conv2d_74 (Conv2D)           (None, 12, 5, 50)         22550     \n",
      "_________________________________________________________________\n",
      "activation_74 (Activation)   (None, 12, 5, 50)         0         \n",
      "_________________________________________________________________\n",
      "conv2d_75 (Conv2D)           (None, 12, 5, 50)         22550     \n",
      "_________________________________________________________________\n",
      "activation_75 (Activation)   (None, 12, 5, 50)         0         \n",
      "_________________________________________________________________\n",
      "max_pooling2d_37 (MaxPooling (None, 6, 2, 50)          0         \n",
      "_________________________________________________________________\n",
      "flatten_7 (Flatten)          (None, 600)               0         \n",
      "_________________________________________________________________\n",
      "dense_86 (Dense)             (None, 10)                6010      \n",
      "_________________________________________________________________\n",
      "dense_87 (Dense)             (None, 6)                 66        \n",
      "=================================================================\n",
      "Total params: 164,426\n",
      "Trainable params: 164,426\n",
      "Non-trainable params: 0\n",
      "_________________________________________________________________\n"
     ]
    }
   ],
   "source": [
    "from tensorflow.keras.models import Sequential\n",
    "from tensorflow.keras import optimizers\n",
    "from tensorflow.keras.layers import Dense, Activation, Flatten, Conv2D, MaxPooling2D\n",
    "\n",
    "\n",
    "\n",
    "def basic_cnn():\n",
    "    model = Sequential()\n",
    "\n",
    "    model.add(Conv2D(input_shape = (X_train.shape[1], X_train.shape[2],X_train.shape[3]), filters = 50, kernel_size = (3,3), strides = (1,1), padding = 'same'))\n",
    "    model.add(Activation('relu'))\n",
    "    model.add(Conv2D(filters=50, kernel_size=(3,3), strides=(1,1), padding='same'))\n",
    "    model.add(Activation('relu'))\n",
    "    model.add(MaxPooling2D(pool_size = (2,2)))\n",
    "    \n",
    "    model.add(Conv2D(filters=50, kernel_size=(3,3), strides=(1,1), padding='same'))\n",
    "    model.add(Activation('relu'))\n",
    "    model.add(Conv2D(filters=50, kernel_size=(3,3), strides=(1,1), padding='same'))\n",
    "    model.add(Activation('relu'))\n",
    "    model.add(MaxPooling2D(pool_size = (2,2)))\n",
    "    \n",
    "    model.add(Conv2D(filters=50, kernel_size=(3,3), strides=(1,1), padding='same'))\n",
    "    model.add(Activation('relu'))\n",
    "    model.add(Conv2D(filters=50, kernel_size=(3,3), strides=(1,1), padding='same'))\n",
    "    model.add(Activation('relu'))\n",
    "    model.add(MaxPooling2D(pool_size = (2,2)))\n",
    "    \n",
    "    model.add(Conv2D(filters=50, kernel_size=(3,3), strides=(1,1), padding='same'))\n",
    "    model.add(Activation('relu'))\n",
    "    model.add(Conv2D(filters=50, kernel_size=(3,3), strides=(1,1), padding='same'))\n",
    "    model.add(Activation('relu'))\n",
    "    model.add(MaxPooling2D(pool_size = (2,2)))\n",
    "\n",
    "\n",
    "    # prior layer should be flattend to be connected to dense layers\n",
    "    model.add(Flatten())\n",
    "    # dense layer with 50 neurons\n",
    "    model.add(Dense(10, activation = 'elu'))\n",
    "#     model.add(Dense(4, activation = 'elu'))\n",
    "#     model.add(Dense(2, activation = 'elu'))\n",
    "    # final layer with 10 neurons to classify the instances\n",
    "    model.add(Dense(6))\n",
    "\n",
    "    adam = optimizers.Adam(lr = 0.001)\n",
    "    model.compile(loss = 'mean_squared_error', optimizer = adam)\n",
    "\n",
    "    return model\n",
    "\n",
    "model = basic_cnn()\n",
    "model.summary()"
   ]
  },
  {
   "cell_type": "code",
   "execution_count": 257,
   "metadata": {
    "scrolled": true
   },
   "outputs": [
    {
     "name": "stdout",
     "output_type": "stream",
     "text": [
      "Train on 9000 samples, validate on 1000 samples\n",
      "Epoch 1/10\n",
      "9000/9000 [==============================] - 8s 936us/sample - loss: 0.8247 - val_loss: 1.8026\n",
      "Epoch 2/10\n",
      "9000/9000 [==============================] - 7s 768us/sample - loss: 0.7376 - val_loss: 1.9703\n",
      "Epoch 3/10\n",
      "9000/9000 [==============================] - 7s 772us/sample - loss: 0.6557 - val_loss: 1.9769\n",
      "Epoch 4/10\n",
      "9000/9000 [==============================] - 7s 773us/sample - loss: 0.5527 - val_loss: 1.8236\n",
      "Epoch 5/10\n",
      "9000/9000 [==============================] - 7s 775us/sample - loss: 0.4814 - val_loss: 1.9088\n",
      "Epoch 6/10\n",
      "9000/9000 [==============================] - 7s 776us/sample - loss: 0.4302 - val_loss: 1.8946\n",
      "Epoch 7/10\n",
      "9000/9000 [==============================] - 7s 778us/sample - loss: 0.3988 - val_loss: 1.8776\n",
      "Epoch 8/10\n",
      "9000/9000 [==============================] - 7s 779us/sample - loss: 0.3798 - val_loss: 1.8632\n",
      "Epoch 9/10\n",
      "9000/9000 [==============================] - 7s 781us/sample - loss: 0.3655 - val_loss: 1.9047\n",
      "Epoch 10/10\n",
      "9000/9000 [==============================] - 7s 779us/sample - loss: 0.3723 - val_loss: 1.8902\n"
     ]
    }
   ],
   "source": [
    "history = model.fit(X_train, Y_train, batch_size = 500, validation_split = 0.1, epochs = 10, verbose = 1)"
   ]
  },
  {
   "cell_type": "code",
   "execution_count": null,
   "metadata": {},
   "outputs": [],
   "source": [
    "import tensorflow.keras.backend as K\n",
    "from tensorflow.python.framework import ops\n",
    "\n",
    "def generate_grad_cam(img_tensor, model, class_index, activation_layer):\n",
    "    \"\"\"\n",
    "    params:\n",
    "    -------\n",
    "    img_tensor: resnet50 모델의 이미지 전처리를 통한 image tensor\n",
    "    model: pretrained resnet50 모델 (include_top=True)\n",
    "    class_index: 이미지넷 정답 레이블\n",
    "    activation_layer: 시각화하려는 레이어 이름\n",
    "\n",
    "    return:\n",
    "    grad_cam: grad_cam 히트맵\n",
    "    \"\"\"\n",
    "    inp = model.input\n",
    "    y_c = model.output.op.inputs[0][0, class_index]\n",
    "    A_k = model.get_layer(activation_layer).output\n",
    "    \n",
    "    ## 이미지 텐서를 입력해서\n",
    "    ## 해당 액티베이션 레이어의 아웃풋(a_k)과\n",
    "    ## 소프트맥스 함수 인풋의 a_k에 대한 gradient를 구한다.\n",
    "    get_output = K.function([inp], [A_k, K.gradients(y_c, A_k)[0], model.output])\n",
    "    [conv_output, grad_val, model_output] = get_output([img_tensor])\n",
    "\n",
    "    ## 배치 사이즈가 1이므로 배치 차원을 없앤다.\n",
    "    conv_output = conv_output[0]\n",
    "    grad_val = grad_val[0]\n",
    "    \n",
    "    ## 구한 gradient를 픽셀 가로세로로 평균내서 a^c_k를 구한다.\n",
    "    weights = np.mean(grad_val, axis=(0, 1))\n",
    "    \n",
    "    ## 추출한 conv_output에 weight를 곱하고 합하여 grad_cam을 얻는다.\n",
    "    grad_cam = np.zeros(dtype=np.float32, shape=conv_output.shape[0:2])\n",
    "    for k, w in enumerate(weights):\n",
    "        grad_cam += w * conv_output[:, :, k]\n",
    "    \n",
    "    grad_cam = cv2.resize(grad_cam, (224, 224))\n",
    "\n",
    "    ## ReLU를 씌워 음수를 0으로 만든다.\n",
    "    grad_cam = np.maximum(grad_cam, 0)\n",
    "\n",
    "    grad_cam = grad_cam / grad_cam.max()\n",
    "    return grad_cam\n",
    "\n",
    "generate_grad_cam(X_Data[0],model,[67,1], \"max_pooling2d_3\")"
   ]
  },
  {
   "cell_type": "code",
   "execution_count": 258,
   "metadata": {},
   "outputs": [
    {
     "data": {
      "text/html": [
       "<div>\n",
       "<style scoped>\n",
       "    .dataframe tbody tr th:only-of-type {\n",
       "        vertical-align: middle;\n",
       "    }\n",
       "\n",
       "    .dataframe tbody tr th {\n",
       "        vertical-align: top;\n",
       "    }\n",
       "\n",
       "    .dataframe thead th {\n",
       "        text-align: right;\n",
       "    }\n",
       "</style>\n",
       "<table border=\"1\" class=\"dataframe\">\n",
       "  <thead>\n",
       "    <tr style=\"text-align: right;\">\n",
       "      <th></th>\n",
       "      <th>Pred1</th>\n",
       "      <th>Pred2</th>\n",
       "      <th>Pred3</th>\n",
       "      <th>Pred4</th>\n",
       "      <th>Pred5</th>\n",
       "      <th>Pred6</th>\n",
       "    </tr>\n",
       "  </thead>\n",
       "  <tbody>\n",
       "    <tr>\n",
       "      <th>0</th>\n",
       "      <td>0.631857</td>\n",
       "      <td>-0.286669</td>\n",
       "      <td>0.109358</td>\n",
       "      <td>0.007476</td>\n",
       "      <td>-0.180588</td>\n",
       "      <td>0.699855</td>\n",
       "    </tr>\n",
       "    <tr>\n",
       "      <th>1</th>\n",
       "      <td>0.495430</td>\n",
       "      <td>-0.266115</td>\n",
       "      <td>-0.051082</td>\n",
       "      <td>-0.125315</td>\n",
       "      <td>-0.285313</td>\n",
       "      <td>0.513818</td>\n",
       "    </tr>\n",
       "    <tr>\n",
       "      <th>2</th>\n",
       "      <td>-0.070881</td>\n",
       "      <td>0.011295</td>\n",
       "      <td>0.133186</td>\n",
       "      <td>-0.455743</td>\n",
       "      <td>-0.091630</td>\n",
       "      <td>1.328394</td>\n",
       "    </tr>\n",
       "    <tr>\n",
       "      <th>3</th>\n",
       "      <td>0.217974</td>\n",
       "      <td>0.370401</td>\n",
       "      <td>0.118294</td>\n",
       "      <td>-0.589813</td>\n",
       "      <td>-0.582301</td>\n",
       "      <td>2.215344</td>\n",
       "    </tr>\n",
       "    <tr>\n",
       "      <th>4</th>\n",
       "      <td>0.395385</td>\n",
       "      <td>0.238709</td>\n",
       "      <td>0.317650</td>\n",
       "      <td>-0.615474</td>\n",
       "      <td>-0.300683</td>\n",
       "      <td>2.786088</td>\n",
       "    </tr>\n",
       "  </tbody>\n",
       "</table>\n",
       "</div>"
      ],
      "text/plain": [
       "      Pred1     Pred2     Pred3     Pred4     Pred5     Pred6\n",
       "0  0.631857 -0.286669  0.109358  0.007476 -0.180588  0.699855\n",
       "1  0.495430 -0.266115 -0.051082 -0.125315 -0.285313  0.513818\n",
       "2 -0.070881  0.011295  0.133186 -0.455743 -0.091630  1.328394\n",
       "3  0.217974  0.370401  0.118294 -0.589813 -0.582301  2.215344\n",
       "4  0.395385  0.238709  0.317650 -0.615474 -0.300683  2.786088"
      ]
     },
     "execution_count": 258,
     "metadata": {},
     "output_type": "execute_result"
    }
   ],
   "source": [
    "aa = pd.DataFrame(model.predict(X_Data),columns=['Pred1','Pred2','Pred3','Pred4','Pred5','Pred6'])\n",
    "aa.head()"
   ]
  },
  {
   "cell_type": "code",
   "execution_count": 101,
   "metadata": {},
   "outputs": [
    {
     "data": {
      "text/plain": [
       "Text(0.5, 1.0, 'Iron Concentration (%)')"
      ]
     },
     "execution_count": 101,
     "metadata": {},
     "output_type": "execute_result"
    },
    {
     "data": {
      "image/png": "[encoded data removed]",
      "text/plain": [
       "<Figure size 432x288 with 1 Axes>"
      ]
     },
     "metadata": {
      "needs_background": "light"
     },
     "output_type": "display_data"
    }
   ],
   "source": [
    "plt.gca().set_aspect('equal')\n",
    "plt.scatter(Y_Data[:,0]*1.118645 + 65.05068,aa[aa.columns[0]]*1.118645 + 65.05068,s=10,color='blue')\n",
    "plt.plot([60,70],[60,70],color='k',linewidth=1.5)\n",
    "plt.axis([60,70,60,70])\n",
    "plt.grid(True)\n",
    "\n",
    "plt.xlabel('ANN')\n",
    "plt.ylabel('Measured')\n",
    "plt.title('Iron Concentration (%)')\n",
    "# plt.scatter(Y_Data[:,1],aa[aa.columns[1]])"
   ]
  },
  {
   "cell_type": "code",
   "execution_count": 105,
   "metadata": {},
   "outputs": [
    {
     "data": {
      "text/plain": [
       "Text(0.5, 1.0, 'Iron Concentration (%)')"
      ]
     },
     "execution_count": 105,
     "metadata": {},
     "output_type": "execute_result"
    },
    {
     "data": {
      "image/png": "[encoded data removed]",
      "text/plain": [
       "<Figure size 432x288 with 1 Axes>"
      ]
     },
     "metadata": {
      "needs_background": "light"
     },
     "output_type": "display_data"
    }
   ],
   "source": [
    "plt.gca().set_aspect('equal')\n",
    "plt.scatter(Y_Data[:,1]*2.326763 + 1.125554,aa[aa.columns[1]]*2.326763 + 1.125554,s=10,color='blue')\n",
    "# plt.plot([60,70],[60,70],color='k',linewidth=1.5)\n",
    "# plt.axis([60,70,60,70])\n",
    "plt.grid(True)\n",
    "\n",
    "plt.xlabel('ANN')\n",
    "plt.ylabel('Measured')\n",
    "plt.title('Iron Concentration (%)')\n",
    "# plt.scatter(Y_Data[:,1],aa[aa.columns[1]])"
   ]
  },
  {
   "cell_type": "code",
   "execution_count": 124,
   "metadata": {},
   "outputs": [
    {
     "data": {
      "text/plain": [
       "98.97488031881082"
      ]
     },
     "execution_count": 124,
     "metadata": {},
     "output_type": "execute_result"
    }
   ],
   "source": [
    "def ARE(D,M):\n",
    "    return (1 - abs((D - M)/D)).mean()*100\n",
    "\n",
    "ARE(stz_Data[stz_Data.columns[-2]]*1.118645+65.050068,aa[aa.columns[0]]*1.118645+65.050068)"
   ]
  },
  {
   "cell_type": "code",
   "execution_count": 138,
   "metadata": {},
   "outputs": [
    {
     "data": {
      "text/plain": [
       "0.4058390085924082"
      ]
     },
     "execution_count": 138,
     "metadata": {},
     "output_type": "execute_result"
    }
   ],
   "source": [
    "def RMSE(D,N):\n",
    "    return (((D - N)**2).mean())**0.5\n",
    "\n",
    "RMSE(Y_Data[:,1]*1.125554 + 2.326763,aa[aa.columns[1]]*1.125554 + 2.326763)"
   ]
  },
  {
   "cell_type": "code",
   "execution_count": 120,
   "metadata": {},
   "outputs": [
    {
     "data": {
      "text/plain": [
       "Text(0.5, 1.0, 'FCNN algorithm')"
      ]
     },
     "execution_count": 120,
     "metadata": {},
     "output_type": "execute_result"
    },
    {
     "data": {
      "image/png": "[encoded data removed]",
      "text/plain": [
       "<Figure size 432x288 with 1 Axes>"
      ]
     },
     "metadata": {
      "needs_background": "light"
     },
     "output_type": "display_data"
    }
   ],
   "source": [
    "(stz_Data[stz_Data.columns[-2]] - aa[aa.columns[0]]).hist(bins=20,label='Iron')\n",
    "(stz_Data[stz_Data.columns[-1]] - aa[aa.columns[1]]).hist(bins=20,label='Silica')\n",
    "plt.legend()\n",
    "plt.xlabel('error (actual - model)')\n",
    "plt.ylabel('frequency')\n",
    "plt.title('FCNN algorithm')"
   ]
  },
  {
   "cell_type": "code",
   "execution_count": 28,
   "metadata": {},
   "outputs": [
    {
     "data": {
      "text/plain": [
       "Text(0.5, 1.0, 'Iron Concentration (%)')"
      ]
     },
     "execution_count": 28,
     "metadata": {},
     "output_type": "execute_result"
    },
    {
     "data": {
      "image/png": "[encoded data removed]",
      "text/plain": [
       "<Figure size 432x288 with 1 Axes>"
      ]
     },
     "metadata": {
      "needs_background": "light"
     },
     "output_type": "display_data"
    }
   ],
   "source": [
    "plt.gca().set_aspect('equal')\n",
    "plt.scatter(Y_Data[:,0],aa[aa.columns[0]],s=10,color='blue')\n",
    "# plt.plot([0,10],[0,10],color='k',linewidth=1.5)\n",
    "# plt.axis([0,10,0,10])\n",
    "plt.grid(True)\n",
    "\n",
    "plt.xlabel('ANN')\n",
    "plt.ylabel('Measured')\n",
    "plt.title('Iron Concentration (%)')"
   ]
  },
  {
   "cell_type": "code",
   "execution_count": null,
   "metadata": {},
   "outputs": [],
   "source": [
    "# x = np.linspace(1,10,100)\n",
    "# y = x**2 + 1 \n",
    "\n",
    "# a = pd.DataFrame()\n",
    "# a['X'] = x\n",
    "# a['Y'] = y\n",
    "# a\n",
    "# window_size = 10\n",
    "# X_Data = pd.Panel({'index{}'.format(i+1) : a.iloc[i:i+window_size].reset_index(drop=True) for i in range(len(a) - window_size)})\n",
    "# X_Data = np.array(X_Data).reshape(90,10,2,1)\n",
    "plt.gca().set_aspect('equal')\n",
    "plt.scatter(All_Data['Dsm/R'].iloc[:250],np.array(model.predict(All_Data[All_Data.columns[:-1]].iloc[:250]).flatten()),color='blue',s=10,label='train data')\n",
    "plt.scatter(All_Data['Dsm/R'].iloc[250:],np.array(model.predict(All_Data[All_Data.columns[:-1]].iloc[250:]).flatten()),color='red',s=10,label='extra data')\n",
    "plt.plot([-2,3],[-2,3],color='k')\n",
    "\n",
    "plt.axis([-2,3,-2,3])\n",
    "plt.grid(True)\n",
    "plt.legend()"
   ]
  },
  {
   "cell_type": "code",
   "execution_count": null,
   "metadata": {},
   "outputs": [],
   "source": [
    "plt.plot(x[10:],y[10:],color='k',linewidth=2,label='actual    $y = x^2 + 1$')\n",
    "plt.scatter(x[10:],model.predict(X_Data).flatten(),s=10, color='red',label='Model prediction')\n",
    "plt.grid(True)\n",
    "plt.legend()"
   ]
  },
  {
   "cell_type": "code",
   "execution_count": null,
   "metadata": {},
   "outputs": [],
   "source": [
    "#  model.predict(X_Data)[0][i], \n",
    "plt.plot([i for i in range(len(Y_Data))],Y_Data['Stage1.Output.Measurement2.U.Actual'],label='Manufacturing')\n",
    "plt.plot([i for i in range(len(Y_Data))],aa['output1'],label='Model prediction')\n",
    "plt.legend()"
   ]
  },
  {
   "cell_type": "code",
   "execution_count": null,
   "metadata": {},
   "outputs": [],
   "source": [
    "plt.plot([i for i in range(len(Y_Data))],Y_Data['Stage1.Output.Measurement0.U.Setpoint'],label='Manufacturing')\n",
    "plt.plot([i for i in range(len(Y_Data))],aa['output2'],label='Model prediction')\n",
    "plt.legend()"
   ]
  },
  {
   "cell_type": "code",
   "execution_count": null,
   "metadata": {},
   "outputs": [],
   "source": [
    "plt.plot([i for i in range(len(Y_Data))],Y_Data['Stage1.Output.Measurement1.U.Actual'],label='Manufacturing')\n",
    "plt.plot([i for i in range(len(Y_Data))],aa['output3'],label='Model prediction')\n",
    "plt.legend()"
   ]
  },
  {
   "cell_type": "code",
   "execution_count": null,
   "metadata": {},
   "outputs": [],
   "source": [
    "plt.plot([i for i in range(len(Y_Data))],Y_Data['Stage1.Output.Measurement1.U.Setpoint'],label='Manufacturing')\n",
    "plt.plot([i for i in range(len(Y_Data))],aa['output4'],label='Model prediction')\n",
    "plt.legend()"
   ]
  },
  {
   "cell_type": "code",
   "execution_count": null,
   "metadata": {},
   "outputs": [],
   "source": [
    "plt.plot([i for i in range(len(Y_Data))],Y_Data['Stage1.Output.Measurement2.U.Actual'],label='Manufacturing')\n",
    "plt.plot([i for i in range(len(Y_Data))],aa['output5'],label='Model prediction')\n",
    "plt.legend()"
   ]
  },
  {
   "cell_type": "code",
   "execution_count": null,
   "metadata": {},
   "outputs": [],
   "source": [
    "plt.plot([i for i in range(len(Y_Data))],Y_Data['Stage1.Output.Measurement2.U.Setpoint'],label='Manufacturing')\n",
    "plt.plot([i for i in range(len(Y_Data))],aa['output6'],label='Model prediction')\n",
    "plt.legend()"
   ]
  },
  {
   "cell_type": "code",
   "execution_count": null,
   "metadata": {},
   "outputs": [],
   "source": [
    "def stz(Data):\n",
    "    return (Data - Data.mean())/Data.std()\n",
    "\n",
    "def norm(Data, min_norm=-0.9, max_norm=0.9):\n",
    "    return (Data - Data.min())/(Data.max() - Data.min())*(max_norm - min_norm) + min_norm\n",
    "\n",
    "stz_Data = stz(Data)\n",
    "norm_Data = norm(Data)\n",
    "\n",
    "All_Data = pd.DataFrame()\n",
    "All_Data[Data.columns[0:3]] = norm_Data[Data.columns[0:3]]\n",
    "All_Data[Data.columns[3]] = stz_Data[Data.columns[3]]\n",
    "All_Data[Data.columns[4]] = norm_Data[Data.columns[4]]\n",
    "All_Data[Data.columns[5]] = stz_Data[Data.columns[5]]"
   ]
  },
  {
   "cell_type": "code",
   "execution_count": null,
   "metadata": {},
   "outputs": [],
   "source": [
    "All_Data['dist'] = ((All_Data - All_Data.min())**2).sum(axis=1)\n",
    "\n",
    "All_Data = All_Data.sort_values(['dist'],ascending=True)\n",
    "All_Data['index'] = All_Data.index\n",
    "All_Data = All_Data.reset_index(drop=True)\n",
    "All_Data"
   ]
  },
  {
   "cell_type": "code",
   "execution_count": null,
   "metadata": {},
   "outputs": [],
   "source": [
    "All_Data[All_Data.columns[:-2]].iloc[0:3]\n",
    "All_Data[All_Data.columns[-3]].iloc[3]"
   ]
  },
  {
   "cell_type": "code",
   "execution_count": null,
   "metadata": {},
   "outputs": [],
   "source": [
    "model = Sequential()\n",
    "model.add(Conv2D(32, kernel_size=(2,2), input_shape=(3,6,1), activation='relu',padding='same'))\n",
    "model.add(Conv2D(32, (2,2), activation='relu'))\n",
    "model.add(MaxPooling2D(pool_size= (2, 2)))\n",
    "model.add(Dropout(0.25))\n",
    "model.add(Flatten())\n",
    "model.add(Dense(128, activation='relu'))\n",
    "model.add(Dropout(0.5))\n",
    "model.add(Dense(1))\n",
    "\n",
    "model.compile(loss='mean_squared_error',\n",
    "              optimizer='adam')\n",
    "\n",
    "for epochs in range(100):\n",
    "    model.fit(np.reshape(np.array(All_Data[All_Data.columns[:-2]].iloc[epochs:epochs+3]).reshape(3,6,1), (1,3,6,1)), All_Data[All_Data.columns[-3]].iloc[epochs+3], epochs=1)\n"
   ]
  },
  {
   "cell_type": "code",
   "execution_count": null,
   "metadata": {},
   "outputs": [],
   "source": [
    "import numpy as np\n",
    "np.reshape(np.array(All_Data[All_Data.columns[:-2]].iloc[0:3]).reshape(3,6,1), (1,3,6,1)).shape"
   ]
  },
  {
   "cell_type": "code",
   "execution_count": null,
   "metadata": {},
   "outputs": [],
   "source": [
    "!pip install opencv"
   ]
  },
  {
   "cell_type": "code",
   "execution_count": null,
   "metadata": {},
   "outputs": [],
   "source": [
    "Data = pd.read_csv(r'D:\\Desktop\\현대제철\\steel-plates-fault_csv.csv')\n",
    "\n",
    "def stz(Data):\n",
    "    return (Data - Data.mean())/Data.std()\n",
    "\n",
    "def norm(Data, norm_min=1, norm_max=2):\n",
    "    return (Data - Data.min())/(Data.max() - Data.min())*(norm_max - norm_min) + norm_min\n",
    "\n",
    "Y_Data = Data.pop(Data.columns[-1])\n",
    "Y_Data = Y_Data.replace(1,0)\n",
    "Y_Data = Y_Data.replace(2,1)\n",
    "B_X_Data = Data.iloc[:,[11,12,27,28,29,30,31,32]]\n",
    "F_X_Data = Data.drop(Data.columns[[11,12,27,28,29,30,31,32]],axis=1)\n",
    "\n",
    "stz_F_X_Data = stz(F_X_Data)\n",
    "norm_F_X_Data = norm(stz_F_X_Data)\n",
    "\n",
    "norm_Data = pd.merge(norm_F_X_Data, B_X_Data, left_on=norm_F_X_Data.columns[-1], right_index=True)\n",
    "train_Data = norm_Data.sample(frac=0.7)\n",
    "val_Data = norm_Data.drop(train_Data.index).sample(frac=0.66)\n",
    "test_Data = norm_Data.drop(train_Data.index).drop(val_Data.index)\n",
    "\n",
    "train_target = Y_Data.iloc[train_Data.index]\n",
    "val_target = Y_Data.iloc[val_Data.index]\n",
    "test_target = Y_Data.iloc[test_Data.index]"
   ]
  },
  {
   "cell_type": "code",
   "execution_count": 267,
   "metadata": {},
   "outputs": [
    {
     "name": "stdout",
     "output_type": "stream",
     "text": [
      "Model: \"sequential_19\"\n",
      "_________________________________________________________________\n",
      "Layer (type)                 Output Shape              Param #   \n",
      "=================================================================\n",
      "dense_88 (Dense)             (None, 20)                840       \n",
      "_________________________________________________________________\n",
      "dense_89 (Dense)             (None, 20)                420       \n",
      "_________________________________________________________________\n",
      "dense_90 (Dense)             (None, 20)                420       \n",
      "_________________________________________________________________\n",
      "dense_91 (Dense)             (None, 20)                420       \n",
      "_________________________________________________________________\n",
      "dense_92 (Dense)             (None, 20)                420       \n",
      "_________________________________________________________________\n",
      "dense_93 (Dense)             (None, 20)                420       \n",
      "_________________________________________________________________\n",
      "dense_94 (Dense)             (None, 20)                420       \n",
      "_________________________________________________________________\n",
      "dense_95 (Dense)             (None, 20)                420       \n",
      "_________________________________________________________________\n",
      "dense_96 (Dense)             (None, 2)                 42        \n",
      "=================================================================\n",
      "Total params: 3,822\n",
      "Trainable params: 3,822\n",
      "Non-trainable params: 0\n",
      "_________________________________________________________________\n"
     ]
    }
   ],
   "source": [
    "from tensorflow.keras.models import Sequential\n",
    "from tensorflow.keras import optimizers\n",
    "from tensorflow.keras.layers import Dense, Activation, Flatten, Conv2D, MaxPooling2D\n",
    "\n",
    "model = Sequential([\n",
    "    Dense(20, activation='relu', input_dim=41),\n",
    "    Dense(20, activation='relu'),\n",
    "    Dense(20, activation='relu'),\n",
    "    Dense(20, activation='relu'),\n",
    "    Dense(20, activation='relu'),\n",
    "    Dense(20, activation='relu'),\n",
    "    Dense(20, activation='relu'),\n",
    "    Dense(20, activation='relu'),\n",
    "    Dense(2)\n",
    "])\n",
    "\n",
    "model.compile(optimizer='adam',\n",
    "              loss='mean_squared_error')\n",
    "model.summary()"
   ]
  },
  {
   "cell_type": "code",
   "execution_count": 268,
   "metadata": {},
   "outputs": [
    {
     "name": "stdout",
     "output_type": "stream",
     "text": [
      "Train on 10000 samples\n",
      "Epoch 1/50\n",
      "10000/10000 [==============================] - 3s 257us/sample - loss: 0.6929\n",
      "Epoch 2/50\n",
      "10000/10000 [==============================] - 1s 150us/sample - loss: 0.5815\n",
      "Epoch 3/50\n",
      "10000/10000 [==============================] - 2s 151us/sample - loss: 0.5008\n",
      "Epoch 4/50\n",
      "10000/10000 [==============================] - 2s 164us/sample - loss: 0.4598\n",
      "Epoch 5/50\n",
      "10000/10000 [==============================] - 1s 145us/sample - loss: 0.4173\n",
      "Epoch 6/50\n",
      "10000/10000 [==============================] - 2s 166us/sample - loss: 0.3837\n",
      "Epoch 7/50\n",
      "10000/10000 [==============================] - 2s 150us/sample - loss: 0.3688\n",
      "Epoch 8/50\n",
      "10000/10000 [==============================] - 1s 150us/sample - loss: 0.3751\n",
      "Epoch 9/50\n",
      "10000/10000 [==============================] - 1s 147us/sample - loss: 0.3589\n",
      "Epoch 10/50\n",
      "10000/10000 [==============================] - 1s 147us/sample - loss: 0.3485\n",
      "Epoch 11/50\n",
      "10000/10000 [==============================] - 1s 146us/sample - loss: 0.3349\n",
      "Epoch 12/50\n",
      "10000/10000 [==============================] - 2s 155us/sample - loss: 0.2939\n",
      "Epoch 13/50\n",
      "10000/10000 [==============================] - 1s 146us/sample - loss: 0.2954\n",
      "Epoch 14/50\n",
      "10000/10000 [==============================] - 2s 151us/sample - loss: 0.2612\n",
      "Epoch 15/50\n",
      "10000/10000 [==============================] - 1s 145us/sample - loss: 0.2871\n",
      "Epoch 16/50\n",
      "10000/10000 [==============================] - 2s 160us/sample - loss: 0.2743\n",
      "Epoch 17/50\n",
      "10000/10000 [==============================] - 1s 146us/sample - loss: 0.2657\n",
      "Epoch 18/50\n",
      "10000/10000 [==============================] - 2s 152us/sample - loss: 0.2227\n",
      "Epoch 19/50\n",
      "10000/10000 [==============================] - 1s 148us/sample - loss: 0.2408\n",
      "Epoch 20/50\n",
      "10000/10000 [==============================] - 2s 158us/sample - loss: 0.2196\n",
      "Epoch 21/50\n",
      "10000/10000 [==============================] - 2s 158us/sample - loss: 0.2154\n",
      "Epoch 22/50\n",
      "10000/10000 [==============================] - 2s 157us/sample - loss: 0.1901\n",
      "Epoch 23/50\n",
      "10000/10000 [==============================] - 1s 150us/sample - loss: 0.1866\n",
      "Epoch 24/50\n",
      "10000/10000 [==============================] - 2s 150us/sample - loss: 0.2317\n",
      "Epoch 25/50\n",
      "10000/10000 [==============================] - 2s 167us/sample - loss: 0.2036\n",
      "Epoch 26/50\n",
      "10000/10000 [==============================] - 2s 153us/sample - loss: 0.2037\n",
      "Epoch 27/50\n",
      "10000/10000 [==============================] - 2s 159us/sample - loss: 0.1789\n",
      "Epoch 28/50\n",
      "10000/10000 [==============================] - 2s 158us/sample - loss: 0.1542\n",
      "Epoch 29/50\n",
      "10000/10000 [==============================] - 2s 151us/sample - loss: 0.1657\n",
      "Epoch 30/50\n",
      "10000/10000 [==============================] - 2s 159us/sample - loss: 0.1666\n",
      "Epoch 31/50\n",
      "10000/10000 [==============================] - 2s 156us/sample - loss: 0.2075\n",
      "Epoch 32/50\n",
      "10000/10000 [==============================] - 2s 156us/sample - loss: 0.1990\n",
      "Epoch 33/50\n",
      "10000/10000 [==============================] - 2s 154us/sample - loss: 0.1632\n",
      "Epoch 34/50\n",
      "10000/10000 [==============================] - 2s 158us/sample - loss: 0.1458\n",
      "Epoch 35/50\n",
      "10000/10000 [==============================] - 2s 154us/sample - loss: 0.1382\n",
      "Epoch 36/50\n",
      "10000/10000 [==============================] - 2s 165us/sample - loss: 0.1386\n",
      "Epoch 37/50\n",
      "10000/10000 [==============================] - 2s 158us/sample - loss: 0.1334\n",
      "Epoch 38/50\n",
      "10000/10000 [==============================] - 2s 161us/sample - loss: 0.1761\n",
      "Epoch 39/50\n",
      "10000/10000 [==============================] - 2s 160us/sample - loss: 0.1504\n",
      "Epoch 40/50\n",
      "10000/10000 [==============================] - 2s 167us/sample - loss: 0.1274\n",
      "Epoch 41/50\n",
      "10000/10000 [==============================] - 2s 151us/sample - loss: 0.1436\n",
      "Epoch 42/50\n",
      "10000/10000 [==============================] - 2s 162us/sample - loss: 0.1381\n",
      "Epoch 43/50\n",
      "10000/10000 [==============================] - 1s 148us/sample - loss: 0.1624\n",
      "Epoch 44/50\n",
      "10000/10000 [==============================] - 2s 154us/sample - loss: 0.1429\n",
      "Epoch 45/50\n",
      "10000/10000 [==============================] - 1s 149us/sample - loss: 0.1348\n",
      "Epoch 46/50\n",
      "10000/10000 [==============================] - 1s 149us/sample - loss: 0.1375\n",
      "Epoch 47/50\n",
      "10000/10000 [==============================] - 2s 154us/sample - loss: 0.1846\n",
      "Epoch 48/50\n",
      "10000/10000 [==============================] - 2s 161us/sample - loss: 0.1395\n",
      "Epoch 49/50\n",
      "10000/10000 [==============================] - 2s 151us/sample - loss: 0.1601\n",
      "Epoch 50/50\n",
      "10000/10000 [==============================] - 2s 154us/sample - loss: 0.1222\n"
     ]
    },
    {
     "data": {
      "text/plain": [
       "<tensorflow.python.keras.callbacks.History at 0x188e5914278>"
      ]
     },
     "execution_count": 268,
     "metadata": {},
     "output_type": "execute_result"
    }
   ],
   "source": [
    "model.fit(X_train, Y_train, epochs=50, verbose=1)"
   ]
  },
  {
   "cell_type": "code",
   "execution_count": 269,
   "metadata": {},
   "outputs": [
    {
     "data": {
      "text/html": [
       "<div>\n",
       "<style scoped>\n",
       "    .dataframe tbody tr th:only-of-type {\n",
       "        vertical-align: middle;\n",
       "    }\n",
       "\n",
       "    .dataframe tbody tr th {\n",
       "        vertical-align: top;\n",
       "    }\n",
       "\n",
       "    .dataframe thead th {\n",
       "        text-align: right;\n",
       "    }\n",
       "</style>\n",
       "<table border=\"1\" class=\"dataframe\">\n",
       "  <thead>\n",
       "    <tr style=\"text-align: right;\">\n",
       "      <th></th>\n",
       "      <th>Pred1</th>\n",
       "      <th>Pred2</th>\n",
       "    </tr>\n",
       "  </thead>\n",
       "  <tbody>\n",
       "    <tr>\n",
       "      <th>0</th>\n",
       "      <td>0.494083</td>\n",
       "      <td>0.288964</td>\n",
       "    </tr>\n",
       "    <tr>\n",
       "      <th>1</th>\n",
       "      <td>0.532378</td>\n",
       "      <td>0.301198</td>\n",
       "    </tr>\n",
       "    <tr>\n",
       "      <th>2</th>\n",
       "      <td>0.507559</td>\n",
       "      <td>0.288257</td>\n",
       "    </tr>\n",
       "    <tr>\n",
       "      <th>3</th>\n",
       "      <td>0.477563</td>\n",
       "      <td>0.271463</td>\n",
       "    </tr>\n",
       "    <tr>\n",
       "      <th>4</th>\n",
       "      <td>0.484461</td>\n",
       "      <td>0.263322</td>\n",
       "    </tr>\n",
       "  </tbody>\n",
       "</table>\n",
       "</div>"
      ],
      "text/plain": [
       "      Pred1     Pred2\n",
       "0  0.494083  0.288964\n",
       "1  0.532378  0.301198\n",
       "2  0.507559  0.288257\n",
       "3  0.477563  0.271463\n",
       "4  0.484461  0.263322"
      ]
     },
     "execution_count": 269,
     "metadata": {},
     "output_type": "execute_result"
    }
   ],
   "source": [
    "aa = pd.DataFrame(model.predict(X_data),columns=['Pred1','Pred2'])\n",
    "aa.head()"
   ]
  },
  {
   "cell_type": "code",
   "execution_count": 270,
   "metadata": {},
   "outputs": [
    {
     "data": {
      "image/png": "[encoded data removed]",
      "text/plain": [
       "<Figure size 432x288 with 1 Axes>"
      ]
     },
     "metadata": {
      "needs_background": "light"
     },
     "output_type": "display_data"
    }
   ],
   "source": [
    "plt.scatter([i for i in range(len(Y_Data))],stz_Data2[stz_Data2.columns[43]].iloc[:14088-window_size]*Data2[Data2.columns[43]].std()+Data2[Data2.columns[43]].mean(),s=2,label='Actual')\n",
    "plt.scatter([i for i in range(len(Y_Data))],stz_Data2[stz_Data2.columns[44]].iloc[:14088-window_size]*Data2[Data2.columns[44]].std()+Data2[Data2.columns[44]].mean(),s=1,color='red',label='Setpoint')\n",
    "plt.scatter([i for i in range(len(Y_Data))],aa['Pred1']*Data2[Data2.columns[43]].std()+Data2[Data2.columns[43]].mean(),s=1,label='ANN Prediction')\n",
    "\n",
    "plt.axis([0,14000,-1,25])\n",
    "plt.legend()\n",
    "plt.grid(True)"
   ]
  },
  {
   "cell_type": "code",
   "execution_count": 271,
   "metadata": {},
   "outputs": [
    {
     "data": {
      "image/png": "[encoded data removed]",
      "text/plain": [
       "<Figure size 432x288 with 1 Axes>"
      ]
     },
     "metadata": {
      "needs_background": "light"
     },
     "output_type": "display_data"
    }
   ],
   "source": [
    "plt.scatter([i for i in range(len(Y_Data))],stz_Data2[stz_Data2.columns[45]].iloc[:14088-window_size]*Data2[Data2.columns[45]].std()+Data2[Data2.columns[45]].mean(),s=2,label='Actual')\n",
    "plt.scatter([i for i in range(len(Y_Data))],stz_Data2[stz_Data2.columns[46]].iloc[:14088-window_size]*Data2[Data2.columns[46]].std()+Data2[Data2.columns[46]].mean(),s=1,color='red',label='Setpoint')\n",
    "plt.scatter([i for i in range(len(Y_Data))],aa['Pred2']*Data2[Data2.columns[45]].std()+Data2[Data2.columns[45]].mean(),s=1,label='ANN Prediction')\n",
    "\n",
    "plt.axis([0,14000,10,15])\n",
    "plt.legend()\n",
    "plt.grid(True)"
   ]
  },
  {
   "cell_type": "code",
   "execution_count": 261,
   "metadata": {},
   "outputs": [
    {
     "data": {
      "image/png": "[encoded data removed]",
      "text/plain": [
       "<Figure size 432x288 with 1 Axes>"
      ]
     },
     "metadata": {
      "needs_background": "light"
     },
     "output_type": "display_data"
    }
   ],
   "source": [
    "plt.scatter([i for i in range(len(Y_Data))],stz_Data2[stz_Data2.columns[47]].iloc[:14088-window_size]*Data2[Data2.columns[47]].std()+Data2[Data2.columns[47]].mean(),s=2,label='Actual')\n",
    "plt.scatter([i for i in range(len(Y_Data))],stz_Data2[stz_Data2.columns[48]].iloc[:14088-window_size]*Data2[Data2.columns[48]].std()+Data2[Data2.columns[48]].mean(),s=1,color='red',label='Setpoint')\n",
    "plt.scatter([i for i in range(len(Y_Data))],aa['Pred3']*Data2[Data2.columns[47]].std()+Data2[Data2.columns[47]].mean(),s=1,label='ANN Prediction')\n",
    "\n",
    "plt.axis([0,14000,20,25])\n",
    "plt.legend()\n",
    "plt.grid(True)"
   ]
  },
  {
   "cell_type": "code",
   "execution_count": 262,
   "metadata": {},
   "outputs": [
    {
     "data": {
      "image/png": "[encoded data removed]",
      "text/plain": [
       "<Figure size 432x288 with 1 Axes>"
      ]
     },
     "metadata": {
      "needs_background": "light"
     },
     "output_type": "display_data"
    }
   ],
   "source": [
    "plt.scatter([i for i in range(len(Y_Data))],stz_Data2[stz_Data2.columns[49]].iloc[:14088-window_size]*Data2[Data2.columns[49]].std()+Data2[Data2.columns[49]].mean(),s=2,label='Actual')\n",
    "plt.scatter([i for i in range(len(Y_Data))],stz_Data2[stz_Data2.columns[50]].iloc[:14088-window_size]*Data2[Data2.columns[50]].std()+Data2[Data2.columns[50]].mean(),s=1,color='red',label='Setpoint')\n",
    "plt.scatter([i for i in range(len(Y_Data))],aa['Pred4']*Data2[Data2.columns[49]].std()+Data2[Data2.columns[49]].mean(),s=1,label='ANN Prediction')\n",
    "\n",
    "plt.axis([0,14000,30,35])\n",
    "plt.legend()\n",
    "plt.grid(True)"
   ]
  },
  {
   "cell_type": "code",
   "execution_count": 263,
   "metadata": {},
   "outputs": [
    {
     "data": {
      "image/png": "[encoded data removed]",
      "text/plain": [
       "<Figure size 432x288 with 1 Axes>"
      ]
     },
     "metadata": {
      "needs_background": "light"
     },
     "output_type": "display_data"
    }
   ],
   "source": [
    "plt.scatter([i for i in range(len(Y_Data))],stz_Data2[stz_Data2.columns[51]].iloc[:14088-window_size]*Data2[Data2.columns[51]].std()+Data2[Data2.columns[51]].mean(),s=2,label='Actual')\n",
    "plt.scatter([i for i in range(len(Y_Data))],stz_Data2[stz_Data2.columns[52]].iloc[:14088-window_size]*Data2[Data2.columns[52]].std()+Data2[Data2.columns[52]].mean(),s=1,color='red',label='Setpoint')\n",
    "plt.scatter([i for i in range(len(Y_Data))],aa['Pred5']*Data2[Data2.columns[51]].std()+Data2[Data2.columns[51]].mean(),s=1,label='ANN Prediction')\n",
    "\n",
    "plt.axis([0,14000,-.5,3])\n",
    "plt.legend()\n",
    "plt.grid(True)"
   ]
  },
  {
   "cell_type": "code",
   "execution_count": 264,
   "metadata": {},
   "outputs": [
    {
     "data": {
      "image/png": "[encoded data removed]",
      "text/plain": [
       "<Figure size 432x288 with 1 Axes>"
      ]
     },
     "metadata": {
      "needs_background": "light"
     },
     "output_type": "display_data"
    }
   ],
   "source": [
    "plt.scatter([i for i in range(len(Y_Data))],stz_Data2[stz_Data2.columns[53]].iloc[:14088-window_size]*Data2[Data2.columns[53]].std()+Data2[Data2.columns[53]].mean(),s=2,label='Actual')\n",
    "plt.scatter([i for i in range(len(Y_Data))],stz_Data2[stz_Data2.columns[54]].iloc[:14088-window_size]*Data2[Data2.columns[54]].std()+Data2[Data2.columns[54]].mean(),s=1,color='red',label='Setpoint')\n",
    "plt.scatter([i for i in range(len(Y_Data))],aa['Pred6']*Data2[Data2.columns[53]].std()+Data2[Data2.columns[53]].mean(),s=1,label='ANN Prediction')\n",
    "\n",
    "plt.axis([0,14000,0,5])\n",
    "plt.legend()\n",
    "plt.grid(True)"
   ]
  },
  {
   "cell_type": "code",
   "execution_count": null,
   "metadata": {},
   "outputs": [],
   "source": []
  }
 ],
 "metadata": {
  "kernelspec": {
   "display_name": "Python 3",
   "language": "python",
   "name": "python3"
  },
  "language_info": {
   "codemirror_mode": {
    "name": "ipython",
    "version": 3
   },
   "file_extension": ".py",
   "mimetype": "text/x-python",
   "name": "python",
   "nbconvert_exporter": "python",
   "pygments_lexer": "ipython3",
   "version": "3.5.2"
  }
 },
 "nbformat": 4,
 "nbformat_minor": 2
}
