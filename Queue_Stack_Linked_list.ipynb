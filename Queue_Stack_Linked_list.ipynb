{
  "nbformat": 4,
  "nbformat_minor": 0,
  "metadata": {
    "colab": {
      "name": "Queue_Stack_Linked_list.ipynb",
      "provenance": [],
      "authorship_tag": "ABX9TyPZgrUO0RYtpvZL9GnQAXxa",
      "include_colab_link": true
    },
    "kernelspec": {
      "name": "python3",
      "display_name": "Python 3"
    },
    "language_info": {
      "name": "python"
    }
  },
  "cells": [
    {
      "cell_type": "markdown",
      "metadata": {
        "id": "view-in-github",
        "colab_type": "text"
      },
      "source": [
        "<a href=\"https://colab.research.google.com/github/hpho/tensorflow/blob/master/Queue_Stack_Linked_list.ipynb\" target=\"_parent\"><img src=\"https://colab.research.google.com/assets/colab-badge.svg\" alt=\"Open In Colab\"/></a>"
      ]
    },
    {
      "cell_type": "code",
      "metadata": {
        "id": "LJqippe4mqOl"
      },
      "source": [
        "import queue\n",
        "\n",
        "data_queue = queue.PriorityQueue()"
      ],
      "execution_count": null,
      "outputs": []
    },
    {
      "cell_type": "code",
      "metadata": {
        "colab": {
          "base_uri": "https://localhost:8080/"
        },
        "id": "iOZXz_mknHX1",
        "outputId": "fd482b91-d2ef-4de2-ea57-c3d99b029ab5"
      },
      "source": [
        "data_queue.put((10,\"korea\"))\n",
        "data_queue.put((5,1))\n",
        "data_queue.put((15,\"china\"))\n",
        "\n",
        "data_queue.qsize()\n",
        "\n"
      ],
      "execution_count": null,
      "outputs": [
        {
          "output_type": "execute_result",
          "data": {
            "text/plain": [
              "3"
            ]
          },
          "metadata": {},
          "execution_count": 2
        }
      ]
    },
    {
      "cell_type": "code",
      "metadata": {
        "colab": {
          "base_uri": "https://localhost:8080/"
        },
        "id": "n9Bvb4fznjHJ",
        "outputId": "7e147f3f-abcf-4f64-f9ba-e0664c6f5dc6"
      },
      "source": [
        "data_queue.get()"
      ],
      "execution_count": null,
      "outputs": [
        {
          "output_type": "execute_result",
          "data": {
            "text/plain": [
              "(5, 1)"
            ]
          },
          "metadata": {},
          "execution_count": 3
        }
      ]
    },
    {
      "cell_type": "code",
      "metadata": {
        "colab": {
          "base_uri": "https://localhost:8080/"
        },
        "id": "lUFXOOiBnkMB",
        "outputId": "7f6661c4-f65d-44bd-923f-d1b83847d6f9"
      },
      "source": [
        "data_queue.get()"
      ],
      "execution_count": null,
      "outputs": [
        {
          "output_type": "execute_result",
          "data": {
            "text/plain": [
              "(10, 'korea')"
            ]
          },
          "metadata": {},
          "execution_count": 4
        }
      ]
    },
    {
      "cell_type": "code",
      "metadata": {
        "colab": {
          "base_uri": "https://localhost:8080/"
        },
        "id": "633hruA_nm0A",
        "outputId": "3ae949c5-e653-4ebd-eb0f-a19d9b9d626c"
      },
      "source": [
        "data_queue.qsize()"
      ],
      "execution_count": null,
      "outputs": [
        {
          "output_type": "execute_result",
          "data": {
            "text/plain": [
              "1"
            ]
          },
          "metadata": {},
          "execution_count": 5
        }
      ]
    },
    {
      "cell_type": "code",
      "metadata": {
        "colab": {
          "base_uri": "https://localhost:8080/"
        },
        "id": "4uvUFjHrno3x",
        "outputId": "90368b73-2012-44d6-e048-94fa038cfebd"
      },
      "source": [
        "q_list = []\n",
        "\n",
        "def enqueue_(a,bb):\n",
        "  return a.append(bb)\n",
        "\n",
        "def dequeue_(a):\n",
        "  b = a[0]\n",
        "  a.remove(b)\n",
        "  return b\n",
        "\n",
        "q_list = []\n",
        "enqueue_(q_list,3)\n",
        "dequeue_(q_list)"
      ],
      "execution_count": null,
      "outputs": [
        {
          "output_type": "execute_result",
          "data": {
            "text/plain": [
              "3"
            ]
          },
          "metadata": {},
          "execution_count": 9
        }
      ]
    },
    {
      "cell_type": "code",
      "metadata": {
        "colab": {
          "base_uri": "https://localhost:8080/"
        },
        "id": "0BRhya9fpYkm",
        "outputId": "2edef6f2-55a5-4443-b6ed-deb9c71f99ea"
      },
      "source": [
        "q_list"
      ],
      "execution_count": null,
      "outputs": [
        {
          "output_type": "execute_result",
          "data": {
            "text/plain": [
              "[]"
            ]
          },
          "metadata": {},
          "execution_count": 8
        }
      ]
    },
    {
      "cell_type": "code",
      "metadata": {
        "colab": {
          "base_uri": "https://localhost:8080/"
        },
        "id": "0B_4aemGpcO8",
        "outputId": "c2ab9956-c516-4115-e353-97aa6abff380"
      },
      "source": [
        "#재귀함수\n",
        "def recursive(data):\n",
        "  if data<0:\n",
        "    print('ended')\n",
        "  else:\n",
        "    print(data)\n",
        "    recursive(data-1)\n",
        "    print('returned',data)\n",
        "\n",
        "recursive(4)"
      ],
      "execution_count": null,
      "outputs": [
        {
          "output_type": "stream",
          "name": "stdout",
          "text": [
            "4\n",
            "3\n",
            "2\n",
            "1\n",
            "0\n",
            "ended\n",
            "returned 0\n",
            "returned 1\n",
            "returned 2\n",
            "returned 3\n",
            "returned 4\n"
          ]
        }
      ]
    },
    {
      "cell_type": "code",
      "metadata": {
        "id": "ibwRlNSltEzM"
      },
      "source": [
        "class Node:\n",
        "  def __init__(self,data):\n",
        "    self.data = data\n",
        "    self.next = None"
      ],
      "execution_count": null,
      "outputs": []
    },
    {
      "cell_type": "code",
      "metadata": {
        "id": "QhtJ-EEky0Dc"
      },
      "source": [
        "class Node:\n",
        "  def __init__(self,data,next=None):\n",
        "    self.data = data\n",
        "    self.next = next"
      ],
      "execution_count": null,
      "outputs": []
    },
    {
      "cell_type": "code",
      "metadata": {
        "id": "AC0_kuaWzWWw"
      },
      "source": [
        "node1 = Node(1)\n",
        "node2 = Node(2)\n",
        "node1.next = node2\n",
        "head = node1\n"
      ],
      "execution_count": null,
      "outputs": []
    },
    {
      "cell_type": "code",
      "metadata": {
        "id": "jfLm4IC-zzSf"
      },
      "source": [
        "class Node:\n",
        "  def __init__(self,data,next=None):\n",
        "    self.data = data\n",
        "    self.next = next\n",
        "\n",
        "def add(data):\n",
        "  node = head\n",
        "  while node.next:\n",
        "    node = node.next\n",
        "  node.next = Node(data)"
      ],
      "execution_count": 1,
      "outputs": []
    },
    {
      "cell_type": "code",
      "metadata": {
        "id": "LrCtlKB10mpc"
      },
      "source": [
        "node1 = Node(1)\n",
        "node2 = Node(2)\n",
        "node1.next = node2\n",
        "head = node1\n",
        "for index in range(2,10):\n",
        "  add(index)"
      ],
      "execution_count": 2,
      "outputs": []
    },
    {
      "cell_type": "code",
      "metadata": {
        "colab": {
          "base_uri": "https://localhost:8080/"
        },
        "id": "gJiYmfYt0qDT",
        "outputId": "07ca85c0-3bd7-48f0-90b8-6d1d6c441b8c"
      },
      "source": [
        "node = head\n",
        "while node.next:\n",
        "  print(node.data)\n",
        "  node = node.next\n",
        "print(node.data)"
      ],
      "execution_count": 3,
      "outputs": [
        {
          "output_type": "stream",
          "name": "stdout",
          "text": [
            "1\n",
            "2\n",
            "2\n",
            "3\n",
            "4\n",
            "5\n",
            "6\n",
            "7\n",
            "8\n",
            "9\n"
          ]
        }
      ]
    },
    {
      "cell_type": "code",
      "metadata": {
        "id": "kiWW7c7W1jpL"
      },
      "source": [
        "node3 = Node(1.5)"
      ],
      "execution_count": 4,
      "outputs": []
    },
    {
      "cell_type": "code",
      "metadata": {
        "id": "jhkyVTBTfZ8S"
      },
      "source": [
        "node = head\n",
        "search = True\n",
        "while search:\n",
        "  if node.data == 1:\n",
        "    search = False\n",
        "  else:\n",
        "    node = node.next\n",
        "\n",
        "node_next = node.next\n",
        "node.next = node3\n",
        "node3.next = node_next"
      ],
      "execution_count": 5,
      "outputs": []
    },
    {
      "cell_type": "code",
      "metadata": {
        "colab": {
          "base_uri": "https://localhost:8080/"
        },
        "id": "SjSKsrrMgdJh",
        "outputId": "6e74f1fa-ec79-4adf-b929-799086e66667"
      },
      "source": [
        "node = head\n",
        "while node.next:\n",
        "  print(node.data)\n",
        "  node = node.next\n",
        "print(node.data)"
      ],
      "execution_count": 6,
      "outputs": [
        {
          "output_type": "stream",
          "name": "stdout",
          "text": [
            "1\n",
            "1.5\n",
            "2\n",
            "2\n",
            "3\n",
            "4\n",
            "5\n",
            "6\n",
            "7\n",
            "8\n",
            "9\n"
          ]
        }
      ]
    },
    {
      "cell_type": "code",
      "metadata": {
        "id": "iZJBN8spgf-W"
      },
      "source": [
        "class Node:\n",
        "\n",
        "  def __init__(self,data,next=None):\n",
        "    self.data = data\n",
        "    self.next = next\n",
        "\n",
        "class NodeMgmt:\n",
        "\n",
        "  def __init__(self,data):\n",
        "    self.head = Node(data)\n",
        "  \n",
        "  def add(self,data):\n",
        "    # 방어 코드의 일환\n",
        "    if self.head == '':\n",
        "      self.head = Node(data)\n",
        "    else:\n",
        "      node = self.head\n",
        "      while node.next:\n",
        "        node = node.next\n",
        "      node.next = Node(data)\n",
        "      \n",
        "  def desc(self):\n",
        "    node = self.head\n",
        "    while node:\n",
        "      print(node.data)\n",
        "      node = node.next\n",
        "\n"
      ],
      "execution_count": 7,
      "outputs": []
    },
    {
      "cell_type": "code",
      "metadata": {
        "colab": {
          "base_uri": "https://localhost:8080/"
        },
        "id": "veXA6BWjiDOU",
        "outputId": "10ac1f1f-7e5d-484e-f364-11e5fbecf015"
      },
      "source": [
        "linked_list1 = NodeMgmt(0)\n",
        "linked_list1.desc()"
      ],
      "execution_count": 8,
      "outputs": [
        {
          "output_type": "stream",
          "name": "stdout",
          "text": [
            "0\n"
          ]
        }
      ]
    },
    {
      "cell_type": "code",
      "metadata": {
        "colab": {
          "base_uri": "https://localhost:8080/"
        },
        "id": "CPmPYhU5iJzq",
        "outputId": "c9c641ed-10a7-4e84-a85f-89a7407c3db2"
      },
      "source": [
        "for data in range(1,10):\n",
        "  linked_list1.add(data)\n",
        "linked_list1.desc()"
      ],
      "execution_count": 9,
      "outputs": [
        {
          "output_type": "stream",
          "name": "stdout",
          "text": [
            "0\n",
            "1\n",
            "2\n",
            "3\n",
            "4\n",
            "5\n",
            "6\n",
            "7\n",
            "8\n",
            "9\n"
          ]
        }
      ]
    },
    {
      "cell_type": "code",
      "metadata": {
        "id": "hwh_5EdYikoA"
      },
      "source": [
        ""
      ],
      "execution_count": null,
      "outputs": []
    }
  ]
}