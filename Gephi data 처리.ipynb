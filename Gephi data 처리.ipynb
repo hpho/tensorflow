{
 "cells": [
  {
   "cell_type": "code",
   "execution_count": 4,
   "metadata": {},
   "outputs": [
    {
     "name": "stdout",
     "output_type": "stream",
     "text": [
      "(29, 4)\n",
      "(30, 2)\n"
     ]
    }
   ],
   "source": [
    "import pandas as pd\n",
    "\n",
    "data = pd.read_csv(r'D:\\Desktop\\190305\\csvfile\\new\\새 폴더 (2)\\edge_ing.csv',\n",
    "                   names=['source','target','weight_orig','weight'])\n",
    "\n",
    "data = data[data.weight_orig > 0]\n",
    "\n",
    "print(data.shape)\n",
    "data\n",
    "\n",
    "data.to_csv(r'D:\\Desktop\\190305\\csvfile\\new\\새 폴더 (2)\\edge.csv',\n",
    "           index=False, header=True)\n",
    "\n",
    "data1 = pd.DataFrame()\n",
    "\n",
    "len(data)\n",
    "\n",
    "column_id = []\n",
    "for i in range(len(data)+1):\n",
    "    column_id.append(i+1)\n",
    "\n",
    "column_id\n",
    "\n",
    "data1['id'] = column_id\n",
    "data1['label'] = column_id\n",
    "\n",
    "print(data1.shape)\n",
    "\n",
    "data1.to_csv(r'D:\\Desktop\\190305\\csvfile\\new\\새 폴더 (2)\\node.csv',\n",
    "            header=True,index=False)"
   ]
  },
  {
   "cell_type": "code",
   "execution_count": null,
   "metadata": {},
   "outputs": [],
   "source": []
  }
 ],
 "metadata": {
  "kernelspec": {
   "display_name": "Python 3",
   "language": "python",
   "name": "python3"
  },
  "language_info": {
   "codemirror_mode": {
    "name": "ipython",
    "version": 3
   },
   "file_extension": ".py",
   "mimetype": "text/x-python",
   "name": "python",
   "nbconvert_exporter": "python",
   "pygments_lexer": "ipython3",
   "version": "3.6.7"
  }
 },
 "nbformat": 4,
 "nbformat_minor": 2
}
