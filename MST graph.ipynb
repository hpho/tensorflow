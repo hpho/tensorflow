{
 "cells": [
  {
   "cell_type": "code",
   "execution_count": null,
   "metadata": {},
   "outputs": [],
   "source": [
    "# https://www.fun-coding.org/Chapter20-kruskal-live.html\n",
    "# MST graph python script\n",
    "\n",
    "#import modules\n",
    "import pandas as pd\n",
    "\n",
    "#Data load\n",
    "Data = pd.read_csv(r'./wedge_Re180_Pr07.csv')\n",
    "Data.head()"
   ]
  },
  {
   "cell_type": "code",
   "execution_count": null,
   "metadata": {},
   "outputs": [],
   "source": [
    "#Corr matrix\n",
    "corr_matrix = Data[Data.columns[4:]].corr()\n",
    "\n",
    "#make edge\n",
    "edges = [(corr_matrix[i].loc[j], i, j) for i in corr_matrix.columns for j in corr_matrix.columns if i != j]\n",
    "\n",
    "#define graph\n",
    "graph = {'vertices' : corr_matrix.columns,'edges' : edges}"
   ]
  },
  {
   "cell_type": "code",
   "execution_count": null,
   "metadata": {},
   "outputs": [],
   "source": [
    "#make MST graph\n",
    "parent = dict()\n",
    "rank = dict()\n",
    "\n",
    "\n",
    "def find(node):\n",
    "    # path compression 기법\n",
    "    if parent[node] != node:\n",
    "        parent[node] = find(parent[node])\n",
    "    return parent[node]\n",
    "\n",
    "\n",
    "def union(node_v, node_u):\n",
    "    root1 = find(node_v)\n",
    "    root2 = find(node_u)\n",
    "    \n",
    "    # union-by-rank 기법\n",
    "    if rank[root1] > rank[root2]:\n",
    "        parent[root2] = root1\n",
    "    else:\n",
    "        parent[root1] = root2\n",
    "        if rank[root1] == rank[root2]:\n",
    "            rank[root2] += 1\n",
    "    \n",
    "    \n",
    "def make_set(node):\n",
    "    parent[node] = node\n",
    "    rank[node] = 0\n",
    "\n",
    "def kruskal(graph):\n",
    "    mst = list()\n",
    "    \n",
    "    # 1. 초기화\n",
    "    for node in graph['vertices']:\n",
    "        make_set(node)\n",
    "    \n",
    "    # 2. 간선 weight 기반 sorting\n",
    "    edges = graph['edges']\n",
    "    edges.sort()\n",
    "    \n",
    "    # 3. 간선 연결 (사이클 없는)\n",
    "    for edge in edges:\n",
    "        weight, node_v, node_u = edge\n",
    "        if find(node_v) != find(node_u):\n",
    "            union(node_v, node_u)\n",
    "            mst.append(edge)\n",
    "    \n",
    "    return mst"
   ]
  },
  {
   "cell_type": "code",
   "execution_count": null,
   "metadata": {},
   "outputs": [],
   "source": [
    "mst_graph = kruskal(graph)\n",
    "mst_graph"
   ]
  },
  {
   "cell_type": "code",
   "execution_count": null,
   "metadata": {},
   "outputs": [],
   "source": [
    "mst_graph_dataframe = pd.DataFrame(mst_graph)\n",
    "\n",
    "edge_table = pd.DataFrame()\n",
    "edge_table['source'] = mst_graph_dataframe[1]\n",
    "edge_table['target'] = mst_graph_dataframe[2]\n",
    "edge_table['weight'] = mst_graph_dataframe[0]*1000\n",
    "edge_table.to_csv(r'D:\\Desktop\\190925\\edge_table.csv',header=True,index=False)"
   ]
  },
  {
   "cell_type": "code",
   "execution_count": null,
   "metadata": {},
   "outputs": [],
   "source": [
    "node_table = pd.DataFrame()\n",
    "node_table['id'] = corr_matrix.columns\n",
    "node_table['label'] = corr_matrix.columns\n",
    "node_table.to_csv(r'D:\\Desktop\\190925\\node_table.csv',header=True,index=False)"
   ]
  }
 ],
 "metadata": {
  "kernelspec": {
   "display_name": "Python 3",
   "language": "python",
   "name": "python3"
  },
  "language_info": {
   "codemirror_mode": {
    "name": "ipython",
    "version": 3
   },
   "file_extension": ".py",
   "mimetype": "text/x-python",
   "name": "python",
   "nbconvert_exporter": "python",
   "pygments_lexer": "ipython3",
   "version": "3.5.2"
  }
 },
 "nbformat": 4,
 "nbformat_minor": 2
}
