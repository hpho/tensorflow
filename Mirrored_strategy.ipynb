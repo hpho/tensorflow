{
 "cells": [
  {
   "cell_type": "code",
   "execution_count": 1,
   "metadata": {},
   "outputs": [],
   "source": [
    "from __future__ import absolute_import, division, print_function, unicode_literals\n",
    "\n",
    "import tensorflow_datasets as tfds\n",
    "import tensorflow as tf\n",
    "tfds.disable_progress_bar()\n",
    "\n",
    "import os"
   ]
  },
  {
   "cell_type": "code",
   "execution_count": 2,
   "metadata": {},
   "outputs": [],
   "source": [
    "datasets, info = tfds.load(name='mnist', with_info=True, as_supervised=True)\n",
    "\n",
    "mnist_train, mnist_test = datasets['train'], datasets['test']"
   ]
  },
  {
   "cell_type": "code",
   "execution_count": 3,
   "metadata": {},
   "outputs": [
    {
     "name": "stdout",
     "output_type": "stream",
     "text": [
      "장치의 수:: 1\n"
     ]
    }
   ],
   "source": [
    "strategy = tf.distribute.MirroredStrategy()\n",
    "print('장치의 수:: {}'.format(strategy.num_replicas_in_sync))"
   ]
  },
  {
   "cell_type": "code",
   "execution_count": 4,
   "metadata": {},
   "outputs": [],
   "source": [
    "#입력 파이프라인 구성\n",
    "#데이터셋 내 샘플의 수는 info.splits.total_num_examples 로드\n",
    "#얻을 수 있습니다..\n",
    "\n",
    "num_train_examples = info.splits['train'].num_examples\n",
    "num_test_examples = info.splits['test'].num_examples\n",
    "\n",
    "BUFFER_SIZE = 10000\n",
    "\n",
    "BATCH_SIZE_PER_REPLICA = 64\n",
    "BATCH_SIZE = BATCH_SIZE_PER_REPLICA*strategy.num_replicas_in_sync"
   ]
  },
  {
   "cell_type": "code",
   "execution_count": 5,
   "metadata": {},
   "outputs": [],
   "source": [
    "def scale(image, label):\n",
    "    image = tf.cast(image, tf.float32)\n",
    "    image /= 255\n",
    "    \n",
    "    return image, label"
   ]
  },
  {
   "cell_type": "code",
   "execution_count": 6,
   "metadata": {},
   "outputs": [],
   "source": [
    "train_dataset = mnist_train.map(scale).shuffle(BUFFER_SIZE).batch(BATCH_SIZE)\n",
    "eval_dataset = mnist_test.map(scale).batch(BATCH_SIZE)"
   ]
  },
  {
   "cell_type": "code",
   "execution_count": 7,
   "metadata": {},
   "outputs": [],
   "source": [
    "with strategy.scope():\n",
    "    model = tf.keras.Sequential([\n",
    "        tf.keras.layers.Conv2D(32, 3, activation='relu', input_shape=(28, 28, 1)),\n",
    "        tf.keras.layers.MaxPooling2D(),\n",
    "        tf.keras.layers.Flatten(),\n",
    "        tf.keras.layers.Dense(64, activation='relu'),\n",
    "        tf.keras.layers.Dense(10, activation='softmax')\n",
    "    ])\n",
    "    \n",
    "    model.compile(loss='sparse_categorical_crossentropy',\n",
    "                  optimizer=tf.keras.optimizers.Adam(),\n",
    "                  metrics=['accuracy'])"
   ]
  },
  {
   "cell_type": "code",
   "execution_count": 8,
   "metadata": {},
   "outputs": [],
   "source": [
    "#체크포인트를 저장할 체크포인트 디렉터리를 지정합니다..\n",
    "checkpoint_dir ='./training_checkpoints'\n",
    "#체크포인트 파일의 이름\n",
    "checkpoint_prefix = os.path.join(checkpoint_dir,\"ckpt_{epoch}\")"
   ]
  },
  {
   "cell_type": "code",
   "execution_count": 9,
   "metadata": {},
   "outputs": [],
   "source": [
    "#학습률을 점점 줄이기 위한 함수\n",
    "#필요한 함수를 직접 정의하여 사용할 수 있습니다..\n",
    "def decay(epoch):\n",
    "    if epoch < 3:\n",
    "        return 1e-3\n",
    "    elif epoch >= 3 and epoch < 7:\n",
    "        return 1e-4\n",
    "    else:\n",
    "        return 1e-5"
   ]
  },
  {
   "cell_type": "code",
   "execution_count": 10,
   "metadata": {},
   "outputs": [],
   "source": [
    "class PrintLR(tf.keras.callbacks.Callback):\n",
    "    def on_epoch_end(self, epoch, logs=None):\n",
    "        print('\\n에포크 {}의 학습률은 {}입니다'.format(epoch+1, model.optimizer.lr.numpy()))"
   ]
  },
  {
   "cell_type": "code",
   "execution_count": 13,
   "metadata": {},
   "outputs": [],
   "source": [
    "# tf.keras.callbacks.TensorBoard(log_dir=logdir,histogram_freq=1,profile_batch=3)\n",
    "logdir = os.path.join('./mnist_logs')\n",
    "callbacks = [\n",
    "    tf.keras.callbacks.TensorBoard(log_dir=logdir,histogram_freq=1,profile_batch=10000000),\n",
    "    tf.keras.callbacks.ModelCheckpoint(filepath=checkpoint_prefix, save_weights_only=True),\n",
    "    tf.keras.callbacks.LearningRateScheduler(decay),\n",
    "    PrintLR()\n",
    "]"
   ]
  },
  {
   "cell_type": "code",
   "execution_count": 14,
   "metadata": {},
   "outputs": [
    {
     "name": "stdout",
     "output_type": "stream",
     "text": [
      "Epoch 1/12\n",
      "    938/Unknown - 11s 12ms/step - loss: 0.1915 - accuracy: 0.9453\n",
      "에포크 1의 학습률은 0.0010000000474974513입니다\n",
      "938/938 [==============================] - 11s 12ms/step - loss: 0.1915 - accuracy: 0.9453\n",
      "Epoch 2/12\n",
      "931/938 [============================>.] - ETA: 0s - loss: 0.0678 - accuracy: 0.9791\n",
      "에포크 2의 학습률은 0.0010000000474974513입니다\n",
      "938/938 [==============================] - 9s 9ms/step - loss: 0.0677 - accuracy: 0.9791\n",
      "Epoch 3/12\n",
      "936/938 [============================>.] - ETA: 0s - loss: 0.0485 - accuracy: 0.9854\n",
      "에포크 3의 학습률은 0.0010000000474974513입니다\n",
      "938/938 [==============================] - 9s 10ms/step - loss: 0.0484 - accuracy: 0.9854\n",
      "Epoch 4/12\n",
      "937/938 [============================>.] - ETA: 0s - loss: 0.0271 - accuracy: 0.9926\n",
      "에포크 4의 학습률은 9.999999747378752e-05입니다\n",
      "938/938 [==============================] - 9s 9ms/step - loss: 0.0271 - accuracy: 0.9926\n",
      "Epoch 5/12\n",
      "934/938 [============================>.] - ETA: 0s - loss: 0.0236 - accuracy: 0.9936\n",
      "에포크 5의 학습률은 9.999999747378752e-05입니다\n",
      "938/938 [==============================] - 9s 10ms/step - loss: 0.0237 - accuracy: 0.9935\n",
      "Epoch 6/12\n",
      "929/938 [============================>.] - ETA: 0s - loss: 0.0218 - accuracy: 0.9943\n",
      "에포크 6의 학습률은 9.999999747378752e-05입니다\n",
      "938/938 [==============================] - 10s 10ms/step - loss: 0.0219 - accuracy: 0.9942\n",
      "Epoch 7/12\n",
      "937/938 [============================>.] - ETA: 0s - loss: 0.0201 - accuracy: 0.9950\n",
      "에포크 7의 학습률은 9.999999747378752e-05입니다\n",
      "938/938 [==============================] - 9s 9ms/step - loss: 0.0201 - accuracy: 0.9950\n",
      "Epoch 8/12\n",
      "932/938 [============================>.] - ETA: 0s - loss: 0.0176 - accuracy: 0.9961\n",
      "에포크 8의 학습률은 9.999999747378752e-06입니다\n",
      "938/938 [==============================] - 9s 10ms/step - loss: 0.0176 - accuracy: 0.9961\n",
      "Epoch 9/12\n",
      "932/938 [============================>.] - ETA: 0s - loss: 0.0173 - accuracy: 0.9961\n",
      "에포크 9의 학습률은 9.999999747378752e-06입니다\n",
      "938/938 [==============================] - 9s 10ms/step - loss: 0.0173 - accuracy: 0.9961\n",
      "Epoch 10/12\n",
      "929/938 [============================>.] - ETA: 0s - loss: 0.0171 - accuracy: 0.9961\n",
      "에포크 10의 학습률은 9.999999747378752e-06입니다\n",
      "938/938 [==============================] - 9s 10ms/step - loss: 0.0171 - accuracy: 0.9961\n",
      "Epoch 11/12\n",
      "934/938 [============================>.] - ETA: 0s - loss: 0.0169 - accuracy: 0.9963\n",
      "에포크 11의 학습률은 9.999999747378752e-06입니다\n",
      "938/938 [==============================] - 9s 9ms/step - loss: 0.0169 - accuracy: 0.9963\n",
      "Epoch 12/12\n",
      "930/938 [============================>.] - ETA: 0s - loss: 0.0167 - accuracy: 0.9964\n",
      "에포크 12의 학습률은 9.999999747378752e-06입니다\n",
      "938/938 [==============================] - 9s 10ms/step - loss: 0.0167 - accuracy: 0.9963\n"
     ]
    },
    {
     "data": {
      "text/plain": [
       "<tensorflow.python.keras.callbacks.History at 0x29402c48550>"
      ]
     },
     "execution_count": 14,
     "metadata": {},
     "output_type": "execute_result"
    }
   ],
   "source": [
    "model.fit(train_dataset, epochs=12, callbacks=callbacks)"
   ]
  },
  {
   "cell_type": "code",
   "execution_count": 15,
   "metadata": {},
   "outputs": [
    {
     "name": "stdout",
     "output_type": "stream",
     "text": [
      "checkpoint\n",
      "ckpt_1.data-00000-of-00002\n",
      "ckpt_1.data-00001-of-00002\n",
      "ckpt_1.index\n",
      "ckpt_10.data-00000-of-00002\n",
      "ckpt_10.data-00001-of-00002\n",
      "ckpt_10.index\n",
      "ckpt_11.data-00000-of-00002\n",
      "ckpt_11.data-00001-of-00002\n",
      "ckpt_11.index\n",
      "ckpt_12.data-00000-of-00002\n",
      "ckpt_12.data-00001-of-00002\n",
      "ckpt_12.index\n",
      "ckpt_2.data-00000-of-00002\n",
      "ckpt_2.data-00001-of-00002\n",
      "ckpt_2.index\n",
      "ckpt_3.data-00000-of-00002\n",
      "ckpt_3.data-00001-of-00002\n",
      "ckpt_3.index\n",
      "ckpt_4.data-00000-of-00002\n",
      "ckpt_4.data-00001-of-00002\n",
      "ckpt_4.index\n",
      "ckpt_5.data-00000-of-00002\n",
      "ckpt_5.data-00001-of-00002\n",
      "ckpt_5.index\n",
      "ckpt_6.data-00000-of-00002\n",
      "ckpt_6.data-00001-of-00002\n",
      "ckpt_6.index\n",
      "ckpt_7.data-00000-of-00002\n",
      "ckpt_7.data-00001-of-00002\n",
      "ckpt_7.index\n",
      "ckpt_8.data-00000-of-00002\n",
      "ckpt_8.data-00001-of-00002\n",
      "ckpt_8.index\n",
      "ckpt_9.data-00000-of-00002\n",
      "ckpt_9.data-00001-of-00002\n",
      "ckpt_9.index\n"
     ]
    }
   ],
   "source": [
    "!ls {checkpoint_dir}"
   ]
  },
  {
   "cell_type": "code",
   "execution_count": 16,
   "metadata": {},
   "outputs": [
    {
     "name": "stdout",
     "output_type": "stream",
     "text": [
      "157/157 [==============================] - 2s 15ms/step - loss: 0.0422 - accuracy: 0.9856417 - accu\n",
      "평가 손실: 0.04224347562905828, 평가 정확도: 0.9855999946594238\n"
     ]
    }
   ],
   "source": [
    "model.load_weights(tf.train.latest_checkpoint(checkpoint_dir))\n",
    "eval_loss, eval_acc = model.evaluate(eval_dataset)\n",
    "print('평가 손실: {}, 평가 정확도: {}'.format(eval_loss, eval_acc))"
   ]
  },
  {
   "cell_type": "code",
   "execution_count": 19,
   "metadata": {},
   "outputs": [
    {
     "name": "stdout",
     "output_type": "stream",
     "text": [
      "total 0\n",
      "0 train\n"
     ]
    }
   ],
   "source": [
    "!ls -sh ./logs"
   ]
  },
  {
   "cell_type": "code",
   "execution_count": 20,
   "metadata": {},
   "outputs": [
    {
     "data": {
      "text/plain": [
       "{'test': <_OptionsDataset shapes: ((28, 28, 1), ()), types: (tf.uint8, tf.int64)>,\n",
       " 'train': <_OptionsDataset shapes: ((28, 28, 1), ()), types: (tf.uint8, tf.int64)>}"
      ]
     },
     "execution_count": 20,
     "metadata": {},
     "output_type": "execute_result"
    }
   ],
   "source": [
    "datasets"
   ]
  },
  {
   "cell_type": "code",
   "execution_count": null,
   "metadata": {},
   "outputs": [],
   "source": []
  }
 ],
 "metadata": {
  "kernelspec": {
   "display_name": "Python 3",
   "language": "python",
   "name": "python3"
  },
  "language_info": {
   "codemirror_mode": {
    "name": "ipython",
    "version": 3
   },
   "file_extension": ".py",
   "mimetype": "text/x-python",
   "name": "python",
   "nbconvert_exporter": "python",
   "pygments_lexer": "ipython3",
   "version": "3.5.2"
  }
 },
 "nbformat": 4,
 "nbformat_minor": 2
}
